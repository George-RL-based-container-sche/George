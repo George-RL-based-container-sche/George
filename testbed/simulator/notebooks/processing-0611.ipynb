{
 "cells": [
  {
   "cell_type": "markdown",
   "metadata": {
    "deletable": true,
    "editable": true
   },
   "source": [
    "# Step 1: import npzfile and check info"
   ]
  },
  {
   "cell_type": "code",
   "execution_count": 68,
   "metadata": {
    "ExecuteTime": {
     "end_time": "2019-06-12T11:43:06.458144Z",
     "start_time": "2019-06-12T11:43:06.431065Z"
    },
    "collapsed": false,
    "deletable": true,
    "editable": true
   },
   "outputs": [],
   "source": [
    "import matplotlib.pyplot as plt\n",
    "import numpy as np\n",
    "\n",
    "# npzfile = np.load('../datasets/0611-mms-175.npz')\n",
    "npzfile = np.load('../datasets/0610-com-438.npz')\n",
    "# npzfile = np.load('../datasets/0602-mss-revisit-135-results.npz')\n",
    "# npzfile = np.load('../datasets/0509-com-444-results.npz')\n",
    "# npzfile = np.load('../datasets/0601-mms-48-results.npz')\n",
    "# npzfile = np.load('../datasets/0601-3_4_50cases-results.npz')\n",
    "# npzfile = np.load('../datasets/0509-low-com-210-results.npz')\n",
    "# npzfile = np.load('../datasets/0507-115-1-results.npz')\n",
    "# npzfile = np.load('../datasets/0508-low-1-results.npz')\n",
    "# npzfile = np.load('../datasets/0509-low-110-results.npz')\n",
    "\n",
    "x, y1, y2, y3 = npzfile['alloc'], npzfile['rt_50'], npzfile['rt_99'], npzfile['rps']"
   ]
  },
  {
   "cell_type": "code",
   "execution_count": 69,
   "metadata": {
    "ExecuteTime": {
     "end_time": "2019-06-12T11:43:07.075015Z",
     "start_time": "2019-06-12T11:43:07.068247Z"
    },
    "collapsed": false
   },
   "outputs": [
    {
     "data": {
      "text/plain": [
       "438"
      ]
     },
     "execution_count": 69,
     "metadata": {},
     "output_type": "execute_result"
    }
   ],
   "source": [
    "len(x)"
   ]
  },
  {
   "cell_type": "code",
   "execution_count": 291,
   "metadata": {
    "ExecuteTime": {
     "end_time": "2019-06-11T15:01:19.508189Z",
     "start_time": "2019-06-11T15:01:19.478321Z"
    },
    "collapsed": false,
    "deletable": true,
    "editable": true
   },
   "outputs": [],
   "source": [
    "# npzfile = np.load('../datasets/0602-mss-revisit-135-results.npz') # AC\n",
    "npzfile = np.load('../datasets/0601-mms-48-results.npz') # ACw\n",
    "# npzfile = np.load('../datasets/0509-com-444-results.npz') # 6x0.5s\n",
    "# [0.  0.5 0.  0.  0.  1.5 0.  0.  0. ]\n",
    "# [0.  2.  0.  0.  1.  1.5 0.  0.5 1. ]\n",
    "# [0.  1.  1.5 0.  0.  0.  0.  0.5 1. ]\n",
    "# [0.  1.  0.5 0.  0.  0.  0.  0.5 0. ]\n",
    "# [5.  1.  0.5 0.5 0.  0.  0.  0.  0. ]\n",
    "# [3.  1.  0.5 0.5 0.  0.  2.  0.  0. ]\n",
    "\n",
    "\n",
    "# npzfile = np.load('0601-mms-48-results.npz') # AC\n",
    "\n",
    "# npzfile = np.load('0509-com-325-results.npz') # 4 x 0.5\n",
    "# [0.  0.5 0.  0.  0.  1.5 0.  0.  0. ]\n",
    "# [0.  2.  0.  0.  1.  1.5 0.  0.5 1. ]\n",
    "# [0.  1.  1.5 0.  0.  0.  0.  0.5 1. ]\n",
    "# [0.  1.  0.5 0.  0.  0.  0.  0.5 0. ]\n",
    "\n",
    "# npzfile = np.load('0509-low-com-210-results.npz') # 1 x 0.5\n",
    "# [0.  0.5 0.  0.  0.  1.5 0.  0.  0. ]\n",
    "\n",
    "# npzfile=np.load('0509-low-110-results.npz') # 1 x 0.5\n",
    "# [0.  0.5 0.  0.  0.  1.5 0.  0.  0. ]\n",
    "\n",
    "# npzfile = np.load('0508-low-105-results.npz') # AC\n",
    "\n",
    "# npzfile = np.load('0507-all-110-results.npz') # 3 x 0.5\n",
    "# [0.  2.  0.  0.  1.  1.5 0.  0.5 1. ]\n",
    "# [0.  1.  1.5 0.  0.  0.  0.  0.5 1. ]\n",
    "# [0.  1.  0.5 0.  0.  0.  0.  0.5 0. ]\n",
    "\n",
    "# npzfile = np.load('0507-115-1-results.npz')\n",
    "# 23 [0.0, 2.0, 0.0, 0.0, 1.0, 1.5, 0.0, 0.5, 1.0]\n",
    "# 41 [0.0, 1.0, 1.5, 0.0, 0.0, 0.0, 0.0, 0.5, 1.0]\n",
    "# 98 [0.0, 1.0, 0.5, 0.0, 0.0, 0.0, 0.0, 0.5, 0.0]\n",
    "\n",
    "# npzfile = np.load('0508-low-1-results.npz') # AC\n",
    "\n",
    "# npzfile = np.load('0508-low-2-results.npz') \n",
    "# 41 [0.0, 0.5, 0.0, 0.0, 0.0, 1.5, 0.0, 0.0, 0.0]\n",
    "# 51 [0.0, 1.0, 0.5, 0.0, 0.0, 1.0, 0.0, 0.0, 1.0]\n",
    "\n",
    "x, y1, y2, y3 = npzfile['alloc'], npzfile['rt_50'], npzfile['rt_99'], npzfile['rps']\n",
    "\n",
    "# for item in x:\n",
    "#     if 0.5 in item or 1.5 in item or 2.5 in item or 3.5 in item:\n",
    "#         print(item)"
   ]
  },
  {
   "cell_type": "code",
   "execution_count": 70,
   "metadata": {
    "ExecuteTime": {
     "end_time": "2019-06-12T11:43:12.639299Z",
     "start_time": "2019-06-12T11:43:12.612209Z"
    },
    "collapsed": false,
    "deletable": true,
    "editable": true
   },
   "outputs": [],
   "source": [
    "for counter in range(len(x)):\n",
    "    item = x[counter]\n",
    "    if 0.5 in item or 1.5 in item or 2.5 in item or 3.5 in item or 4.5 in item:\n",
    "        print(counter, list(item), list(y3[counter]))"
   ]
  },
  {
   "cell_type": "code",
   "execution_count": 71,
   "metadata": {
    "ExecuteTime": {
     "end_time": "2019-06-12T11:43:14.396737Z",
     "start_time": "2019-06-12T11:43:14.380300Z"
    },
    "collapsed": false
   },
   "outputs": [
    {
     "data": {
      "text/plain": [
       "(array([0., 1., 0., 0., 1., 0., 0., 0., 2.]),\n",
       " array([nan, 1.445, nan, nan, 3.4, nan, nan, nan, 0.38], dtype=object))"
      ]
     },
     "execution_count": 71,
     "metadata": {},
     "output_type": "execute_result"
    }
   ],
   "source": [
    "x[40],y3[40]"
   ]
  },
  {
   "cell_type": "code",
   "execution_count": 72,
   "metadata": {
    "ExecuteTime": {
     "end_time": "2019-06-12T11:43:16.076345Z",
     "start_time": "2019-06-12T11:43:16.067415Z"
    },
    "collapsed": false,
    "deletable": true,
    "editable": true
   },
   "outputs": [
    {
     "data": {
      "text/plain": [
       "(array([0., 1., 0., 0., 1., 0., 0., 0., 2.]),\n",
       " array([0., 1., 3., 0., 1., 1., 0., 0., 2.]),\n",
       " array([2., 1., 2., 0., 0., 1., 0., 2., 0.]),\n",
       " array([nan, 1.445, nan, nan, 3.4, nan, nan, nan, 0.38], dtype=object),\n",
       " array([nan, 1.09, 3.55, nan, 2.585, 0.1, nan, nan, 0.08], dtype=object),\n",
       " array([1.805, 0.99, 2.875, nan, nan, 1.785, nan, 0.535, nan], dtype=object))"
      ]
     },
     "execution_count": 72,
     "metadata": {},
     "output_type": "execute_result"
    }
   ],
   "source": [
    "(x[40],x[237],x[254],\n",
    "y3[40],y3[237],y3[254])"
   ]
  },
  {
   "cell_type": "code",
   "execution_count": 284,
   "metadata": {
    "ExecuteTime": {
     "end_time": "2019-06-11T14:55:34.361932Z",
     "start_time": "2019-06-11T14:55:34.356877Z"
    },
    "collapsed": false,
    "deletable": true,
    "editable": true
   },
   "outputs": [],
   "source": [
    "def remove_by_indices(list_of_array, indices):\n",
    "    for index in range(len(list_of_array)):\n",
    "        list_of_array[index] = np.delete(list_of_array[index], indices, 0)\n",
    "    return list_of_array"
   ]
  },
  {
   "cell_type": "code",
   "execution_count": 285,
   "metadata": {
    "ExecuteTime": {
     "end_time": "2019-06-11T14:55:34.663237Z",
     "start_time": "2019-06-11T14:55:34.648314Z"
    },
    "collapsed": false,
    "deletable": true,
    "editable": true
   },
   "outputs": [
    {
     "data": {
      "text/plain": [
       "444"
      ]
     },
     "execution_count": 285,
     "metadata": {},
     "output_type": "execute_result"
    }
   ],
   "source": [
    "len(x)"
   ]
  },
  {
   "cell_type": "code",
   "execution_count": 286,
   "metadata": {
    "ExecuteTime": {
     "end_time": "2019-06-11T14:55:35.189500Z",
     "start_time": "2019-06-11T14:55:35.182928Z"
    },
    "collapsed": true,
    "deletable": true,
    "editable": true
   },
   "outputs": [],
   "source": [
    "indices = (41, 238, 256, 313, 422, 423)\n",
    "x, y1, y2, y3 = remove_by_indices([x, y1, y2, y3], indices)"
   ]
  },
  {
   "cell_type": "code",
   "execution_count": 289,
   "metadata": {
    "ExecuteTime": {
     "end_time": "2019-06-11T14:56:01.123329Z",
     "start_time": "2019-06-11T14:56:01.104656Z"
    },
    "collapsed": false,
    "deletable": true,
    "editable": true
   },
   "outputs": [
    {
     "data": {
      "text/plain": [
       "438"
      ]
     },
     "execution_count": 289,
     "metadata": {},
     "output_type": "execute_result"
    }
   ],
   "source": [
    "len(x)"
   ]
  },
  {
   "cell_type": "code",
   "execution_count": 288,
   "metadata": {
    "ExecuteTime": {
     "end_time": "2019-06-11T14:55:52.418635Z",
     "start_time": "2019-06-11T14:55:52.409842Z"
    },
    "collapsed": false,
    "deletable": true,
    "editable": true
   },
   "outputs": [
    {
     "data": {
      "text/plain": [
       "(array([0., 1., 0., 0., 1., 0., 0., 0., 2.]),\n",
       " array([0., 1., 2., 2., 2., 0., 0., 0., 1.]),\n",
       " array([0., 2., 2., 0., 1., 1., 0., 0., 2.]),\n",
       " array([nan, 1.445, nan, nan, 3.4, nan, nan, nan, 0.38], dtype=object),\n",
       " array([nan, 1.115, 2.875, 3.06, 2.76, nan, nan, nan, 1.775], dtype=object),\n",
       " array([nan, 1.185, 3.925, nan, 2.645, 0.1, nan, nan, 0.09], dtype=object))"
      ]
     },
     "execution_count": 288,
     "metadata": {},
     "output_type": "execute_result"
    }
   ],
   "source": [
    "(x[40],x[236],x[252],\n",
    "y3[40],y3[236],y3[252])"
   ]
  },
  {
   "cell_type": "code",
   "execution_count": 290,
   "metadata": {
    "ExecuteTime": {
     "end_time": "2019-06-11T14:57:28.952122Z",
     "start_time": "2019-06-11T14:57:28.940826Z"
    },
    "collapsed": true,
    "deletable": true,
    "editable": true
   },
   "outputs": [],
   "source": [
    "filename='../datasets/0610-combined-438-results-fix_of_444.npz'\n",
    "np.savez(filename,alloc=x,rt_50=y1, rt_99=y2, rps=y3)"
   ]
  },
  {
   "cell_type": "code",
   "execution_count": null,
   "metadata": {
    "collapsed": true,
    "deletable": true,
    "editable": true
   },
   "outputs": [],
   "source": []
  },
  {
   "cell_type": "code",
   "execution_count": null,
   "metadata": {
    "collapsed": true,
    "deletable": true,
    "editable": true
   },
   "outputs": [],
   "source": []
  },
  {
   "cell_type": "code",
   "execution_count": null,
   "metadata": {
    "collapsed": true,
    "deletable": true,
    "editable": true
   },
   "outputs": [],
   "source": []
  },
  {
   "cell_type": "code",
   "execution_count": 9,
   "metadata": {
    "ExecuteTime": {
     "end_time": "2019-06-11T12:09:31.087613Z",
     "start_time": "2019-06-11T12:09:31.083070Z"
    },
    "collapsed": false,
    "deletable": true,
    "editable": true,
    "inputHidden": false,
    "outputHidden": false
   },
   "outputs": [],
   "source": [
    "# npzfile = np.load('0507-all-110-results.npz')\n",
    "# x, y1, y2, y3 = npzfile['alloc'], npzfile['rt_50'], npzfile['rt_99'], npzfile['rps']\n",
    "# npzfile = np.load('0508-low-105-results.npz')\n",
    "# x_, y1_, y2_, y3_ = npzfile['alloc'], npzfile['rt_50'], npzfile['rt_99'], npzfile['rps']\n",
    "\n",
    "# x__ = np.append(x, x_, axis=0)\n",
    "# y1__ = np.append(y1, y1_, axis=0)\n",
    "# y2__ = np.append(y2, y2_, axis=0)\n",
    "# y3__ = np.append(y3, y3_, axis=0)\n",
    "\n",
    "# np.savez('0508-com-215-results.npz',alloc=x__,rt_50=y1__, rt_99=y2__, rps=y3__)"
   ]
  },
  {
   "cell_type": "code",
   "execution_count": 10,
   "metadata": {
    "ExecuteTime": {
     "end_time": "2019-06-11T12:09:31.554883Z",
     "start_time": "2019-06-11T12:09:31.547869Z"
    },
    "collapsed": false,
    "deletable": true,
    "editable": true
   },
   "outputs": [
    {
     "data": {
      "text/plain": [
       "(135, 135, 135, 135)"
      ]
     },
     "execution_count": 10,
     "metadata": {},
     "output_type": "execute_result"
    }
   ],
   "source": [
    "len(x), len(y1), len(y2), len(y3)"
   ]
  },
  {
   "cell_type": "code",
   "execution_count": 11,
   "metadata": {
    "ExecuteTime": {
     "end_time": "2019-06-11T12:09:32.149196Z",
     "start_time": "2019-06-11T12:09:32.143374Z"
    },
    "collapsed": true,
    "deletable": true,
    "editable": true
   },
   "outputs": [],
   "source": [
    "xnew, y1new, y2new, y3new = x, y1, y2, y3"
   ]
  },
  {
   "cell_type": "markdown",
   "metadata": {
    "deletable": true,
    "editable": true
   },
   "source": [
    "------\n",
    "another\n",
    "\n",
    "------"
   ]
  },
  {
   "cell_type": "code",
   "execution_count": 74,
   "metadata": {
    "ExecuteTime": {
     "end_time": "2019-06-12T11:44:48.851591Z",
     "start_time": "2019-06-12T11:44:48.825699Z"
    },
    "collapsed": false,
    "deletable": true,
    "editable": true
   },
   "outputs": [
    {
     "name": "stdout",
     "output_type": "stream",
     "text": [
      "175\n",
      "438\n"
     ]
    }
   ],
   "source": [
    "\n",
    "# npzfile = np.load('../datasets/0602-mss-revisit-135-results.npz') # AC\n",
    "npzfile = np.load('../datasets/0611-mms-175.npz')\n",
    "xnew, y1new, y2new, y3new = npzfile['alloc'], npzfile['rt_50'], npzfile['rt_99'], npzfile['rps']\n",
    "print(len(xnew))\n",
    "\n",
    "# npzfile = np.load('../datasets/0509-com-444-results.npz')\n",
    "npzfile = np.load('../datasets/0610-com-438.npz')\n",
    "xori, y1ori, y2ori, y3ori = npzfile['alloc'], npzfile['rt_50'], npzfile['rt_99'], npzfile['rps']\n",
    "print(len(xori))"
   ]
  },
  {
   "cell_type": "code",
   "execution_count": 76,
   "metadata": {
    "ExecuteTime": {
     "end_time": "2019-06-12T11:44:55.691153Z",
     "start_time": "2019-06-12T11:44:55.650948Z"
    },
    "collapsed": false,
    "deletable": true,
    "editable": true
   },
   "outputs": [],
   "source": [
    "def ndarray_match(x1, x2, as_int=True, verbose=0):\n",
    "    if as_int:\n",
    "        x1=x1.astype(int)\n",
    "        x2=x2.astype(int)\n",
    "    list_x1=x1.tolist()\n",
    "    list_x2=x2.tolist()\n",
    "    \n",
    "    match_dict={}\n",
    "    for x1_index in range(len(list_x1)):\n",
    "        item = list_x1[x1_index]\n",
    "        try:\n",
    "            x2_index = list_x2.index(item)\n",
    "            if verbose:\n",
    "                print(\"x1[{}]==x2[{}]\".format(x1_index, x2_index))\n",
    "            match_dict[x1_index] = x2_index\n",
    "        except ValueError:\n",
    "            pass\n",
    "    return match_dict\n",
    "\n",
    "def display_matched_items(x1, x2, y1, y2, top=None):\n",
    "    match_dict = ndarray_match(x1, x2)\n",
    "    try:\n",
    "        match_dict_items = list(match_dict.items())[:top]\n",
    "    except:\n",
    "        match_dict_items = match_dict.items()\n",
    "    for (i,j) in match_dict_items:\n",
    "        print(x1[i],x2[j])\n",
    "        print(y1[i])\n",
    "        print(y2[j])\n",
    "        print()\n"
   ]
  },
  {
   "cell_type": "code",
   "execution_count": 77,
   "metadata": {
    "ExecuteTime": {
     "end_time": "2019-06-12T11:45:24.208178Z",
     "start_time": "2019-06-12T11:45:24.149016Z"
    },
    "collapsed": false,
    "deletable": true,
    "editable": true
   },
   "outputs": [
    {
     "name": "stdout",
     "output_type": "stream",
     "text": [
      "x1[2]==x2[109]\n",
      "x1[6]==x2[7]\n",
      "x1[10]==x2[112]\n",
      "x1[13]==x2[226]\n",
      "x1[27]==x2[121]\n",
      "x1[28]==x2[20]\n",
      "x1[33]==x2[26]\n",
      "x1[38]==x2[27]\n",
      "x1[40]==x2[28]\n",
      "x1[48]==x2[31]\n",
      "x1[53]==x2[128]\n",
      "x1[54]==x2[129]\n",
      "x1[60]==x2[132]\n",
      "x1[64]==x2[42]\n",
      "x1[65]==x2[25]\n",
      "x1[76]==x2[140]\n",
      "x1[79]==x2[141]\n",
      "x1[80]==x2[51]\n",
      "x1[82]==x2[89]\n",
      "x1[83]==x2[53]\n",
      "x1[87]==x2[54]\n",
      "x1[88]==x2[145]\n",
      "x1[89]==x2[276]\n",
      "x1[90]==x2[148]\n",
      "x1[95]==x2[155]\n",
      "x1[96]==x2[60]\n",
      "x1[102]==x2[161]\n",
      "x1[103]==x2[65]\n",
      "x1[104]==x2[162]\n",
      "x1[105]==x2[163]\n",
      "x1[106]==x2[169]\n",
      "x1[107]==x2[71]\n",
      "x1[111]==x2[72]\n",
      "x1[112]==x2[172]\n",
      "x1[115]==x2[174]\n",
      "x1[119]==x2[175]\n",
      "x1[124]==x2[177]\n",
      "x1[125]==x2[76]\n",
      "x1[126]==x2[179]\n",
      "x1[128]==x2[77]\n",
      "x1[134]==x2[190]\n",
      "x1[135]==x2[14]\n",
      "x1[136]==x2[83]\n",
      "x1[140]==x2[84]\n",
      "x1[143]==x2[88]\n",
      "x1[147]==x2[90]\n",
      "x1[148]==x2[196]\n",
      "x1[151]==x2[197]\n",
      "x1[152]==x2[326]\n",
      "x1[154]==x2[93]\n",
      "x1[155]==x2[199]\n",
      "x1[157]==x2[200]\n",
      "x1[160]==x2[202]\n",
      "x1[163]==x2[205]\n",
      "x1[165]==x2[2]\n",
      "x1[172]==x2[22]\n",
      "x1[173]==x2[212]\n"
     ]
    }
   ],
   "source": [
    "match_dict=ndarray_match(xnew, xori, 0, 1)"
   ]
  },
  {
   "cell_type": "code",
   "execution_count": 78,
   "metadata": {
    "ExecuteTime": {
     "end_time": "2019-06-12T11:46:04.056210Z",
     "start_time": "2019-06-12T11:46:04.047892Z"
    },
    "collapsed": false,
    "deletable": true,
    "editable": true
   },
   "outputs": [
    {
     "data": {
      "text/plain": [
       "[[175, 175, 175, 175], [438, 438, 438, 438], [57]]"
      ]
     },
     "execution_count": 78,
     "metadata": {},
     "output_type": "execute_result"
    }
   ],
   "source": [
    "[[len(xnew), len(y1new), len(y2new), len(y3new)],\n",
    "[len(xori), len(y1ori), len(y2ori), len(y3ori)],\n",
    "[len(match_dict)]]"
   ]
  },
  {
   "cell_type": "code",
   "execution_count": 79,
   "metadata": {
    "ExecuteTime": {
     "end_time": "2019-06-12T11:46:57.314676Z",
     "start_time": "2019-06-12T11:46:57.216753Z"
    },
    "collapsed": false,
    "deletable": true,
    "editable": true,
    "scrolled": false
   },
   "outputs": [
    {
     "name": "stdout",
     "output_type": "stream",
     "text": [
      "[1. 1. 0. 1. 0. 0. 0. 0. 1.] [1. 1. 0. 1. 0. 0. 0. 0. 1.]\n",
      "[1.785 1.005 nan 3.77 nan nan nan nan 2.405]\n",
      "[2.19 1.395 nan 4.52 nan nan nan nan 4.46]\n",
      "\n",
      "[0. 1. 0. 1. 0. 1. 1. 0. 0.] [0. 1. 0. 1. 0. 1. 1. 0. 0.]\n",
      "[nan 1.01 nan 3.575 nan 0.135 0.595 nan nan]\n",
      "[nan 1.415 nan 4.225 nan 0.17 0.64 nan nan]\n",
      "\n",
      "[1. 1. 0. 1. 0. 0. 0. 1. 0.] [1. 1. 0. 1. 0. 0. 0. 1. 0.]\n",
      "[1.89 0.94 nan 3.59 nan nan nan 0.82 nan]\n",
      "[2.19 1.335 nan 4.19 nan nan nan 0.72 nan]\n",
      "\n",
      "[0. 1. 1. 0. 1. 1. 0. 1. 0.] [0. 1. 1. 0. 1. 1. 0. 1. 0.]\n",
      "[nan 0.895 3.665 nan 2.88 1.455 nan 0.81 nan]\n",
      "[nan 1.105 3.105 nan 3.375 0.14 nan 0.725 nan]\n",
      "\n",
      "[0. 1. 0. 1. 0. 0. 0. 0. 1.] [0. 1. 0. 1. 0. 0. 0. 0. 1.]\n",
      "[nan 0.945 nan 3.67 nan nan nan nan 0.665]\n",
      "[nan 1.435 nan 4.115 nan nan nan nan 4.6]\n",
      "\n",
      "[0. 1. 1. 0. 1. 0. 0. 0. 1.] [0. 1. 1. 0. 1. 0. 0. 0. 1.]\n",
      "[nan 1.055 4.47 nan 2.97 nan nan nan 0.94]\n",
      "[nan 1.415 4.23 nan 3.33 nan nan nan 5.305]\n",
      "\n",
      "[0. 1. 0. 0. 1. 1. 1. 0. 0.] [0. 1. 0. 0. 1. 1. 1. 0. 0.]\n",
      "[nan 1.235 nan nan 3.005 1.47 0.62 nan nan]\n",
      "[nan 1.405 nan nan 3.4 0.17 0.64 nan nan]\n",
      "\n",
      "[0. 1. 1. 0. 1. 0. 0. 1. 0.] [0. 1. 1. 0. 1. 0. 0. 1. 0.]\n",
      "[nan 1.03 4.39 nan 2.945 nan nan 0.82 nan]\n",
      "[nan 1.36 4.18 nan 3.375 nan nan 0.725 nan]\n",
      "\n",
      "[0. 1. 0. 1. 1. 0. 1. 0. 0.] [0. 1. 0. 1. 1. 0. 1. 0. 0.]\n",
      "[nan 0.965 nan 3.37 3.0 nan 0.615 nan nan]\n",
      "[nan 1.405 nan 5.435 3.385 nan 0.63 nan nan]\n",
      "\n",
      "[0. 1. 0. 1. 1. 1. 0. 0. 0.] [0. 1. 0. 1. 1. 1. 0. 0. 0.]\n",
      "[nan 0.955 nan 3.525 2.945 1.42 nan nan nan]\n",
      "[nan 1.415 nan 4.215 3.37 0.125 nan nan nan]\n",
      "\n",
      "[1. 1. 0. 0. 1. 0. 0. 0. 1.] [1. 1. 0. 0. 1. 0. 0. 0. 1.]\n",
      "[2.07 1.21 nan nan 2.98 nan nan nan 2.31]\n",
      "[2.21 1.41 nan nan 3.355 nan nan nan 4.67]\n",
      "\n",
      "[1. 1. 0. 0. 1. 0. 0. 1. 0.] [1. 1. 0. 0. 1. 0. 0. 1. 0.]\n",
      "[2.07 1.22 nan nan 2.99 nan nan 0.82 nan]\n",
      "[2.205 1.38 nan nan 3.39 nan nan 0.71 nan]\n",
      "\n",
      "[0. 1. 0. 0. 1. 0. 0. 0. 1.] [0. 1. 0. 0. 1. 0. 0. 0. 1.]\n",
      "[nan 1.21 nan nan 2.955 nan nan nan 2.39]\n",
      "[nan 1.445 nan nan 3.365 nan nan nan 4.625]\n",
      "\n",
      "[0. 1. 1. 1. 0. 0. 0. 1. 0.] [0. 1. 1. 1. 0. 0. 0. 1. 0.]\n",
      "[nan 0.775 4.145 3.43 nan nan nan 0.8 nan]\n",
      "[nan 1.355 4.18 5.405 nan nan nan 0.735 nan]\n",
      "\n",
      "[0. 1. 0. 0. 1. 0. 0. 1. 0.] [0. 1. 0. 0. 1. 0. 0. 1. 0.]\n",
      "[nan 1.225 nan nan 2.98 nan nan 0.82 nan]\n",
      "[nan 1.345 nan nan 3.385 nan nan 0.72 nan]\n",
      "\n",
      "[2. 1. 0. 0. 0. 0. 1. 0. 0.] [2. 1. 0. 0. 0. 0. 1. 0. 0.]\n",
      "[2.07 1.245 nan nan nan nan 0.63 nan nan]\n",
      "[2.215 1.395 nan nan nan nan 0.635 nan nan]\n",
      "\n",
      "[1. 1. 1. 0. 1. 0. 0. 0. 0.] [1. 1. 1. 0. 1. 0. 0. 0. 0.]\n",
      "[2.045 1.035 4.49 nan 2.96 nan nan nan nan]\n",
      "[2.21 1.39 4.245 nan 3.385 nan nan nan nan]\n",
      "\n",
      "[0. 1. 0. 0. 1. 0. 1. 0. 1.] [0. 1. 0. 0. 1. 0. 1. 0. 1.]\n",
      "[nan 1.225 nan nan 2.975 nan 0.62 nan 0.675]\n",
      "[nan 1.515 nan nan 3.395 nan 0.63 nan 3.515]\n",
      "\n",
      "[0. 1. 0. 0. 1. 1. 0. 0. 0.] [0. 1. 0. 0. 1. 1. 0. 0. 0.]\n",
      "[nan 1.26 nan nan 2.985 0.07 nan nan nan]\n",
      "[nan 1.43 nan nan 3.39 0.12 nan nan nan]\n",
      "\n",
      "[0. 1. 1. 1. 0. 1. 0. 0. 0.] [0. 1. 1. 1. 0. 1. 0. 0. 0.]\n",
      "[nan 0.82 4.16 3.51 nan 0.21 nan nan nan]\n",
      "[nan 1.395 4.195 3.93 nan 1.87 nan nan nan]\n",
      "\n",
      "[0. 1. 1. 1. 0. 0. 1. 0. 0.] [0. 1. 1. 1. 0. 0. 1. 0. 0.]\n",
      "[nan 0.79 4.025 3.445 nan nan 0.605 nan nan]\n",
      "[nan 1.4 4.85 4.245 nan nan 0.64 nan nan]\n",
      "\n",
      "[0. 1. 0. 0. 1. 0. 1. 0. 0.] [0. 1. 0. 0. 1. 0. 1. 0. 0.]\n",
      "[nan 1.22 nan nan 2.99 nan 0.625 nan nan]\n",
      "[nan 1.405 nan nan 3.39 nan 0.635 nan nan]\n",
      "\n",
      "[0. 1. 0. 0. 1. 0. 1. 1. 0.] [0. 1. 0. 0. 1. 0. 1. 1. 0.]\n",
      "[nan 1.24 nan nan 2.995 nan 0.62 0.82 nan]\n",
      "[nan 1.37 nan nan 3.385 nan 0.635 0.74 nan]\n",
      "\n",
      "[1. 1. 1. 1. 0. 0. 0. 0. 0.] [1. 1. 1. 1. 0. 0. 0. 0. 0.]\n",
      "[2.0 0.8 4.21 3.45 nan nan nan nan nan]\n",
      "[2.19 1.335 4.215 4.21 nan nan nan nan nan]\n",
      "\n",
      "[0. 1. 0. 0. 2. 0. 0. 0. 0.] [0. 1. 0. 0. 2. 0. 0. 0. 0.]\n",
      "[nan 1.25 nan nan 2.98 nan nan nan nan]\n",
      "[nan 1.455 nan nan 3.4 nan nan nan nan]\n",
      "\n",
      "[0. 1. 1. 1. 1. 0. 0. 0. 0.] [0. 1. 1. 1. 1. 0. 0. 0. 0.]\n",
      "[nan 0.78 4.165 3.53 2.945 nan nan nan nan]\n",
      "[nan 1.375 4.23 4.215 3.365 nan nan nan nan]\n",
      "\n",
      "[3. 1. 0. 0. 0. 0. 0. 0. 0.] [3. 1. 0. 0. 0. 0. 0. 0. 0.]\n",
      "[2.07 1.24 nan nan nan nan nan nan nan]\n",
      "[2.21 1.44 nan nan nan nan nan nan nan]\n",
      "\n",
      "[0. 1. 0. 1. 1. 0. 0. 1. 0.] [0. 1. 0. 1. 1. 0. 0. 1. 0.]\n",
      "[nan 0.925 nan 3.495 2.99 nan nan 0.8 nan]\n",
      "[nan 1.36 nan 4.205 3.365 nan nan 0.72 nan]\n",
      "\n",
      "[1. 1. 0. 1. 0. 0. 0. 0. 0.] [1. 1. 0. 1. 0. 0. 0. 0. 0.]\n",
      "[2.07 0.955 nan 3.655 nan nan nan nan nan]\n",
      "[2.2 1.45 nan 4.265 nan nan nan nan nan]\n",
      "\n",
      "[1. 1. 2. 0. 0. 0. 0. 0. 0.] [1. 1. 2. 0. 0. 0. 0. 0. 0.]\n",
      "[2.02 0.875 4.33 nan nan nan nan nan nan]\n",
      "[2.2 1.385 4.59 nan nan nan nan nan nan]\n",
      "\n",
      "[1. 1. 0. 0. 1. 0. 0. 0. 0.] [1. 1. 0. 0. 1. 0. 0. 0. 0.]\n",
      "[2.08 1.24 nan nan 2.98 nan nan nan nan]\n",
      "[2.21 1.415 nan nan 3.405 nan nan nan nan]\n",
      "\n",
      "[0. 1. 0. 1. 1. 0. 0. 0. 1.] [0. 1. 0. 1. 1. 0. 0. 0. 1.]\n",
      "[nan 0.96 nan 3.545 2.9 nan nan nan 1.475]\n",
      "[nan 1.37 nan 4.22 3.35 nan nan nan 4.51]\n",
      "\n",
      "[0. 1. 0. 1. 0. 0. 1. 0. 1.] [0. 1. 0. 1. 0. 0. 1. 0. 1.]\n",
      "[nan 0.98 nan 3.635 nan nan 0.605 nan 2.035]\n",
      "[nan 1.385 nan 4.225 nan nan 0.63 nan 4.48]\n",
      "\n",
      "[0. 1. 1. 0. 1. 0. 0. 0. 0.] [0. 1. 1. 0. 1. 0. 0. 0. 0.]\n",
      "[nan 1.07 4.49 nan 2.965 nan nan nan nan]\n",
      "[nan 1.4 4.8 nan 3.38 nan nan nan nan]\n",
      "\n",
      "[1. 1. 0. 0. 1. 1. 0. 0. 0.] [1. 1. 0. 0. 1. 1. 0. 0. 0.]\n",
      "[2.08 1.215 nan nan 2.97 0.07 nan nan nan]\n",
      "[2.205 1.415 nan nan 3.395 0.16 nan nan nan]\n",
      "\n",
      "[1. 1. 0. 0. 1. 0. 1. 0. 0.] [1. 1. 0. 0. 1. 0. 1. 0. 0.]\n",
      "[2.075 1.215 nan nan 2.995 nan 0.625 nan nan]\n",
      "[2.21 1.445 nan nan 3.4 nan 0.63 nan nan]\n",
      "\n",
      "[0. 1. 1. 1. 0. 0. 0. 0. 0.] [0. 1. 1. 1. 0. 0. 0. 0. 0.]\n",
      "[nan 0.79 4.225 3.54 nan nan nan nan nan]\n",
      "[nan 1.41 4.77 4.225 nan nan nan nan nan]\n",
      "\n",
      "[0. 1. 0. 1. 0. 0. 1. 1. 0.] [0. 1. 0. 1. 0. 0. 1. 1. 0.]\n",
      "[nan 0.945 nan 3.44 nan nan 0.625 0.82 nan]\n",
      "[nan 1.315 nan 4.29 nan nan 0.63 0.72 nan]\n",
      "\n",
      "[0. 1. 0. 1. 1. 0. 0. 0. 0.] [0. 1. 0. 1. 1. 0. 0. 0. 0.]\n",
      "[nan 0.97 nan 3.635 2.985 nan nan nan nan]\n",
      "[nan 1.405 nan 4.225 3.39 nan nan nan nan]\n",
      "\n",
      "[0. 1. 1. 0. 2. 0. 0. 0. 0.] [0. 1. 1. 0. 2. 0. 0. 0. 0.]\n",
      "[nan 1.03 4.43 nan 2.95 nan nan nan nan]\n",
      "[nan 1.375 6.16 nan 3.39 nan nan nan nan]\n",
      "\n",
      "[0. 1. 0. 2. 0. 0. 0. 0. 0.] [0. 1. 0. 2. 0. 0. 0. 0. 0.]\n",
      "[nan 0.755 nan 3.335 nan nan nan nan nan]\n",
      "[nan 1.355 nan 4.225 nan nan nan nan nan]\n",
      "\n",
      "[0. 1. 0. 1. 0. 1. 0. 0. 0.] [0. 1. 0. 1. 0. 1. 0. 0. 0.]\n",
      "[nan 1.005 nan 3.615 nan 1.395 nan nan nan]\n",
      "[nan 1.355 nan 4.25 nan 0.21 nan nan nan]\n",
      "\n",
      "[0. 1. 1. 0. 1. 1. 0. 0. 0.] [0. 1. 1. 0. 1. 1. 0. 0. 0.]\n",
      "[nan 1.06 4.455 nan 2.94 1.46 nan nan nan]\n",
      "[nan 1.39 5.79 nan 3.285 1.85 nan nan nan]\n",
      "\n",
      "[0. 1. 0. 0. 1. 1. 0. 0. 1.] [0. 1. 0. 0. 1. 1. 0. 0. 1.]\n",
      "[nan 1.23 nan nan 2.97 0.04 nan nan 0.085]\n",
      "[nan 1.45 nan nan 3.41 0.13 nan nan 0.15]\n",
      "\n",
      "[0. 2. 1. 1. 0. 0. 0. 0. 0.] [0. 2. 1. 1. 0. 0. 0. 0. 0.]\n",
      "[nan 1.065 4.195 3.505 nan nan nan nan nan]\n",
      "[nan 1.39 5.835 4.19 nan nan nan nan nan]\n",
      "\n",
      "[0. 1. 1. 0. 1. 0. 1. 0. 0.] [0. 1. 1. 0. 1. 0. 1. 0. 0.]\n",
      "[nan 1.035 4.45 nan 2.95 nan 0.62 nan nan]\n",
      "[nan 1.405 5.43 nan 3.38 nan 0.64 nan nan]\n",
      "\n",
      "[0. 1. 0. 1. 0. 0. 1. 0. 0.] [0. 1. 0. 1. 0. 0. 1. 0. 0.]\n",
      "[nan 1.0 nan 3.685 nan nan 0.615 nan nan]\n",
      "[nan 1.42 nan 5.64 nan nan 0.64 nan nan]\n",
      "\n",
      "[1. 1. 0. 1. 0. 1. 0. 0. 0.] [1. 1. 0. 1. 0. 1. 0. 0. 0.]\n",
      "[2.035 0.985 nan 3.77 nan 0.07 nan nan nan]\n",
      "[2.205 1.39 nan 7.635 nan 0.23 nan nan nan]\n",
      "\n",
      "[1. 1. 3. 3. 0. 0. 0. 0. 0.] [1. 1. 3. 3. 0. 0. 0. 0. 0.]\n",
      "[1.75 0.245 2.53 2.405 nan nan nan nan nan]\n",
      "[1.75 1.025 3.02 3.515 nan nan nan nan nan]\n",
      "\n",
      "[0. 1. 0. 1. 0. 1. 0. 0. 1.] [0. 1. 0. 1. 0. 1. 0. 0. 1.]\n",
      "[nan 0.94 nan 3.475 nan 1.215 nan nan 1.915]\n",
      "[nan 1.4 nan 5.475 nan 0.12 nan nan 0.145]\n",
      "\n",
      "[0. 2. 0. 0. 1. 0. 0. 0. 0.] [0. 2. 0. 0. 1. 0. 0. 0. 0.]\n",
      "[nan 1.23 nan nan 2.985 nan nan nan nan]\n",
      "[nan 1.47 nan nan 3.4 nan nan nan nan]\n",
      "\n",
      "[0. 2. 0. 1. 0. 0. 0. 0. 0.] [0. 2. 0. 1. 0. 0. 0. 0. 0.]\n",
      "[nan 1.245 nan 3.6 nan nan nan nan nan]\n",
      "[nan 1.38 nan 6.07 nan nan nan nan nan]\n",
      "\n",
      "[1. 1. 0. 1. 0. 0. 1. 0. 0.] [1. 1. 0. 1. 0. 0. 1. 0. 0.]\n",
      "[1.92 0.955 nan 3.75 nan nan 0.605 nan nan]\n",
      "[2.2 1.435 nan 4.22 nan nan 0.635 nan nan]\n",
      "\n",
      "[1. 1. 0. 1. 1. 0. 0. 0. 0.] [1. 1. 0. 1. 1. 0. 0. 0. 0.]\n",
      "[1.895 1.0 nan 3.565 2.97 nan nan nan nan]\n",
      "[2.2 1.415 nan 4.225 3.38 nan nan nan nan]\n",
      "\n",
      "[0. 1. 0. 1. 0. 0. 0. 0. 0.] [0. 1. 0. 1. 0. 0. 0. 0. 0.]\n",
      "[nan 0.995 nan 3.395 nan nan nan nan nan]\n",
      "[nan 1.44 nan 4.21 nan nan nan nan nan]\n",
      "\n",
      "[0. 1. 0. 0. 1. 0. 0. 0. 0.] [0. 1. 0. 0. 1. 0. 0. 0. 0.]\n",
      "[nan 1.23 nan nan 2.985 nan nan nan nan]\n",
      "[nan 1.435 nan nan 3.39 nan nan nan nan]\n",
      "\n",
      "[1. 1. 0. 2. 0. 0. 0. 0. 0.] [1. 1. 0. 2. 0. 0. 0. 0. 0.]\n",
      "[1.94 0.755 nan 3.33 nan nan nan nan nan]\n",
      "[2.195 1.36 nan 4.215 nan nan nan nan nan]\n",
      "\n"
     ]
    }
   ],
   "source": [
    "display_matched_items(xnew, xori, y3new, y3ori)"
   ]
  },
  {
   "cell_type": "code",
   "execution_count": 145,
   "metadata": {
    "ExecuteTime": {
     "end_time": "2019-06-11T13:54:06.019781Z",
     "start_time": "2019-06-11T13:54:06.000536Z"
    },
    "collapsed": false,
    "deletable": true,
    "editable": true
   },
   "outputs": [
    {
     "data": {
      "text/plain": [
       "[(4, 4),\n",
       " (11, 99),\n",
       " (12, 4),\n",
       " (14, 328),\n",
       " (15, 328),\n",
       " (28, 296),\n",
       " (36, 23),\n",
       " (38, 296),\n",
       " (40, 293),\n",
       " (42, 23),\n",
       " (50, 23),\n",
       " (51, 326),\n",
       " (68, 328),\n",
       " (82, 293),\n",
       " (96, 99),\n",
       " (105, 293),\n",
       " (122, 99),\n",
       " (124, 337),\n",
       " (127, 4)]"
      ]
     },
     "execution_count": 145,
     "metadata": {},
     "output_type": "execute_result"
    }
   ],
   "source": [
    "list(match_dict.items())[:None]"
   ]
  },
  {
   "cell_type": "code",
   "execution_count": 183,
   "metadata": {
    "ExecuteTime": {
     "end_time": "2019-06-11T14:05:48.705019Z",
     "start_time": "2019-06-11T14:05:48.698104Z"
    },
    "collapsed": false,
    "deletable": true,
    "editable": true
   },
   "outputs": [
    {
     "data": {
      "text/plain": [
       "(array([1, 3]),)"
      ]
     },
     "execution_count": 183,
     "metadata": {},
     "output_type": "execute_result"
    }
   ],
   "source": [
    "np.where(xori[1]>0)"
   ]
  },
  {
   "cell_type": "code",
   "execution_count": 190,
   "metadata": {
    "ExecuteTime": {
     "end_time": "2019-06-11T14:07:19.878617Z",
     "start_time": "2019-06-11T14:07:19.646005Z"
    },
    "collapsed": false,
    "deletable": true,
    "editable": true
   },
   "outputs": [
    {
     "name": "stdout",
     "output_type": "stream",
     "text": [
      "[0. 2. 0. 0. 1. 0. 0. 0. 1.]\n",
      "[0. 1. 0. 3. 0. 0. 0. 0. 0.]\n",
      "[0. 1. 0. 1. 0. 0. 0. 0. 0.]\n",
      "[0. 1. 0. 0. 0. 0. 1. 0. 2.]\n",
      "[0. 1. 0. 1. 0. 0. 0. 1. 5.]\n",
      "[0. 1. 0. 1. 0. 0. 0. 2. 4.]\n",
      "[0. 1. 0. 0. 0. 0. 3. 0. 0.]\n",
      "[0. 1. 0. 1. 0. 1. 1. 0. 0.]\n",
      "[0. 1. 0. 2. 1. 0. 0. 0. 0.]\n",
      "[0. 2. 0. 0. 1. 0. 0. 1. 4.]\n",
      "[0. 2. 0. 0. 0. 0. 1. 1. 0.]\n",
      "[0. 1. 0. 2. 0. 0. 1. 0. 0.]\n",
      "[0. 1. 2. 0. 0. 0. 0. 0. 1.]\n",
      "[0. 1. 2. 0. 0. 0. 0. 1. 4.]\n",
      "[0. 1. 0. 1. 0. 1. 0. 0. 0.]\n",
      "[0. 2. 0. 0. 0. 0. 1. 0. 1.]\n",
      "[0. 1. 1. 0. 0. 0. 1. 1. 4.]\n",
      "[0. 2. 1. 0. 0. 0. 0. 0. 1.]\n",
      "[0. 2. 1. 0. 0. 0. 0. 1. 0.]\n",
      "[0. 1. 1. 0. 0. 0. 1. 0. 1.]\n",
      "[0. 1. 1. 0. 1. 0. 0. 0. 1.]\n",
      "[0. 1. 0. 0. 0. 1. 0. 0. 2.]\n",
      "[0. 1. 0. 0. 1. 0. 0. 0. 0.]\n",
      "[0. 1. 0. 0. 1. 0. 0. 1. 5.]\n",
      "[0. 1. 0. 0. 0. 1. 2. 0. 0.]\n",
      "[0. 1. 0. 0. 1. 0. 0. 1. 0.]\n",
      "[0. 1. 0. 0. 1. 1. 1. 0. 0.]\n",
      "[0. 1. 1. 0. 1. 0. 0. 1. 0.]\n",
      "[0. 1. 0. 1. 1. 0. 1. 0. 0.]\n",
      "[0. 2. 0. 0. 0. 1. 0. 1. 0.]\n",
      "[0. 2. 0. 0. 0. 1. 0. 0. 1.]\n",
      "[0. 1. 0. 1. 1. 1. 0. 0. 0.]\n",
      "[0. 1. 0. 0. 0. 0. 1. 1. 1.]\n",
      "[0. 1. 0. 1. 0. 0. 0. 0. 2.]\n",
      "[0. 2. 0. 1. 0. 0. 0. 0. 1.]\n",
      "[0. 2. 0. 1. 0. 0. 0. 1. 4.]\n",
      "[0. 1. 0. 1. 2. 0. 0. 0. 0.]\n",
      "[0. 1. 0. 0. 0. 0. 1. 2. 4.]\n",
      "[0. 1. 0. 1. 0. 0. 2. 0. 0.]\n",
      "[0. 1. 0. 0. 0. 1. 0. 1. 1.]\n",
      "[0. 1. 0. 0. 1. 0. 0. 0. 2.]\n",
      "[0.  0.5 0.  0.  0.  1.5 0.  0.  0. ]\n",
      "[0. 1. 1. 1. 0. 0. 0. 0. 1.]\n",
      "[0. 1. 1. 1. 0. 0. 0. 1. 0.]\n",
      "[0. 1. 0. 0. 0. 2. 1. 0. 0.]\n",
      "[0. 1. 0. 0. 1. 0. 2. 0. 0.]\n",
      "[0. 1. 0. 0. 0. 1. 0. 1. 0.]\n",
      "[0. 1. 0. 0. 3. 0. 0. 0. 0.]\n",
      "[0. 1. 0. 0. 2. 0. 1. 0. 0.]\n",
      "[0. 3. 0. 0. 0. 0. 0. 0. 1.]\n",
      "[0. 1. 1. 0. 0. 1. 0. 1. 4.]\n",
      "[0. 1. 0. 0. 2. 1. 0. 0. 0.]\n",
      "[0. 1. 0. 0. 1. 0. 1. 0. 1.]\n",
      "[0. 1. 0. 0. 0. 2. 0. 0. 1.]\n",
      "[0. 1. 1. 1. 0. 1. 0. 0. 0.]\n",
      "[0. 1. 1. 1. 0. 0. 1. 0. 0.]\n",
      "[0. 1. 0. 0. 0. 2. 0. 1. 0.]\n",
      "[0. 1. 0. 0. 0. 0. 0. 0. 3.]\n",
      "[0. 1. 0. 0. 2. 0. 0. 1. 0.]\n",
      "[0. 1. 1. 0. 0. 0. 0. 2. 4.]\n",
      "[0. 1. 1. 0. 0. 1. 1. 0. 0.]\n",
      "[0. 1. 1. 1. 1. 0. 0. 0. 0.]\n",
      "[0. 1. 1. 2. 0. 0. 0. 0. 0.]\n",
      "[0. 1. 1. 0. 0. 2. 0. 0. 0.]\n",
      "[0. 1. 1. 0. 0. 0. 0. 1. 1.]\n",
      "[0. 1. 0. 0. 2. 0. 0. 0. 1.]\n",
      "[0. 1. 0. 1. 1. 0. 0. 1. 0.]\n",
      "[0. 2. 0. 1. 1. 0. 0. 0. 0.]\n",
      "[0. 2. 0. 0. 0. 0. 0. 2. 4.]\n",
      "[0. 2. 0. 0. 0. 1. 1. 0. 0.]\n",
      "[0. 2. 0. 0. 0. 2. 0. 0. 0.]\n",
      "[0. 2. 0. 2. 0. 0. 0. 0. 0.]\n",
      "[0. 1. 0. 1. 1. 0. 0. 0. 1.]\n",
      "[0. 1. 0. 1. 0. 0. 1. 0. 1.]\n",
      "[0. 2. 0. 1. 0. 1. 0. 0. 0.]\n",
      "[0. 2. 0. 1. 0. 0. 1. 0. 0.]\n",
      "[0. 1. 0. 0. 0. 0. 0. 1. 2.]\n",
      "[0. 1. 0. 1. 0. 0. 1. 1. 0.]\n",
      "[0. 1. 1. 0. 2. 0. 0. 0. 0.]\n",
      "[0. 1. 1. 0. 0. 0. 2. 0. 0.]\n",
      "[0. 2. 1. 0. 0. 1. 0. 0. 0.]\n",
      "[0. 1. 3. 0. 0. 0. 0. 0. 0.]\n",
      "[0. 2. 1. 0. 0. 0. 1. 0. 0.]\n",
      "[0. 1. 1. 0. 0. 0. 0. 0. 2.]\n",
      "[0. 1. 1. 0. 1. 1. 0. 0. 0.]\n",
      "[0. 1. 0. 0. 1. 1. 0. 0. 1.]\n",
      "[0. 2. 1. 0. 1. 0. 0. 0. 0.]\n",
      "[0. 1. 0. 0. 0. 1. 1. 0. 1.]\n",
      "[0. 1. 0. 0. 0. 1. 1. 1. 4.]\n",
      "[0. 2. 1. 1. 0. 0. 0. 0. 0.]\n",
      "[0. 1. 0. 0. 1. 1. 0. 0. 0.]\n",
      "[0. 1. 1. 0. 1. 0. 1. 0. 0.]\n",
      "[0. 2. 0. 0. 1. 1. 0. 0. 0.]\n",
      "[0. 1. 0. 0. 0. 0. 0. 2. 0.]\n",
      "[0. 1. 0. 1. 0. 1. 0. 0. 1.]\n",
      "[0. 1. 0. 0. 0. 0. 2. 0. 1.]\n",
      "[0. 1. 2. 0. 1. 0. 0. 0. 4.]\n",
      "[0. 1. 2. 1. 0. 0. 0. 0. 0.]\n",
      "[0. 1. 0. 0. 0. 0. 2. 1. 0.]\n",
      "[0. 1. 0. 1. 0. 1. 0. 1. 4.]\n",
      "[0. 1. 0. 0. 0. 0. 0. 2. 1.]\n",
      "[0. 2. 0. 0. 1. 0. 1. 0. 0.]\n",
      "[0. 2. 0. 0. 0. 0. 2. 0. 0.]\n",
      "[0. 2. 0. 0. 2. 0. 0. 0. 0.]\n",
      "[0. 1. 0. 2. 0. 0. 0. 1. 4.]\n",
      "[0. 2. 2. 0. 0. 0. 0. 0. 0.]\n",
      "[0. 1. 2. 0. 0. 1. 0. 0. 0.]\n",
      "[0. 1. 2. 0. 0. 0. 1. 0. 0.]\n",
      "[0. 1. 0. 2. 0. 0. 0. 0. 1.]\n",
      "[0. 2. 0. 0. 0. 0. 0. 0. 2.]\n",
      "[1. 1. 0. 1. 0. 0. 0. 0. 1.]\n",
      "[0. 1. 0. 0. 0. 0. 0. 1. 0.]\n",
      "[0. 1. 0. 0. 0. 0. 0. 0. 1.]\n",
      "[1. 1. 0. 1. 0. 0. 0. 1. 0.]\n",
      "[1. 1. 0. 0. 0. 1. 0. 1. 4.]\n",
      "[0. 2. 0. 0. 0. 0. 0. 0. 1.]\n",
      "[0. 2. 0. 0. 0. 0. 0. 1. 0.]\n",
      "[1. 1. 0. 0. 0. 1. 0. 0. 1.]\n",
      "[0. 1. 0. 0. 0. 1. 0. 0. 0.]\n",
      "[1. 2. 0. 0. 0. 0. 0. 0. 1.]\n",
      "[1. 2. 0. 0. 0. 0. 0. 1. 4.]\n",
      "[0. 1. 0. 0. 0. 1. 0. 0. 1.]\n",
      "[0. 1. 0. 1. 0. 0. 0. 0. 1.]\n",
      "[0. 1. 0. 1. 0. 0. 0. 1. 5.]\n",
      "[0. 1. 1. 0. 0. 0. 0. 0. 1.]\n",
      "[1. 1. 0. 0. 0. 0. 1. 1. 0.]\n",
      "[1. 1. 0. 0. 0. 0. 1. 0. 1.]\n",
      "[0. 1. 1. 0. 0. 0. 0. 1. 0.]\n",
      "[1. 1. 0. 0. 0. 0. 0. 1. 5.]\n",
      "[1. 1. 0. 0. 1. 0. 0. 0. 1.]\n",
      "[1. 1. 0. 0. 1. 0. 0. 1. 0.]\n",
      "[1. 1. 0. 0. 0. 0. 0. 0. 1.]\n",
      "[2. 1. 0. 0. 0. 0. 0. 1. 4.]\n",
      "[0. 1. 0. 0. 1. 0. 0. 0. 1.]\n",
      "[0. 1. 0. 0. 1. 0. 0. 1. 0.]\n",
      "[2. 1. 0. 0. 0. 0. 0. 0. 1.]\n",
      "[1. 1. 1. 0. 0. 0. 0. 0. 1.]\n",
      "[0. 1. 0. 0. 0. 0. 1. 1. 0.]\n",
      "[0. 1. 0. 0. 0. 0. 1. 0. 1.]\n",
      "[0. 3. 0. 0. 0. 0. 0. 1. 4.]\n",
      "[1. 1. 1. 0. 0. 0. 0. 1. 0.]\n",
      "[2. 1. 0. 0. 0. 0. 1. 0. 0.]\n",
      "[1. 1. 1. 0. 1. 0. 0. 0. 0.]\n",
      "[1. 2. 0. 0. 0. 0. 0. 0. 0.]\n",
      "[0. 3. 0. 0. 1. 0. 0. 0. 0.]\n",
      "[0. 1. 0. 0. 1. 1. 0. 0. 0.]\n",
      "[0. 1. 0. 0. 1. 0. 1. 0. 0.]\n",
      "[0. 3. 0. 1. 0. 0. 0. 0. 0.]\n",
      "[1. 1. 1. 0. 0. 0. 0. 0. 0.]\n",
      "[1. 1. 1. 1. 0. 0. 0. 0. 0.]\n",
      "[2. 1. 0. 0. 0. 1. 0. 0. 0.]\n",
      "[0. 1. 2. 0. 0. 0. 0. 0. 0.]\n",
      "[2. 1. 0. 0. 0. 0. 0. 0. 0.]\n",
      "[1. 1. 1. 0. 0. 1. 0. 0. 0.]\n",
      "[0. 3. 0. 0. 0. 1. 0. 0. 0.]\n",
      "[0. 1. 0. 0. 0. 0. 2. 0. 0.]\n",
      "[0. 1. 0. 0. 2. 0. 0. 0. 0.]\n",
      "[0. 1. 0. 0. 0. 0. 0. 0. 2.]\n",
      "[0. 3. 0. 0. 0. 0. 1. 0. 0.]\n",
      "[1. 1. 1. 0. 0. 0. 1. 0. 0.]\n",
      "[2. 1. 0. 0. 1. 0. 0. 0. 0.]\n",
      "[0. 1. 1. 0. 0. 1. 0. 0. 0.]\n",
      "[3. 1. 0. 0. 0. 0. 0. 0. 0.]\n",
      "[1. 1. 0. 1. 0. 0. 0. 0. 0.]\n",
      "[1. 1. 2. 0. 0. 0. 0. 0. 0.]\n",
      "[0. 3. 1. 0. 0. 0. 0. 0. 0.]\n",
      "[1. 1. 0. 0. 2. 0. 0. 0. 0.]\n",
      "[1. 1. 0. 0. 0. 0. 2. 0. 0.]\n",
      "[1. 1. 0. 0. 0. 0. 0. 0. 2.]\n",
      "[0. 4. 0. 0. 0. 0. 0. 0. 0.]\n",
      "[1. 1. 0. 0. 1. 0. 0. 0. 0.]\n",
      "[0. 1. 1. 0. 0. 0. 1. 0. 0.]\n",
      "[2. 2. 0. 0. 0. 0. 0. 0. 0.]\n",
      "[0. 1. 1. 0. 1. 0. 0. 0. 0.]\n",
      "[1. 1. 0. 0. 0. 0. 1. 0. 0.]\n",
      "[1. 1. 0. 0. 1. 1. 0. 0. 0.]\n",
      "[1. 1. 0. 0. 1. 0. 1. 0. 0.]\n",
      "[1. 1. 0. 0. 0. 1. 0. 0. 5.]\n",
      "[0. 1. 1. 1. 0. 0. 0. 0. 0.]\n",
      "[2. 1. 1. 0. 0. 0. 0. 0. 0.]\n",
      "[0. 1. 0. 1. 1. 0. 0. 0. 0.]\n",
      "[0. 1. 0. 0. 0. 1. 1. 0. 0.]\n",
      "[0. 1. 0. 0. 0. 0. 0. 2. 0.]\n",
      "[1. 1. 0. 0. 0. 0. 0. 0. 0.]\n",
      "[1. 2. 0. 0. 0. 1. 0. 0. 0.]\n",
      "[0. 2. 1. 0. 0. 0. 0. 0. 0.]\n",
      "[0. 3. 0. 0. 0. 0. 0. 0. 0.]\n",
      "[1. 2. 0. 0. 0. 0. 1. 0. 0.]\n",
      "[0. 1. 0. 0. 0. 0. 0. 0. 0.]\n",
      "[0. 1. 0. 0. 0. 0. 0. 1. 6.]\n",
      "[0. 1. 0. 0. 0. 2. 0. 0. 0.]\n",
      "[0. 1. 0. 2. 0. 0. 0. 0. 0.]\n",
      "[0. 1. 0. 1. 0. 1. 0. 0. 0.]\n",
      "[1. 2. 0. 0. 1. 0. 0. 0. 0.]\n",
      "[0. 2. 0. 0. 0. 0. 0. 0. 0.]\n",
      "[0. 1. 1. 0. 0. 0. 0. 0. 0.]\n",
      "[1. 2. 0. 1. 0. 0. 0. 0. 0.]\n",
      "[0. 1. 0. 1. 0. 0. 1. 0. 0.]\n",
      "[1. 1. 0. 1. 0. 1. 0. 0. 0.]\n",
      "[0. 1. 0. 0. 0. 0. 1. 0. 0.]\n",
      "[0. 2. 0. 0. 1. 0. 0. 0. 0.]\n",
      "[0. 2. 0. 1. 0. 0. 0. 0. 0.]\n",
      "[0. 1. 0. 0. 0. 1. 0. 0. 0.]\n",
      "[1. 1. 0. 1. 0. 0. 1. 0. 0.]\n",
      "[1. 1. 0. 0. 0. 1. 1. 0. 0.]\n",
      "[1. 1. 0. 0. 0. 0. 0. 2. 0.]\n",
      "[1. 1. 0. 1. 1. 0. 0. 0. 0.]\n",
      "[0. 1. 0. 1. 0. 0. 0. 0. 0.]\n",
      "[1. 2. 1. 0. 0. 0. 0. 0. 0.]\n",
      "[0. 2. 0. 0. 0. 1. 0. 0. 0.]\n",
      "[0. 2. 0. 0. 0. 0. 1. 0. 0.]\n",
      "[1. 3. 0. 0. 0. 0. 0. 0. 0.]\n",
      "[0. 1. 0. 0. 1. 0. 0. 0. 0.]\n",
      "[1. 1. 0. 2. 0. 0. 0. 0. 0.]\n",
      "[1. 1. 0. 0. 0. 0. 0. 1. 1.]\n",
      "[1. 2. 1. 0. 0. 0. 2. 0. 1.]\n",
      "[3. 1. 2. 0. 0. 0. 0. 0. 1.]\n",
      "[0. 4. 3. 0. 0. 0. 0. 1. 0.]\n",
      "[0. 2. 0. 1. 0. 1. 0. 2. 0.]\n",
      "[2. 1. 1. 2. 2. 0. 0. 0. 0.]\n",
      "[2. 1. 0. 0. 2. 0. 1. 1. 1.]\n",
      "[1. 2. 1. 1. 1. 0. 2. 0. 0.]\n",
      "[0. 1. 0. 1. 2. 0. 0. 2. 2.]\n",
      "[0. 5. 0. 0. 0. 0. 1. 1. 1.]\n",
      "[0. 4. 1. 2. 0. 0. 1. 0. 0.]\n",
      "[2. 1. 2. 0. 1. 2. 0. 0. 0.]\n",
      "[1. 2. 0. 2. 1. 0. 1. 0. 1.]\n",
      "[0. 1. 1. 0. 1. 1. 0. 1. 0.]\n",
      "[1. 2. 0. 0. 1. 1. 0. 1. 2.]\n",
      "[1. 3. 0. 0. 0. 0. 4. 0. 0.]\n",
      "[0. 2. 0. 1. 0. 2. 0. 1. 1.]\n",
      "[0. 2. 1. 0. 1. 1. 0. 1. 1.]\n",
      "[0. 1. 0. 1. 0. 3. 0. 0. 1.]\n",
      "[1. 3. 2. 0. 0. 1. 1. 0. 0.]\n",
      "[0. 2. 0. 1. 3. 0. 0. 1. 1.]\n",
      "[0. 1. 0. 3. 1. 1. 1. 0. 1.]\n",
      "[2. 3. 2. 0. 0. 0. 0. 0. 0.]\n",
      "[0. 1. 2. 2. 2. 0. 0. 0. 1.]\n",
      "[0.  2.  0.  0.  1.  1.5 0.  0.5 1. ]\n",
      "[0. 1. 3. 0. 1. 1. 0. 0. 2.]\n",
      "[3. 1. 2. 0. 0. 0. 0. 0. 2.]\n",
      "[2. 1. 2. 1. 0. 0. 0. 2. 0.]\n",
      "[0. 2. 1. 3. 0. 1. 0. 0. 1.]\n",
      "[2. 1. 1. 1. 1. 0. 0. 0. 1.]\n",
      "[2. 1. 0. 0. 2. 2. 1. 0. 0.]\n",
      "[0. 3. 0. 1. 0. 0. 0. 0. 3.]\n",
      "[0. 1. 0. 2. 4. 1. 0. 0. 0.]\n",
      "[0. 3. 2. 0. 2. 0. 0. 0. 1.]\n",
      "[2. 2. 1. 0. 0. 0. 0. 1. 2.]\n",
      "[1. 2. 2. 1. 1. 1. 0. 0. 0.]\n",
      "[0. 1. 1. 0. 0. 1. 2. 1. 1.]\n",
      "[3. 1. 0. 0. 0. 1. 1. 1. 1.]\n",
      "[0. 2. 2. 2. 0. 3. 0. 2. 2.]\n",
      "[1. 2. 2. 1. 2. 0. 0. 0. 0.]\n",
      "[0. 2. 2. 0. 1. 1. 0. 0. 2.]\n",
      "[0. 1. 2. 2. 0. 0. 0. 0. 0.]\n",
      "[0.  1.  1.5 0.  0.  0.  0.  0.5 1. ]\n",
      "[2. 1. 2. 0. 0. 1. 0. 2. 0.]\n",
      "[0. 1. 2. 2. 0. 0. 0. 2. 1.]\n",
      "[0. 1. 0. 2. 2. 1. 1. 0. 0.]\n",
      "[1. 1. 0. 0. 0. 0. 0. 1. 0.]\n",
      "[2. 1. 1. 0. 0. 1. 0. 1. 2.]\n",
      "[0. 2. 1. 1. 0. 1. 0. 1. 1.]\n",
      "[0. 1. 0. 0. 0. 0. 0. 0. 6.]\n",
      "[0. 2. 2. 3. 0. 0. 0. 0. 1.]\n",
      "[1. 3. 1. 0. 1. 1. 0. 1. 0.]\n",
      "[3. 2. 0. 0. 0. 1. 1. 0. 1.]\n",
      "[2. 1. 1. 1. 1. 0. 0. 2. 0.]\n",
      "[0. 2. 0. 1. 3. 0. 0. 0. 2.]\n",
      "[0. 1. 1. 0. 0. 0. 1. 2. 2.]\n",
      "[0. 3. 0. 1. 1. 0. 1. 0. 2.]\n",
      "[0. 1. 0. 1. 1. 2. 0. 2. 0.]\n",
      "[1. 1. 0. 2. 3. 1. 0. 0. 0.]\n",
      "[1. 1. 4. 0. 0. 0. 0. 1. 1.]\n",
      "[1. 1. 0. 2. 1. 0. 1. 0. 0.]\n",
      "[0. 2. 0. 0. 0. 1. 0. 3. 0.]\n",
      "[3. 1. 2. 0. 0. 1. 0. 1. 0.]\n",
      "[1. 3. 1. 0. 1. 1. 1. 0. 0.]\n",
      "[2. 3. 0. 1. 0. 0. 0. 0. 1.]\n",
      "[0. 1. 0. 0. 1. 0. 1. 1. 0.]\n",
      "[0. 2. 0. 0. 2. 2. 0. 0. 1.]\n",
      "[0. 2. 2. 2. 4. 0. 0. 0. 0.]\n",
      "[2. 1. 0. 1. 0. 0. 0. 0. 0.]\n",
      "[0. 2. 0. 2. 0. 1. 0. 0. 0.]\n",
      "[0. 2. 0. 1. 0. 3. 0. 0. 2.]\n",
      "[0. 5. 3. 0. 0. 0. 0. 0. 0.]\n",
      "[0. 2. 1. 0. 0. 2. 1. 0. 2.]\n",
      "[0. 1. 1. 0. 3. 0. 0. 0. 0.]\n",
      "[0. 3. 0. 0. 1. 0. 1. 2. 0.]\n",
      "[0. 1. 1. 0. 0. 0. 5. 0. 0.]\n",
      "[0. 2. 0. 0. 0. 0. 0. 1. 1.]\n",
      "[0. 3. 0. 2. 2. 0. 0. 1. 0.]\n",
      "[0. 1. 0. 0. 7. 0. 0. 0. 0.]\n",
      "[1. 1. 0. 0. 1. 0. 0. 0. 5.]\n",
      "[0. 1. 0. 0. 0. 0. 6. 0. 0.]\n",
      "[2. 2. 1. 0. 0. 0. 0. 0. 0.]\n",
      "[1. 1. 0. 0. 1. 1. 0. 1. 3.]\n",
      "[0. 2. 0. 0. 0. 2. 3. 0. 0.]\n",
      "[3. 1. 0. 0. 2. 0. 2. 0. 0.]\n",
      "[1. 1. 1. 0. 2. 1. 2. 0. 0.]\n",
      "[0. 2. 1. 0. 2. 0. 1. 0. 1.]\n",
      "[1. 1. 1. 0. 1. 3. 0. 0. 1.]\n",
      "[1. 1. 1. 0. 0. 0. 0. 1. 2.]\n",
      "[6. 1. 1. 0. 0. 0. 0. 0. 0.]\n",
      "[2. 2. 0. 0. 0. 0. 3. 1. 0.]\n",
      "[1. 3. 1. 0. 2. 1. 0. 0. 0.]\n",
      "[0. 1. 0. 2. 0. 0. 0. 2. 1.]\n",
      "[0. 1. 0. 1. 0. 1. 0. 2. 3.]\n",
      "[0. 1. 2. 0. 0. 3. 0. 0. 2.]\n",
      "[0. 1. 1. 1. 1. 0. 0. 0. 3.]\n",
      "[0. 1. 1. 0. 0. 3. 0. 1. 2.]\n",
      "[0. 1. 1. 1. 0. 0. 2. 3. 0.]\n",
      "[0. 2. 1. 0. 1. 2. 2. 0. 0.]\n",
      "[0.  1.  0.5 0.  0.  0.  0.  0.5 0. ]\n",
      "[1. 1. 2. 1. 0. 1. 0. 2. 0.]\n",
      "[0. 1. 0. 0. 0. 0. 2. 3. 2.]\n",
      "[1. 2. 0. 1. 0. 0. 1. 1. 2.]\n",
      "[2. 2. 0. 0. 0. 0. 1. 1. 0.]\n",
      "[2. 1. 0. 0. 1. 1. 0. 0. 0.]\n",
      "[1. 1. 0. 2. 0. 0. 0. 4. 0.]\n",
      "[0. 1. 0. 1. 1. 1. 2. 0. 1.]\n",
      "[0. 1. 0. 0. 0. 2. 4. 0. 1.]\n",
      "[2. 1. 0. 3. 2. 0. 0. 0. 0.]\n",
      "[0. 1. 1. 0. 2. 0. 0. 0. 2.]\n",
      "[1. 1. 0. 1. 0. 0. 0. 3. 2.]\n",
      "[1. 1. 1. 1. 0. 0. 0. 4. 0.]\n",
      "[1. 1. 1. 1. 0. 2. 0. 0. 2.]\n",
      "[1. 1. 5. 1. 0. 0. 0. 0. 0.]\n",
      "[1. 1. 1. 1. 0. 0. 0. 0. 4.]\n",
      "[1. 5. 1. 1. 0. 0. 0. 0. 0.]\n",
      "[1. 1. 3. 3. 0. 0. 0. 0. 0.]\n",
      "[1. 1. 1. 1. 0. 4. 0. 0. 0.]\n",
      "[1. 1. 1. 1. 0. 0. 4. 0. 0.]\n",
      "[3. 1. 2. 2. 0. 0. 0. 0. 0.]\n",
      "[1. 1. 2. 2. 0. 0. 2. 0. 0.]\n",
      "[1. 1. 2. 2. 2. 0. 0. 0. 0.]\n",
      "[2. 2. 2. 2. 0. 0. 0. 0. 0.]\n",
      "[1. 1. 2. 2. 0. 0. 0. 0. 2.]\n",
      "[1. 1. 1. 1. 2. 0. 2. 0. 0.]\n",
      "[1. 1. 1. 1. 4. 0. 0. 0. 0.]\n",
      "[3. 1. 1. 1. 0. 0. 0. 2. 0.]\n",
      "[1. 1. 1. 5. 0. 0. 0. 0. 0.]\n",
      "[1. 1. 1. 1. 2. 0. 0. 2. 0.]\n",
      "[1. 1. 2. 2. 0. 0. 0. 2. 0.]\n",
      "[1. 1. 1. 1. 0. 0. 0. 0. 4.]\n",
      "[1. 1. 2. 2. 0. 2. 0. 0. 0.]\n",
      "[5. 1. 1. 1. 0. 0. 0. 0. 0.]\n",
      "[3. 1. 1. 1. 0. 0. 2. 0. 0.]\n",
      "[1. 1. 1. 1. 0. 0. 0. 4. 0.]\n",
      "[1. 1. 5. 1. 0. 0. 0. 0. 0.]\n",
      "[1. 1. 1. 1. 0. 0. 0. 0. 4.]\n",
      "[1. 5. 1. 1. 0. 0. 0. 0. 0.]\n",
      "[1. 1. 3. 3. 0. 0. 0. 0. 0.]\n",
      "[1. 1. 1. 1. 0. 4. 0. 0. 0.]\n",
      "[1. 1. 1. 1. 0. 0. 4. 0. 0.]\n",
      "[3. 1. 2. 2. 0. 0. 0. 0. 0.]\n",
      "[1. 1. 2. 2. 0. 0. 2. 0. 0.]\n",
      "[1. 1. 2. 2. 2. 0. 0. 0. 0.]\n",
      "[2. 2. 2. 2. 0. 0. 0. 0. 0.]\n",
      "[1. 1. 1. 1. 4. 0. 0. 0. 0.]\n",
      "[1. 1. 1. 5. 0. 0. 0. 0. 0.]\n",
      "[1. 1. 1. 1. 0. 0. 0. 0. 0.]\n",
      "[1. 1. 2. 2. 0. 2. 0. 0. 0.]\n",
      "[5. 1. 1. 1. 0. 0. 0. 0. 0.]\n",
      "[1. 1. 1. 1. 0. 0. 0. 4. 0.]\n",
      "[1. 1. 1. 1. 0. 2. 0. 0. 2.]\n",
      "[1. 1. 1. 1. 0. 0. 0. 0. 4.]\n",
      "[1. 1. 1. 1. 0. 4. 0. 0. 0.]\n",
      "[1. 1. 1. 1. 0. 0. 4. 0. 0.]\n",
      "[3. 1. 2. 2. 0. 0. 0. 0. 0.]\n",
      "[1. 1. 2. 2. 0. 0. 2. 0. 0.]\n",
      "[1. 1. 2. 2. 2. 0. 0. 0. 0.]\n",
      "[2. 2. 2. 2. 0. 0. 0. 0. 0.]\n",
      "[1. 1. 2. 2. 0. 0. 0. 0. 2.]\n",
      "[1. 1. 1. 1. 2. 0. 2. 0. 0.]\n",
      "[1. 1. 1. 1. 4. 0. 0. 0. 0.]\n",
      "[3. 1. 1. 1. 0. 0. 0. 2. 0.]\n",
      "[1. 1. 1. 5. 0. 0. 0. 0. 0.]\n",
      "[1. 1. 1. 1. 2. 0. 0. 2. 0.]\n",
      "[1. 1. 2. 2. 0. 0. 0. 2. 0.]\n",
      "[1. 1. 1. 1. 0. 0. 0. 0. 0.]\n",
      "[1. 1. 2. 2. 0. 2. 0. 0. 0.]\n",
      "[3. 1. 1. 1. 0. 0. 2. 0. 0.]\n",
      "[1. 1. 1. 1. 0. 0. 0. 3. 0.]\n",
      "[1. 1. 1. 1. 0. 2. 0. 0. 2.]\n",
      "[1. 1. 5. 1. 0. 0. 0. 0. 0.]\n",
      "[1. 1. 1. 1. 0. 0. 0. 0. 4.]\n",
      "[1. 5. 1. 1. 0. 0. 0. 0. 0.]\n",
      "[1. 1. 3. 3. 0. 0. 0. 0. 0.]\n",
      "[1. 1. 1. 1. 0. 4. 0. 0. 0.]\n",
      "[1. 1. 1. 1. 0. 0. 4. 0. 0.]\n",
      "[3. 1. 2. 2. 0. 0. 0. 0. 0.]\n",
      "[1. 1. 2. 2. 2. 0. 0. 0. 0.]\n",
      "[2. 2. 2. 2. 0. 0. 0. 0. 0.]\n",
      "[1. 1. 2. 2. 0. 0. 0. 0. 2.]\n",
      "[1. 1. 1. 1. 2. 0. 2. 0. 0.]\n",
      "[1. 1. 1. 1. 4. 0. 0. 0. 0.]\n",
      "[3. 1. 1. 1. 0. 0. 0. 2. 0.]\n",
      "[1. 1. 1. 5. 0. 0. 0. 0. 0.]\n",
      "[1. 1. 1. 1. 2. 0. 0. 2. 0.]\n",
      "[1. 1. 1. 1. 0. 0. 0. 0. 0.]\n",
      "[1. 1. 2. 2. 0. 2. 0. 0. 0.]\n",
      "[5. 1. 1. 1. 0. 0. 0. 0. 0.]\n",
      "[3. 1. 1. 1. 0. 0. 2. 0. 0.]\n",
      "[1. 1. 1. 1. 0. 2. 0. 0. 2.]\n",
      "[1. 1. 5. 1. 0. 0. 0. 0. 0.]\n",
      "[1. 1. 1. 1. 0. 0. 0. 0. 4.]\n",
      "[1. 5. 1. 1. 0. 0. 0. 0. 0.]\n",
      "[1. 1. 1. 1. 0. 4. 0. 0. 0.]\n",
      "[1. 1. 1. 1. 0. 0. 4. 0. 0.]\n",
      "[3. 1. 2. 2. 0. 0. 0. 0. 0.]\n",
      "[1. 1. 2. 2. 0. 0. 2. 0. 0.]\n",
      "[1. 1. 2. 2. 2. 0. 0. 0. 0.]\n",
      "[1. 1. 2. 2. 0. 0. 0. 0. 2.]\n",
      "[1. 1. 1. 1. 2. 0. 2. 0. 0.]\n",
      "[1. 1. 1. 1. 4. 0. 0. 0. 0.]\n",
      "[3. 1. 1. 0. 0. 0. 0. 2. 0.]\n",
      "[1. 1. 1. 5. 0. 0. 0. 0. 0.]\n",
      "[1. 1. 1. 1. 2. 0. 0. 2. 0.]\n",
      "[1. 1. 2. 2. 0. 0. 0. 2. 0.]\n",
      "[1. 1. 1. 1. 0. 0. 0. 0. 0.]\n",
      "[1. 1. 2. 2. 0. 2. 0. 0. 0.]\n",
      "[5.  1.  0.5 0.5 0.  0.  0.  0.  0. ]\n",
      "[3.  1.  0.5 0.5 0.  0.  2.  0.  0. ]\n",
      "[1. 1. 1. 1. 0. 0. 0. 4. 0.]\n",
      "[1. 1. 1. 1. 0. 2. 0. 0. 2.]\n",
      "[1. 1. 1. 1. 0. 0. 0. 0. 4.]\n",
      "[1. 5. 1. 1. 0. 0. 0. 0. 0.]\n",
      "[1. 1. 3. 3. 0. 0. 0. 0. 0.]\n",
      "[1. 1. 1. 1. 0. 4. 0. 0. 0.]\n",
      "[1. 1. 1. 1. 0. 0. 4. 0. 0.]\n",
      "[3. 1. 2. 2. 0. 0. 0. 0. 0.]\n",
      "[1. 1. 2. 2. 0. 0. 2. 0. 0.]\n",
      "[1. 1. 2. 2. 2. 0. 0. 0. 0.]\n",
      "[2. 2. 2. 2. 0. 0. 0. 0. 0.]\n",
      "[1. 1. 2. 2. 0. 0. 0. 0. 2.]\n",
      "[1. 1. 1. 1. 2. 0. 2. 0. 0.]\n",
      "[1. 1. 1. 1. 4. 0. 0. 0. 0.]\n",
      "[1. 1. 1. 5. 0. 0. 0. 0. 0.]\n",
      "[1. 1. 1. 1. 2. 0. 0. 2. 0.]\n",
      "[1. 1. 1. 1. 0. 0. 0. 0. 0.]\n",
      "[1. 1. 2. 2. 0. 2. 0. 0. 0.]\n",
      "[5. 1. 1. 1. 0. 0. 0. 0. 0.]\n",
      "[3. 1. 1. 1. 0. 0. 2. 0. 0.]\n"
     ]
    }
   ],
   "source": [
    "for item in xori:\n",
    "    if item[1] > 0:\n",
    "        print(item)"
   ]
  },
  {
   "cell_type": "code",
   "execution_count": null,
   "metadata": {
    "collapsed": true,
    "deletable": true,
    "editable": true
   },
   "outputs": [],
   "source": []
  },
  {
   "cell_type": "code",
   "execution_count": 252,
   "metadata": {
    "ExecuteTime": {
     "end_time": "2019-06-11T14:42:18.568058Z",
     "start_time": "2019-06-11T14:42:18.553664Z"
    },
    "collapsed": false,
    "deletable": true,
    "editable": true
   },
   "outputs": [
    {
     "name": "stdout",
     "output_type": "stream",
     "text": [
      "444\n"
     ]
    }
   ],
   "source": [
    "npzfile = np.load('0509-com-444-results.npz')\n",
    "xori, y1ori, y2ori, y3ori = npzfile['alloc'], npzfile['rt_50'], npzfile['rt_99'], npzfile['rps']\n",
    "print(len(xori))"
   ]
  },
  {
   "cell_type": "code",
   "execution_count": 255,
   "metadata": {
    "ExecuteTime": {
     "end_time": "2019-06-11T14:42:35.367514Z",
     "start_time": "2019-06-11T14:42:35.361474Z"
    },
    "collapsed": false,
    "deletable": true,
    "editable": true
   },
   "outputs": [
    {
     "ename": "SyntaxError",
     "evalue": "invalid syntax (<ipython-input-255-003db473ef70>, line 1)",
     "output_type": "error",
     "traceback": [
      "\u001b[0;36m  File \u001b[0;32m\"<ipython-input-255-003db473ef70>\"\u001b[0;36m, line \u001b[0;32m1\u001b[0m\n\u001b[0;31m    xori.del()\u001b[0m\n\u001b[0m           ^\u001b[0m\n\u001b[0;31mSyntaxError\u001b[0m\u001b[0;31m:\u001b[0m invalid syntax\n"
     ]
    }
   ],
   "source": []
  },
  {
   "cell_type": "code",
   "execution_count": 259,
   "metadata": {
    "ExecuteTime": {
     "end_time": "2019-06-11T14:48:56.479522Z",
     "start_time": "2019-06-11T14:48:56.472307Z"
    },
    "collapsed": false,
    "deletable": true,
    "editable": true
   },
   "outputs": [
    {
     "data": {
      "text/plain": [
       "array([[0., 2., 1., ..., 1., 0., 3.],\n",
       "       [1., 1., 0., ..., 0., 0., 5.],\n",
       "       [0., 2., 0., ..., 1., 1., 3.],\n",
       "       ...,\n",
       "       [0., 1., 1., ..., 0., 1., 3.],\n",
       "       [0., 1., 0., ..., 0., 0., 6.],\n",
       "       [2., 1., 0., ..., 1., 0., 3.]])"
      ]
     },
     "execution_count": 259,
     "metadata": {},
     "output_type": "execute_result"
    }
   ],
   "source": [
    "xnew"
   ]
  },
  {
   "cell_type": "code",
   "execution_count": null,
   "metadata": {
    "collapsed": true,
    "deletable": true,
    "editable": true
   },
   "outputs": [],
   "source": []
  },
  {
   "cell_type": "code",
   "execution_count": null,
   "metadata": {
    "collapsed": true,
    "deletable": true,
    "editable": true
   },
   "outputs": [],
   "source": []
  },
  {
   "cell_type": "code",
   "execution_count": null,
   "metadata": {
    "collapsed": true,
    "deletable": true,
    "editable": true
   },
   "outputs": [],
   "source": []
  },
  {
   "cell_type": "code",
   "execution_count": null,
   "metadata": {
    "collapsed": true,
    "deletable": true,
    "editable": true
   },
   "outputs": [],
   "source": []
  },
  {
   "cell_type": "code",
   "execution_count": null,
   "metadata": {
    "collapsed": true,
    "deletable": true,
    "editable": true
   },
   "outputs": [],
   "source": []
  },
  {
   "cell_type": "code",
   "execution_count": 48,
   "metadata": {
    "ExecuteTime": {
     "end_time": "2019-06-12T11:31:01.742066Z",
     "start_time": "2019-06-12T11:31:01.731972Z"
    },
    "collapsed": false,
    "deletable": true,
    "editable": true
   },
   "outputs": [
    {
     "data": {
      "text/plain": [
       "array([[0., 2., 1., 1., 0., 0., 1., 0., 0.],\n",
       "       [2., 3., 3., 0., 0., 0., 0., 0., 0.],\n",
       "       [1., 1., 0., 1., 0., 0., 0., 0., 1.],\n",
       "       [0., 2., 0., 0., 1., 0., 1., 1., 0.],\n",
       "       [1., 1., 0., 1., 1., 0., 1., 0., 0.],\n",
       "       [0., 1., 0., 1., 0., 0., 0., 1., 1.],\n",
       "       [0., 1., 0., 1., 0., 1., 1., 0., 0.],\n",
       "       [0., 1., 4., 0., 0., 0., 0., 0., 0.],\n",
       "       [1., 4., 0., 2., 0., 0., 0., 0., 0.],\n",
       "       [1., 1., 0., 0., 1., 0., 1., 1., 1.]])"
      ]
     },
     "execution_count": 48,
     "metadata": {},
     "output_type": "execute_result"
    }
   ],
   "source": [
    "\n",
    "y1[0:10] # 50% response time\n",
    "y2[0:10] # 99% response time\n",
    "y3[0:10] # request per second\n",
    "x[0:10] # allocation"
   ]
  },
  {
   "cell_type": "code",
   "execution_count": 57,
   "metadata": {
    "ExecuteTime": {
     "end_time": "2019-06-12T11:34:57.223472Z",
     "start_time": "2019-06-12T11:34:57.198069Z"
    },
    "collapsed": false,
    "deletable": true,
    "editable": true,
    "inputHidden": false,
    "outputHidden": false
   },
   "outputs": [
    {
     "name": "stdout",
     "output_type": "stream",
     "text": [
      "0.0 nan\n",
      "1.0 0.96\n",
      "0.0 nan\n",
      "0.0 nan\n",
      "1.0 2.31\n",
      "0.0 nan\n",
      "0.0 nan\n",
      "1.0 0.82\n",
      "2.0 2.135\n",
      "\n",
      "2.0 1.74\n",
      "3.0 0.905\n",
      "1.0 3.13\n",
      "2.0 2.84\n",
      "0.0 nan\n",
      "0.0 nan\n",
      "0.0 nan\n",
      "0.0 nan\n",
      "0.0 nan\n",
      "\n",
      "0.0 nan\n",
      "1.0 0.74\n",
      "0.0 nan\n",
      "1.0 3.295\n",
      "2.0 2.615\n",
      "0.0 nan\n",
      "0.0 nan\n",
      "1.0 0.805\n",
      "1.0 2.275\n",
      "\n",
      "0.0 nan\n",
      "3.0 1.04\n",
      "5.0 3.1\n",
      "0.0 nan\n",
      "0.0 nan\n",
      "0.0 nan\n",
      "0.0 nan\n",
      "0.0 nan\n",
      "0.0 nan\n",
      "\n",
      "0.0 nan\n",
      "1.0 0.71\n",
      "2.0 3.94\n",
      "0.0 nan\n",
      "1.0 2.865\n",
      "1.0 1.165\n",
      "0.0 nan\n",
      "0.0 nan\n",
      "1.0 2.015\n",
      "\n"
     ]
    }
   ],
   "source": [
    "for i in range(55,60):\n",
    "    for j in range(9):\n",
    "        print(x[i][j], y3[i][j])\n",
    "    print()"
   ]
  },
  {
   "cell_type": "code",
   "execution_count": 84,
   "metadata": {
    "collapsed": false,
    "deletable": true,
    "editable": true,
    "inputHidden": false,
    "outputHidden": false
   },
   "outputs": [],
   "source": [
    "retest=x[(x[:,3]!=0) + (x[:,4]!=0)]"
   ]
  },
  {
   "cell_type": "code",
   "execution_count": 103,
   "metadata": {
    "collapsed": false,
    "deletable": true,
    "editable": true,
    "inputHidden": false,
    "outputHidden": false
   },
   "outputs": [],
   "source": [
    "# dataset_x_to_profile_setting(retest)"
   ]
  },
  {
   "cell_type": "code",
   "execution_count": 88,
   "metadata": {
    "collapsed": false,
    "deletable": true,
    "editable": true,
    "inputHidden": false,
    "outputHidden": false
   },
   "outputs": [],
   "source": []
  },
  {
   "cell_type": "code",
   "execution_count": 113,
   "metadata": {
    "collapsed": false,
    "deletable": true,
    "editable": true,
    "inputHidden": false,
    "outputHidden": false
   },
   "outputs": [],
   "source": [
    "to_print_list=[]\n",
    "# set(retest_setting)\n",
    "for item in retest_setting:\n",
    "  to_print=[str(j) for j in item[1:]]\n",
    "  to_print_list.append('-'.join(to_print))"
   ]
  },
  {
   "cell_type": "code",
   "execution_count": 120,
   "metadata": {
    "collapsed": false,
    "deletable": true,
    "editable": true,
    "inputHidden": false,
    "outputHidden": false
   },
   "outputs": [
    {
     "name": "stdout",
     "output_type": "stream",
     "text": [
      "0-0-0-3-4-5-5 0-3-4-6-6-8-9 0-0-0-0-3-4-8 0-0-2-4-5-7-9 0-0-3-3-5-6-9 0-0-1-3-4-5-6 0-0-0-0-1-1-7 0-0-0-0-4-7-9 0-0-0-0-0-4-9 0-0-0-0-0-4-5 0-1-5-6-8-9-9 0-4-4-5-6-7-9 0-0-0-1-4-8-8 0-0-0-0-0-4-7 0-0-0-0-1-3-5 0-0-1-5-9-9-9 0-1-2-3-5-6-7 0-0-0-1-1-5-7 0-0-0-3-4-8-9 0-0-1-4-5-7-9 0-0-0-1-4-5-7 0-0-0-0-4-6-7 0-0-0-0-4-8-9 0-0-0-3-5-9-9 0-0-0-0-0-1-5 0-0-0-1-3-4-5 0-0-1-3-4-5-8 0-0-0-1-3-4-8 0-0-1-3-4-8-8 0-0-0-0-0-2-4 0-0-0-0-3-5-8 0-0-1-3-4-5-9 0-0-0-0-0-3-4 0-0-1-3-3-3-4 0-0-4-5-5-8-9 0-0-0-0-0-0-5 0-0-1-4-7-8-9 0-0-0-0-4-6-9 0-0-0-0-1-5-7 0-0-0-0-4-7-8 0-0-0-2-4-9-9 0-0-0-0-3-5-7 0-0-0-0-1-5-9 0-0-0-0-4-5-6 0-0-0-5-8-9-9 0-0-0-4-6-6-9 0-0-1-4-8-8-9 0-0-1-1-3-4-7 0-0-1-3-4-7-7 0-0-0-0-0-4-4 0-0-0-4-5-8-9 0-0-0-2-3-5-9 0-0-0-0-1-4-8 0-0-0-0-4-6-8 0-0-0-1-1-3-4 0-0-0-0-0-5-9 0-0-0-3-4-5-9 0-0-0-0-1-1-1 0-0-0-0-1-4-9 0-0-0-3-5-6-8 0-0-1-3-5-6-7 0-0-0-0-5-6-7 0-0-0-1-2-4-9 0-0-0-0-3-5-5 0-0-0-0-1-4-7 0-0-0-4-6-8-9 0-0-1-1-1-3-4 0-0-0-3-5-6-9 0-0-0-2-4-5-8 0-0-0-3-5-7-9 0-0-0-0-1-4-6 0-0-0-0-3-4-5 0-0-1-3-4-9-9 0-0-1-4-5-5-6 0-1-3-5-6-6-9 0-0-0-0-0-5-8 0-0-0-1-3-4-6 0-0-1-3-4-4-4 0-0-0-4-5-5-6 0-0-4-5-6-7-9 0-0-0-0-0-5-7 0-0-0-4-5-6-7 0-0-0-4-5-6-8 0-0-1-3-4-6-6 0-0-3-4-7-8-8 0-0-0-0-3-5-6 0-0-3-5-6-8-9 0-0-0-1-3-4-9 0-0-0-0-5-7-8 0-0-0-0-3-5-9 0-0-1-3-3-4-4 0-0-0-4-8-9-9 0-0-4-8-9-9-9 0-1-2-3-5-6-8 0-0-0-0-0-5-6 0-0-5-8-9-9-9 0-0-0-2-3-4-7 0-0-0-0-0-2-5 0-0-0-0-3-4-6 0-0-0-0-3-4-7 0-0-0-0-4-5-8 0-0-0-0-0-1-4 0-0-0-2-5-7-8 0-0-0-0-4-5-9 0-0-1-2-3-5-6 0-0-0-0-5-7-9 0-0-3-4-6-8-9 0-0-1-3-4-5-7 0-0-0-0-1-3-4 0-0-0-1-5-6-7 0-0-1-2-2-3-4 0-0-1-3-4-6-9 0-0-1-5-6-8-9 0-0-0-0-0-4-6 0-0-1-5-7-8-9 0-0-0-5-5-5-5 0-0-0-3-5-6-7 0-0-3-4-5-9-9 0-0-0-0-0-3-5 0-0-0-1-3-4-7 0-0-0-0-0-5-5 0-0-3-4-4-6-9 0-0-1-1-3-4-8 0-0-4-6-8-9-9 0-0-0-0-5-6-9 0-0-0-0-1-4-5 0-0-0-3-4-4-9 0-0-0-0-0-0-4 0-0-0-1-3-5-6 0-0-1-3-4-6-8 0-0-0-1-4-4-5 0-0-0-4-5-5-9 0-0-1-3-4-5-5 0-0-0-0-3-4-9 0-0-0-0-1-5-6 0-0-0-0-1-5-8 0-0-0-0-4-5-7 \n",
      " 137\n"
     ]
    }
   ],
   "source": [
    "for item in set(to_print_list):\n",
    "  print(item, end=' ')\n",
    "print('\\n',len(set(to_print_list)))"
   ]
  },
  {
   "cell_type": "code",
   "execution_count": 121,
   "metadata": {
    "collapsed": false,
    "deletable": true,
    "editable": true,
    "inputHidden": false,
    "outputHidden": false
   },
   "outputs": [],
   "source": [
    "fourty_eight_setting=['2-2-2-2-2-3-4','2-2-3-3-3-3-3','1-1-2-2-2-3-4','0-1-1-1-2-3-4','0-1-2-2-3-4-4','2-2-2-2-2-2-3','0-0-1-1-3-4-4','1-1-1-1-1-4-4','0-0-0-0-0-3-4','0-1-1-1-1-3-4','1-3-3-3-4-4-4','1-1-2-2-2-2-3','0-1-2-3-4-4-4','0-3-3-3-3-3-3','1-1-1-1-1-2-4','0-0-0-2-2-3-3','3-3-3-3-4-4-4','0-0-3-3-3-4-4','3-3-3-3-4-4-4','0-0-0-3-3-3-3','0-1-1-3-3-3-4','0-1-1-1-4-4-4','0-1-1-2-3-4-4','0-0-2-2-2-3-3','0-1-2-2-2-4-4','3-3-3-4-4-4-4','0-0-0-0-1-4-4','0-2-4-4-4-4-4','1-1-2-2-3-3-3','0-0-4-4-4-4-4','0-0-1-2-2-2-4','1-2-3-3-3-3-4','2-2-3-3-3-3-4','0-0-0-0-0-1-4','0-1-1-1-2-2-3','0-0-2-3-3-4-4','2-4-4-4-4-4-4','2-2-4-4-4-4-4','0-0-0-0-1-3-3','2-2-2-2-2-2-4','1-1-2-3-3-3-4','0-0-0-3-3-3-4','0-0-0-1-3-3-3','2-2-2-3-3-4-4','0-1-1-1-1-1-3','0-1-1-1-2-2-3','0-0-0-0-2-3-4','1-2-2-2-2-2-4','2-2-2-2-3-3-4','1-1-2-2-3-4-4']"
   ]
  },
  {
   "cell_type": "code",
   "execution_count": 125,
   "metadata": {
    "collapsed": false,
    "deletable": true,
    "editable": true,
    "inputHidden": false,
    "outputHidden": false
   },
   "outputs": [
    {
     "name": "stdout",
     "output_type": "stream",
     "text": [
      "0-0-0-0-0-3-4\n",
      "0-0-0-0-0-1-4\n"
     ]
    }
   ],
   "source": [
    "for item in fourty_eight_setting:\n",
    "  if item in to_print_list:\n",
    "    print(item)"
   ]
  },
  {
   "cell_type": "code",
   "execution_count": null,
   "metadata": {
    "collapsed": false,
    "deletable": true,
    "editable": true,
    "inputHidden": false,
    "outputHidden": false
   },
   "outputs": [],
   "source": []
  },
  {
   "cell_type": "code",
   "execution_count": null,
   "metadata": {
    "collapsed": false,
    "deletable": true,
    "editable": true,
    "inputHidden": false,
    "outputHidden": false
   },
   "outputs": [],
   "source": []
  },
  {
   "cell_type": "code",
   "execution_count": 45,
   "metadata": {
    "ExecuteTime": {
     "end_time": "2019-06-12T11:20:19.181648Z",
     "start_time": "2019-06-12T11:20:19.173022Z"
    },
    "collapsed": false,
    "deletable": true,
    "editable": true,
    "inputHidden": false,
    "outputHidden": false
   },
   "outputs": [
    {
     "data": {
      "text/plain": [
       "0"
      ]
     },
     "execution_count": 45,
     "metadata": {},
     "output_type": "execute_result"
    }
   ],
   "source": [
    "even_number = (np.sum(x, axis=1) % 2 == 0)\n",
    "len(x[~even_number])"
   ]
  },
  {
   "cell_type": "code",
   "execution_count": 21,
   "metadata": {
    "collapsed": false,
    "deletable": true,
    "editable": true,
    "inputHidden": false,
    "outputHidden": false
   },
   "outputs": [
    {
     "data": {
      "text/plain": [
       "array([ True,  True,  True,  True,  True,  True,  True,  True,  True,\n",
       "        True,  True,  True,  True,  True,  True,  True,  True,  True,\n",
       "        True,  True,  True,  True,  True,  True,  True,  True,  True,\n",
       "        True,  True,  True,  True,  True,  True,  True,  True,  True,\n",
       "        True,  True,  True,  True,  True,  True,  True,  True,  True,\n",
       "        True,  True,  True,  True,  True,  True, False,  True,  True,\n",
       "        True,  True,  True,  True,  True,  True,  True,  True,  True,\n",
       "        True,  True,  True,  True,  True,  True,  True,  True,  True,\n",
       "        True,  True,  True,  True,  True,  True,  True,  True,  True,\n",
       "        True,  True,  True,  True,  True,  True,  True,  True,  True,\n",
       "        True,  True,  True,  True,  True,  True,  True,  True,  True,\n",
       "        True,  True,  True,  True,  True,  True,  True,  True,  True,\n",
       "        True,  True,  True])"
      ]
     },
     "execution_count": 21,
     "metadata": {},
     "output_type": "execute_result"
    }
   ],
   "source": [
    "# if still exists odd x, remove them for all x, y1, y2, y3\n",
    "even_number"
   ]
  },
  {
   "cell_type": "code",
   "execution_count": 22,
   "metadata": {
    "collapsed": false,
    "deletable": true,
    "editable": true,
    "inputHidden": false,
    "outputHidden": false
   },
   "outputs": [],
   "source": [
    "even_number = (np.sum(x, axis=1) % 2 == 0)"
   ]
  },
  {
   "cell_type": "code",
   "execution_count": 23,
   "metadata": {
    "collapsed": false,
    "deletable": true,
    "editable": true,
    "inputHidden": false,
    "outputHidden": false
   },
   "outputs": [
    {
     "data": {
      "text/plain": [
       "106"
      ]
     },
     "execution_count": 23,
     "metadata": {},
     "output_type": "execute_result"
    }
   ],
   "source": [
    "len(x)"
   ]
  },
  {
   "cell_type": "code",
   "execution_count": null,
   "metadata": {
    "collapsed": false,
    "deletable": true,
    "editable": true,
    "inputHidden": false,
    "outputHidden": false
   },
   "outputs": [],
   "source": []
  },
  {
   "cell_type": "code",
   "execution_count": null,
   "metadata": {
    "collapsed": false,
    "deletable": true,
    "editable": true,
    "inputHidden": false,
    "outputHidden": false
   },
   "outputs": [],
   "source": []
  },
  {
   "cell_type": "code",
   "execution_count": null,
   "metadata": {
    "collapsed": false,
    "deletable": true,
    "editable": true,
    "inputHidden": false,
    "outputHidden": false
   },
   "outputs": [],
   "source": []
  },
  {
   "cell_type": "code",
   "execution_count": 35,
   "metadata": {
    "collapsed": false,
    "deletable": true,
    "editable": true,
    "inputHidden": false,
    "outputHidden": false
   },
   "outputs": [
    {
     "data": {
      "text/plain": [
       "array([[2., 3., 3., 0., 0., 0., 0., 0., 0.],\n",
       "       [0., 1., 4., 0., 0., 0., 0., 0., 0.],\n",
       "       [1., 4., 0., 2., 0., 0., 0., 0., 0.],\n",
       "       [3., 1., 0., 3., 0., 0., 0., 0., 0.],\n",
       "       [2., 4., 1., 1., 0., 0., 0., 0., 0.],\n",
       "       [0., 1., 3., 1., 0., 0., 0., 0., 0.],\n",
       "       [0., 1., 3., 2., 0., 0., 0., 0., 0.],\n",
       "       [0., 2., 8., 6., 0., 0., 0., 0., 0.],\n",
       "       [0., 1., 0., 5., 0., 0., 0., 0., 0.],\n",
       "       [1., 3., 1., 2., 0., 0., 0., 0., 0.],\n",
       "       [0., 3., 0., 5., 0., 0., 0., 0., 0.],\n",
       "       [0., 1., 3., 4., 0., 0., 0., 0., 0.],\n",
       "       [0., 1., 6., 0., 0., 0., 0., 0., 0.],\n",
       "       [2., 2., 1., 2., 0., 0., 0., 0., 0.],\n",
       "       [0., 3., 4., 1., 0., 0., 0., 0., 0.],\n",
       "       [2., 3., 1., 2., 0., 0., 0., 0., 0.],\n",
       "       [0., 3., 5., 0., 0., 0., 0., 0., 0.],\n",
       "       [2., 5., 1., 0., 0., 0., 0., 0., 0.],\n",
       "       [2., 1., 1., 2., 0., 0., 0., 0., 0.],\n",
       "       [2., 2., 3., 1., 0., 0., 0., 0., 0.],\n",
       "       [2., 1., 3., 1., 0., 0., 0., 0., 0.],\n",
       "       [1., 6., 0., 1., 0., 0., 0., 0., 0.],\n",
       "       [0., 3., 2., 0., 0., 0., 0., 0., 0.],\n",
       "       [0., 6., 1., 1., 0., 0., 0., 0., 0.],\n",
       "       [1., 1., 3., 0., 0., 0., 0., 0., 0.],\n",
       "       [0., 4., 2., 2., 0., 0., 0., 0., 0.],\n",
       "       [5., 1., 0., 2., 0., 0., 0., 0., 0.],\n",
       "       [0., 2., 2., 2., 0., 0., 0., 0., 0.],\n",
       "       [4., 1., 1., 1., 0., 0., 0., 0., 0.],\n",
       "       [1., 1., 0., 1., 0., 0., 0., 0., 0.],\n",
       "       [1., 1., 2., 0., 0., 0., 0., 0., 0.],\n",
       "       [5., 2., 0., 1., 0., 0., 0., 0., 0.],\n",
       "       [5., 1., 1., 0., 0., 0., 0., 0., 0.],\n",
       "       [6., 6., 2., 0., 0., 0., 0., 0., 0.],\n",
       "       [0., 5., 2., 1., 0., 0., 0., 0., 0.],\n",
       "       [0., 4., 2., 0., 0., 0., 0., 0., 0.],\n",
       "       [1., 4., 0., 1., 0., 0., 0., 0., 0.],\n",
       "       [0., 1., 1., 1., 0., 0., 0., 0., 0.],\n",
       "       [3., 2., 1., 1., 0., 0., 0., 0., 0.],\n",
       "       [0., 7., 0., 1., 0., 0., 0., 0., 0.],\n",
       "       [0., 2., 1., 1., 0., 0., 0., 0., 0.],\n",
       "       [1., 2., 1., 3., 0., 0., 0., 0., 0.],\n",
       "       [1., 2., 4., 1., 0., 0., 0., 0., 0.],\n",
       "       [1., 1., 3., 3., 0., 0., 0., 0., 0.],\n",
       "       [0., 2., 0., 6., 0., 0., 0., 0., 0.],\n",
       "       [0., 2., 0., 5., 0., 0., 0., 0., 0.],\n",
       "       [0., 7., 1., 0., 0., 0., 0., 0., 0.],\n",
       "       [1., 1., 0., 2., 0., 0., 0., 0., 0.]])"
      ]
     },
     "execution_count": 35,
     "metadata": {},
     "output_type": "execute_result"
    }
   ],
   "source": [
    "x"
   ]
  },
  {
   "cell_type": "markdown",
   "metadata": {
    "deletable": true,
    "editable": true
   },
   "source": [
    "# Step 2: Checking which logs need fix"
   ]
  },
  {
   "cell_type": "code",
   "execution_count": 86,
   "metadata": {
    "collapsed": false,
    "deletable": true,
    "editable": true,
    "inputHidden": false,
    "outputHidden": false
   },
   "outputs": [],
   "source": [
    "def dataset_x_to_profile_setting(array, verbose=True):\n",
    "  # array = x[~even_number][:2] # shape: (2, 9)\n",
    "\n",
    "  summary_setting = None\n",
    "  for item in array:\n",
    "    setting = [2] # the first 2 is necessary\n",
    "    for i in range(len(item)):\n",
    "      if item[i] != 0:\n",
    "        repeat_time = int(round(item[i]/2 + 0.001)) # make 3/2 => 2\n",
    "        if verbose and item[i] % 2 != 0:\n",
    "          print(\"%s, %d: %.3f => %d; \" % (item, i+1, item[i], repeat_time), end='')\n",
    "        if i == 1: # i.e., minus 1 repeat_time for '2'\n",
    "          repeat_time -= 1\n",
    "        for num in range(repeat_time):\n",
    "          setting.append(i+1)\n",
    "    if len(setting) < 8: # not occupying all slots\n",
    "      # workload specific: inserting \"0\" after the first \"2\".\n",
    "      for i in range(8-len(setting)):\n",
    "        setting.insert(1, 0)\n",
    "    # end of setting building\n",
    "    if verbose:\n",
    "      print(setting)\n",
    "\n",
    "    if summary_setting is None:\n",
    "      summary_setting = [setting]\n",
    "    else:\n",
    "      summary_setting.append(setting)\n",
    "\n",
    "  summary_setting.sort()\n",
    "  if verbose:\n",
    "    print(summary_setting)\n",
    "\n",
    "  return summary_setting\n",
    "\n",
    "  "
   ]
  },
  {
   "cell_type": "code",
   "execution_count": 13,
   "metadata": {
    "collapsed": false,
    "deletable": true,
    "editable": true,
    "inputHidden": false,
    "outputHidden": false
   },
   "outputs": [
    {
     "name": "stdout",
     "output_type": "stream",
     "text": [
      "[0. 2. 0. 2. 0. 0. 0. 1. 2.], 8: 1.000 => 1; [2, 0, 0, 0, 0, 4, 8, 9]\n",
      "[0. 2. 0. 2. 0. 0. 0. 3. 0.], 8: 3.000 => 2; [2, 0, 0, 0, 0, 4, 8, 8]\n",
      "[0. 4. 0. 0. 2. 0. 0. 1. 0.], 8: 1.000 => 1; [2, 0, 0, 0, 0, 2, 5, 8]\n",
      "[0. 2. 3. 0. 0. 0. 0. 2. 0.], 3: 3.000 => 2; [2, 0, 0, 0, 0, 3, 3, 8]\n",
      "[0. 2. 2. 0. 0. 0. 2. 1. 0.], 8: 1.000 => 1; [2, 0, 0, 0, 0, 3, 7, 8]\n",
      "[0. 2. 0. 0. 2. 0. 0. 1. 2.], 8: 1.000 => 1; [2, 0, 0, 0, 0, 5, 8, 9]\n",
      "[0. 4. 0. 2. 0. 0. 0. 1. 0.], 8: 1.000 => 1; [2, 0, 0, 0, 0, 2, 4, 8]\n",
      "[0. 2. 0. 0. 0. 0. 2. 3. 0.], 8: 3.000 => 2; [2, 0, 0, 0, 0, 7, 8, 8]\n",
      "[0. 2. 2. 0. 0. 2. 0. 1. 0.], 8: 1.000 => 1; [2, 0, 0, 0, 0, 3, 6, 8]\n",
      "[0. 2. 1. 0. 0. 2. 0. 0. 2.], 3: 1.000 => 1; [2, 0, 0, 0, 0, 3, 6, 9]\n",
      "[0. 2. 2. 0. 0. 0. 0. 3. 0.], 8: 3.000 => 2; [2, 0, 0, 0, 0, 3, 8, 8]\n",
      "[0. 4. 0. 0. 0. 0. 0. 3. 0.], 8: 3.000 => 2; [2, 0, 0, 0, 0, 2, 8, 8]\n",
      "[0. 2. 0. 0. 0. 2. 2. 1. 0.], 8: 1.000 => 1; [2, 0, 0, 0, 0, 6, 7, 8]\n",
      "[0. 2. 3. 0. 2. 0. 0. 0. 0.], 3: 3.000 => 2; [2, 0, 0, 0, 0, 3, 3, 5]\n",
      "[0. 2. 0. 2. 0. 2. 0. 1. 0.], 8: 1.000 => 1; [2, 0, 0, 0, 0, 4, 6, 8]\n",
      "[0. 2. 0. 4. 0. 0. 0. 1. 0.], 8: 1.000 => 1; [2, 0, 0, 0, 0, 4, 4, 8]\n",
      "[[2, 0, 0, 0, 0, 2, 4, 8], [2, 0, 0, 0, 0, 2, 5, 8], [2, 0, 0, 0, 0, 2, 8, 8], [2, 0, 0, 0, 0, 3, 3, 5], [2, 0, 0, 0, 0, 3, 3, 8], [2, 0, 0, 0, 0, 3, 6, 8], [2, 0, 0, 0, 0, 3, 6, 9], [2, 0, 0, 0, 0, 3, 7, 8], [2, 0, 0, 0, 0, 3, 8, 8], [2, 0, 0, 0, 0, 4, 4, 8], [2, 0, 0, 0, 0, 4, 6, 8], [2, 0, 0, 0, 0, 4, 8, 8], [2, 0, 0, 0, 0, 4, 8, 9], [2, 0, 0, 0, 0, 5, 8, 9], [2, 0, 0, 0, 0, 6, 7, 8], [2, 0, 0, 0, 0, 7, 8, 8]]\n"
     ]
    },
    {
     "data": {
      "text/plain": [
       "[[2, 0, 0, 0, 0, 2, 4, 8],\n",
       " [2, 0, 0, 0, 0, 2, 5, 8],\n",
       " [2, 0, 0, 0, 0, 2, 8, 8],\n",
       " [2, 0, 0, 0, 0, 3, 3, 5],\n",
       " [2, 0, 0, 0, 0, 3, 3, 8],\n",
       " [2, 0, 0, 0, 0, 3, 6, 8],\n",
       " [2, 0, 0, 0, 0, 3, 6, 9],\n",
       " [2, 0, 0, 0, 0, 3, 7, 8],\n",
       " [2, 0, 0, 0, 0, 3, 8, 8],\n",
       " [2, 0, 0, 0, 0, 4, 4, 8],\n",
       " [2, 0, 0, 0, 0, 4, 6, 8],\n",
       " [2, 0, 0, 0, 0, 4, 8, 8],\n",
       " [2, 0, 0, 0, 0, 4, 8, 9],\n",
       " [2, 0, 0, 0, 0, 5, 8, 9],\n",
       " [2, 0, 0, 0, 0, 6, 7, 8],\n",
       " [2, 0, 0, 0, 0, 7, 8, 8]]"
      ]
     },
     "execution_count": 13,
     "metadata": {},
     "output_type": "execute_result"
    }
   ],
   "source": [
    "summary_setting = dataset_x_to_profile_setting(x[~even_number])\n",
    "summary_setting"
   ]
  },
  {
   "cell_type": "markdown",
   "metadata": {
    "deletable": true,
    "editable": true
   },
   "source": [
    "1. Run pyscript_1 to the fix-log\n",
    "\n",
    "2. Copy these .csv files to summary folder.\n",
    "\n",
    "3. Rerun pyscript_2 and _3 to collect new .npz\n",
    "\n",
    "4. Import new .npz into this notebook again."
   ]
  },
  {
   "cell_type": "markdown",
   "metadata": {
    "deletable": true,
    "editable": true
   },
   "source": [
    "# Step 3: After fix, still wrong, please remove them"
   ]
  },
  {
   "cell_type": "code",
   "execution_count": 44,
   "metadata": {
    "collapsed": false,
    "deletable": true,
    "editable": true,
    "inputHidden": false,
    "outputHidden": false
   },
   "outputs": [],
   "source": [
    "def remove_odd_records(x, y1, y2, y3):\n",
    "  even_number = (np.sum(x, axis=1) % 2 == 0)\n",
    "  indices = np.where(~even_number)\n",
    "  x = np.delete(x, indices, 0)\n",
    "  y1 = np.delete(y1, indices, 0)\n",
    "  y2 = np.delete(y2, indices, 0)\n",
    "  y3 = np.delete(y3, indices, 0)\n",
    "  return x, y1, y2, y3"
   ]
  },
  {
   "cell_type": "code",
   "execution_count": 45,
   "metadata": {
    "collapsed": false,
    "deletable": true,
    "editable": true,
    "inputHidden": false,
    "outputHidden": false
   },
   "outputs": [],
   "source": [
    "x,y1,y2,y3=remove_odd_records(x, y1, y2, y3)"
   ]
  },
  {
   "cell_type": "markdown",
   "metadata": {
    "deletable": true,
    "editable": true
   },
   "source": [
    "And save to new .npz file"
   ]
  },
  {
   "cell_type": "code",
   "execution_count": 36,
   "metadata": {
    "collapsed": false,
    "deletable": true,
    "editable": true,
    "inputHidden": false,
    "outputHidden": false
   },
   "outputs": [],
   "source": [
    "# np.savez('0507-115-1-results.npz',alloc=x,rt_50=y1, rt_99=y2, rps=y3)\n",
    "# np.savez('0508-low-1-results.npz',alloc=x,rt_50=y1, rt_99=y2, rps=y3)\n",
    "# np.savez('0508-low-110-results.npz',alloc=x,rt_50=y1, rt_99=y2, rps=y3)\n",
    "# np.savez('dataset-0423x2-0424x2-0425x2-median.npz',alloc=x,rt_50=y1, rt_99=y2, rps=y3)\n",
    "np.savez('0601-mms-48-results.npz',alloc=x,rt_50=y1, rt_99=y2, rps=y3)\n"
   ]
  },
  {
   "cell_type": "code",
   "execution_count": null,
   "metadata": {
    "collapsed": false,
    "deletable": true,
    "editable": true,
    "inputHidden": false,
    "outputHidden": false
   },
   "outputs": [],
   "source": []
  },
  {
   "cell_type": "markdown",
   "metadata": {
    "deletable": true,
    "editable": true
   },
   "source": [
    "# Step 4: Combine different npz files into one"
   ]
  },
  {
   "cell_type": "code",
   "execution_count": 293,
   "metadata": {
    "ExecuteTime": {
     "end_time": "2019-06-11T15:01:52.428860Z",
     "start_time": "2019-06-11T15:01:52.408582Z"
    },
    "collapsed": false,
    "deletable": true,
    "editable": true,
    "inputHidden": false,
    "outputHidden": false
   },
   "outputs": [],
   "source": [
    "one = '0601-mms-48-results.npz'\n",
    "two = '0602-mss-revisit-135-results.npz'\n",
    "\n",
    "npzfile = np.load(one)\n",
    "x_one, y1_one, y2_one, y3_one = npzfile['alloc'], npzfile['rt_50'], npzfile['rt_99'], npzfile['rps']\n",
    "\n",
    "npzfile = np.load(two)\n",
    "x_two, y1_two, y2_two, y3_two = npzfile['alloc'], npzfile['rt_50'], npzfile['rt_99'], npzfile['rps']\n",
    "\n",
    "x_com = np.append(x_one, x_two, axis=0)\n",
    "y1_com = np.append(y1_one, y1_two, axis=0)\n",
    "y2_com = np.append(y2_one, y2_two, axis=0)\n",
    "y3_com = np.append(y3_one, y3_two, axis=0)"
   ]
  },
  {
   "cell_type": "code",
   "execution_count": 294,
   "metadata": {
    "ExecuteTime": {
     "end_time": "2019-06-11T15:01:53.080408Z",
     "start_time": "2019-06-11T15:01:53.069050Z"
    },
    "collapsed": false,
    "deletable": true,
    "editable": true,
    "inputHidden": false,
    "outputHidden": false
   },
   "outputs": [
    {
     "data": {
      "text/plain": [
       "(183, 183, 183, 183)"
      ]
     },
     "execution_count": 294,
     "metadata": {},
     "output_type": "execute_result"
    }
   ],
   "source": [
    "len(x_com),len(y1_com),len(y2_com),len(y3_com)"
   ]
  },
  {
   "cell_type": "code",
   "execution_count": 295,
   "metadata": {
    "ExecuteTime": {
     "end_time": "2019-06-11T15:02:27.741786Z",
     "start_time": "2019-06-11T15:02:27.737418Z"
    },
    "collapsed": false,
    "deletable": true,
    "editable": true,
    "inputHidden": false,
    "outputHidden": false
   },
   "outputs": [],
   "source": [
    "com = '0610-mms-com-183-results.npz'"
   ]
  },
  {
   "cell_type": "code",
   "execution_count": 296,
   "metadata": {
    "ExecuteTime": {
     "end_time": "2019-06-11T15:02:28.681363Z",
     "start_time": "2019-06-11T15:02:28.671664Z"
    },
    "collapsed": false,
    "deletable": true,
    "editable": true,
    "inputHidden": false,
    "outputHidden": false
   },
   "outputs": [],
   "source": [
    "np.savez(com,alloc=x_com,rt_50=y1_com, rt_99=y2_com, rps=y3_com)"
   ]
  },
  {
   "cell_type": "code",
   "execution_count": 334,
   "metadata": {
    "ExecuteTime": {
     "end_time": "2019-06-11T15:13:56.104490Z",
     "start_time": "2019-06-11T15:13:56.090951Z"
    },
    "collapsed": false,
    "deletable": true,
    "editable": true,
    "inputHidden": false,
    "outputHidden": false
   },
   "outputs": [],
   "source": [
    "def find_self_duplicate(x, verbose=1):\n",
    "    temp_set=set()\n",
    "    duplicate_dict={}\n",
    "    x_list = x.tolist()\n",
    "    for index in range(len(x_list)):\n",
    "        item_list = x_list[index]\n",
    "        item_str = str(item_list)\n",
    "        if item_str in temp_set:\n",
    "            if verbose:\n",
    "                first_occur_index = x_list.index(item_list)\n",
    "                print(index, x[index], first_occur_index)\n",
    "            duplicate_dict[index] = first_occur_index\n",
    "        temp_set.add(item_str)\n",
    "    return duplicate_dict"
   ]
  },
  {
   "cell_type": "code",
   "execution_count": 338,
   "metadata": {
    "ExecuteTime": {
     "end_time": "2019-06-11T15:16:29.666180Z",
     "start_time": "2019-06-11T15:16:29.623704Z"
    },
    "collapsed": false,
    "deletable": true,
    "editable": true
   },
   "outputs": [
    {
     "name": "stdout",
     "output_type": "stream",
     "text": [
      "12 [0. 1. 0. 1. 0. 0. 0. 1. 5.] 4\n",
      "15 [1. 1. 1. 1. 0. 0. 0. 0. 4.] 14\n",
      "38 [1. 1. 0. 0. 1. 1. 0. 1. 3.] 28\n",
      "42 [0. 1. 0. 0. 1. 0. 0. 1. 5.] 36\n",
      "50 [0. 1. 0. 0. 1. 0. 0. 1. 5.] 36\n",
      "66 [0. 1. 0. 0. 1. 0. 1. 0. 5.] 61\n",
      "68 [1. 1. 1. 1. 0. 0. 0. 0. 4.] 14\n",
      "74 [0. 1. 1. 1. 1. 0. 0. 0. 4.] 44\n",
      "77 [1. 1. 0. 1. 1. 0. 1. 0. 3.] 3\n",
      "81 [0. 1. 0. 1. 1. 0. 0. 1. 4.] 72\n",
      "82 [1. 1. 0. 0. 1. 0. 0. 0. 5.] 40\n",
      "84 [0. 1. 1. 0. 1. 0. 0. 0. 5.] 21\n",
      "86 [0. 1. 1. 0. 1. 0. 0. 0. 5.] 21\n",
      "92 [0. 1. 1. 1. 1. 0. 0. 0. 4.] 44\n",
      "93 [0. 1. 0. 1. 1. 1. 1. 0. 3.] 76\n",
      "95 [0. 1. 0. 1. 1. 0. 0. 0. 5.] 83\n",
      "96 [0. 1. 0. 1. 0. 1. 0. 1. 4.] 11\n",
      "98 [1. 1. 1. 1. 0. 1. 0. 0. 3.] 70\n",
      "100 [0. 1. 1. 1. 0. 0. 0. 1. 4.] 49\n",
      "104 [0. 1. 1. 0. 1. 1. 0. 0. 4.] 10\n",
      "105 [1. 1. 0. 0. 1. 0. 0. 0. 5.] 40\n",
      "108 [0. 1. 0. 0. 1. 1. 0. 0. 5.] 62\n",
      "110 [1. 1. 1. 1. 1. 0. 0. 0. 3.] 106\n",
      "113 [0. 1. 1. 0. 1. 0. 1. 0. 4.] 39\n",
      "114 [0. 1. 0. 1. 0. 0. 1. 0. 5.] 85\n",
      "117 [0. 1. 0. 1. 0. 1. 0. 0. 5.] 103\n",
      "121 [0. 2. 0. 1. 0. 0. 0. 0. 5.] 109\n",
      "122 [0. 1. 0. 1. 0. 1. 0. 1. 4.] 11\n",
      "125 [1. 1. 0. 1. 0. 0. 0. 2. 3.] 33\n",
      "127 [0. 1. 0. 1. 0. 0. 0. 1. 5.] 4\n",
      "128 [0. 1. 0. 1. 0. 0. 0. 0. 6.] 20\n",
      "132 [0. 1. 1. 0. 1. 1. 0. 1. 3.] 9\n",
      "133 [0. 1. 0. 0. 1. 0. 0. 0. 6.] 46\n"
     ]
    }
   ],
   "source": [
    "duplicate_dict=find_self_duplicate(x_two)"
   ]
  },
  {
   "cell_type": "code",
   "execution_count": 343,
   "metadata": {
    "ExecuteTime": {
     "end_time": "2019-06-11T15:17:18.360984Z",
     "start_time": "2019-06-11T15:17:18.350694Z"
    },
    "collapsed": false,
    "deletable": true,
    "editable": true
   },
   "outputs": [
    {
     "data": {
      "text/plain": [
       "(array([0., 1., 0., 0., 1., 0., 0., 0., 6.]),\n",
       " array([0., 1., 0., 0., 1., 0., 0., 0., 6.]),\n",
       " array([nan, 1.23, nan, nan, 2.985, nan, nan, nan, nan], dtype=object),\n",
       " array([nan, 1.21, nan, nan, 2.955, nan, nan, nan, 2.39], dtype=object))"
      ]
     },
     "execution_count": 343,
     "metadata": {},
     "output_type": "execute_result"
    }
   ],
   "source": [
    "x_two[133],x_two[46],y3_two[133],y3_two[46]"
   ]
  },
  {
   "cell_type": "code",
   "execution_count": 344,
   "metadata": {
    "ExecuteTime": {
     "end_time": "2019-06-11T15:17:44.064928Z",
     "start_time": "2019-06-11T15:17:44.042960Z"
    },
    "collapsed": false,
    "deletable": true,
    "editable": true
   },
   "outputs": [
    {
     "data": {
      "text/plain": [
       "(array([0., 1., 1., 0., 1., 1., 0., 1., 3.]),\n",
       " array([0., 1., 1., 0., 1., 1., 0., 1., 3.]),\n",
       " array([nan, 0.74, 4.39, nan, 2.325, 0.8, nan, 0.8, 1.245], dtype=object),\n",
       " array([nan, 0.895, 3.665, nan, 2.88, 1.455, nan, 0.81, nan], dtype=object))"
      ]
     },
     "execution_count": 344,
     "metadata": {},
     "output_type": "execute_result"
    }
   ],
   "source": [
    "x_two[132],x_two[9],y3_two[132],y3_two[9]"
   ]
  },
  {
   "cell_type": "code",
   "execution_count": null,
   "metadata": {
    "collapsed": true,
    "deletable": true,
    "editable": true
   },
   "outputs": [],
   "source": []
  },
  {
   "cell_type": "code",
   "execution_count": null,
   "metadata": {
    "collapsed": true,
    "deletable": true,
    "editable": true
   },
   "outputs": [],
   "source": []
  },
  {
   "cell_type": "code",
   "execution_count": 341,
   "metadata": {
    "ExecuteTime": {
     "end_time": "2019-06-11T15:16:42.586002Z",
     "start_time": "2019-06-11T15:16:42.580910Z"
    },
    "collapsed": false,
    "deletable": true,
    "editable": true
   },
   "outputs": [],
   "source": [
    "indices=list(duplicate_dict.keys())"
   ]
  },
  {
   "cell_type": "code",
   "execution_count": 328,
   "metadata": {
    "ExecuteTime": {
     "end_time": "2019-06-11T15:11:01.314212Z",
     "start_time": "2019-06-11T15:11:01.307467Z"
    },
    "collapsed": false,
    "deletable": true,
    "editable": true
   },
   "outputs": [
    {
     "data": {
      "text/plain": [
       "array([0., 1., 0., 1., 0., 0., 0., 1., 5.])"
      ]
     },
     "execution_count": 328,
     "metadata": {},
     "output_type": "execute_result"
    }
   ],
   "source": [
    "x_com[60]"
   ]
  },
  {
   "cell_type": "code",
   "execution_count": 326,
   "metadata": {
    "ExecuteTime": {
     "end_time": "2019-06-11T15:10:51.200301Z",
     "start_time": "2019-06-11T15:10:51.191719Z"
    },
    "collapsed": false,
    "deletable": true,
    "editable": true
   },
   "outputs": [
    {
     "data": {
      "text/plain": [
       "array([0., 1., 0., 1., 0., 0., 0., 1., 5.])"
      ]
     },
     "execution_count": 326,
     "metadata": {},
     "output_type": "execute_result"
    }
   ],
   "source": [
    "x_com[52]"
   ]
  },
  {
   "cell_type": "markdown",
   "metadata": {
    "deletable": true,
    "editable": true
   },
   "source": [
    "# Fix non-even problem"
   ]
  },
  {
   "cell_type": "code",
   "execution_count": 53,
   "metadata": {
    "collapsed": false,
    "deletable": true,
    "editable": true,
    "inputHidden": false,
    "outputHidden": false
   },
   "outputs": [],
   "source": [
    "npzfile_path_list = ['dataset-0423x2-0424x2-0425x2-median.npz']"
   ]
  },
  {
   "cell_type": "code",
   "execution_count": 54,
   "metadata": {
    "collapsed": false,
    "deletable": true,
    "editable": true,
    "inputHidden": false,
    "outputHidden": false
   },
   "outputs": [],
   "source": [
    "for one in npzfile_path_list:\n",
    "  npzfile = np.load(one)\n",
    "  x, y1, y2, y3 = npzfile['alloc'], npzfile['rt_50'], npzfile['rt_99'], npzfile['rps']\n",
    "  x = x / 2\n",
    "  np.savez(one, alloc=x ,rt_50=y1, rt_99=y2, rps=y3)"
   ]
  },
  {
   "cell_type": "code",
   "execution_count": null,
   "metadata": {
    "collapsed": false,
    "deletable": true,
    "editable": true,
    "inputHidden": false,
    "outputHidden": false
   },
   "outputs": [],
   "source": []
  },
  {
   "cell_type": "code",
   "execution_count": null,
   "metadata": {
    "collapsed": true,
    "deletable": true,
    "editable": true
   },
   "outputs": [],
   "source": []
  },
  {
   "cell_type": "markdown",
   "metadata": {
    "deletable": true,
    "editable": true
   },
   "source": [
    "Translate R1,R2,M1,M2 into 3,4"
   ]
  },
  {
   "cell_type": "code",
   "execution_count": 2,
   "metadata": {
    "ExecuteTime": {
     "end_time": "2019-06-11T15:40:53.805861Z",
     "start_time": "2019-06-11T15:40:53.801374Z"
    },
    "collapsed": true,
    "deletable": true,
    "editable": true
   },
   "outputs": [],
   "source": [
    "input_x = [1, 0, 1, 0, 1, 1, 0, 1, 3] # R1, R2, M1, M2, XXXXX\n",
    "output_x = [0., 1., 1., 0., 1., 1., 0., 1., 3.] # CPU, Redis, MMS_LOCAL, MMS_REMOTE, XXXXX"
   ]
  },
  {
   "cell_type": "code",
   "execution_count": 4,
   "metadata": {
    "ExecuteTime": {
     "end_time": "2019-06-11T15:41:00.645929Z",
     "start_time": "2019-06-11T15:41:00.630074Z"
    },
    "collapsed": false,
    "deletable": true,
    "editable": true
   },
   "outputs": [
    {
     "name": "stdout",
     "output_type": "stream",
     "text": [
      "[0, 1, 1, 0, 1, 1, 0, 1, 3]\n"
     ]
    }
   ],
   "source": [
    "output_x = input_x.copy()\n",
    "\n",
    "num_redis = input_x[0] + input_x[1]  # Redis = R1 + R2\n",
    "num_mms_local = 0\n",
    "num_mms_remote = 0\n",
    "\n",
    "if input_x[0] >= 1:  # if R1 exists\n",
    "    num_mms_local += input_x[2]  # MMS_LOCAL += R1\n",
    "else:\n",
    "    num_mms_remote += input_x[2]  # MMS_REMOTE += R1\n",
    "\n",
    "if input_x[1] >= 1:  # if R2 exists\n",
    "    num_mms_local += input_x[3]  # MMS_LOCAL += R2\n",
    "else:\n",
    "    num_mms_remote += input_x[3]  # MMS_REMOTE += R2\n",
    "\n",
    "output_x[0] = 0  # CPU = 0, discarded\n",
    "output_x[1] = num_redis\n",
    "output_x[2] = num_mms_local\n",
    "output_x[3] = num_mms_remote\n",
    "\n",
    "print(output_x)"
   ]
  },
  {
   "cell_type": "code",
   "execution_count": 5,
   "metadata": {
    "ExecuteTime": {
     "end_time": "2019-06-11T15:43:02.247853Z",
     "start_time": "2019-06-11T15:43:02.232403Z"
    },
    "collapsed": false,
    "deletable": true,
    "editable": true
   },
   "outputs": [
    {
     "data": {
      "text/plain": [
       "[1, 1, 0, 1, 3]"
      ]
     },
     "execution_count": 5,
     "metadata": {},
     "output_type": "execute_result"
    }
   ],
   "source": [
    "input_x[-5:]"
   ]
  },
  {
   "cell_type": "markdown",
   "metadata": {
    "collapsed": true,
    "deletable": true,
    "editable": true
   },
   "source": [
    "### Remove old 3 or 4 workload"
   ]
  },
  {
   "cell_type": "code",
   "execution_count": 81,
   "metadata": {
    "ExecuteTime": {
     "end_time": "2019-06-12T11:58:17.702792Z",
     "start_time": "2019-06-12T11:58:17.695247Z"
    },
    "collapsed": false,
    "deletable": true,
    "editable": true
   },
   "outputs": [
    {
     "data": {
      "text/plain": [
       "438"
      ]
     },
     "execution_count": 81,
     "metadata": {},
     "output_type": "execute_result"
    }
   ],
   "source": [
    "len(xori)"
   ]
  },
  {
   "cell_type": "code",
   "execution_count": 82,
   "metadata": {
    "ExecuteTime": {
     "end_time": "2019-06-12T11:59:21.529201Z",
     "start_time": "2019-06-12T11:59:21.344073Z"
    },
    "collapsed": false
   },
   "outputs": [
    {
     "name": "stdout",
     "output_type": "stream",
     "text": [
      "[0. 1. 0. 3. 0. 0. 0. 0. 0.]\n",
      "[0. 1. 0. 1. 0. 0. 0. 0. 0.]\n",
      "[0. 1. 0. 1. 0. 0. 0. 1. 5.]\n",
      "[0. 1. 0. 1. 0. 0. 0. 2. 4.]\n",
      "[0. 1. 0. 1. 0. 1. 1. 0. 0.]\n",
      "[0. 1. 0. 2. 1. 0. 0. 0. 0.]\n",
      "[0. 1. 0. 2. 0. 0. 1. 0. 0.]\n",
      "[0. 1. 2. 0. 0. 0. 0. 0. 1.]\n",
      "[0. 1. 2. 0. 0. 0. 0. 1. 4.]\n",
      "[0. 1. 0. 1. 0. 1. 0. 0. 0.]\n",
      "[0. 1. 1. 0. 0. 0. 1. 1. 4.]\n",
      "[0. 2. 1. 0. 0. 0. 0. 0. 1.]\n",
      "[0. 2. 1. 0. 0. 0. 0. 1. 0.]\n",
      "[0. 1. 1. 0. 0. 0. 1. 0. 1.]\n",
      "[0. 1. 1. 0. 1. 0. 0. 0. 1.]\n",
      "[0. 1. 1. 0. 1. 0. 0. 1. 0.]\n",
      "[0. 1. 0. 1. 1. 0. 1. 0. 0.]\n",
      "[0. 1. 0. 1. 1. 1. 0. 0. 0.]\n",
      "[0. 1. 0. 1. 0. 0. 0. 0. 2.]\n",
      "[0. 2. 0. 1. 0. 0. 0. 0. 1.]\n",
      "[0. 2. 0. 1. 0. 0. 0. 1. 4.]\n",
      "[0. 1. 0. 1. 2. 0. 0. 0. 0.]\n",
      "[0. 1. 0. 1. 0. 0. 2. 0. 0.]\n",
      "[0. 1. 1. 1. 0. 0. 0. 0. 1.]\n",
      "[0. 1. 1. 1. 0. 0. 0. 1. 0.]\n",
      "[0. 1. 1. 0. 0. 1. 0. 1. 4.]\n",
      "[0. 1. 1. 1. 0. 1. 0. 0. 0.]\n",
      "[0. 1. 1. 1. 0. 0. 1. 0. 0.]\n",
      "[0. 1. 1. 0. 0. 0. 0. 2. 4.]\n",
      "[0. 1. 1. 0. 0. 1. 1. 0. 0.]\n",
      "[0. 1. 1. 1. 1. 0. 0. 0. 0.]\n",
      "[0. 1. 1. 2. 0. 0. 0. 0. 0.]\n",
      "[0. 1. 1. 0. 0. 2. 0. 0. 0.]\n",
      "[0. 1. 1. 0. 0. 0. 0. 1. 1.]\n",
      "[0. 1. 0. 1. 1. 0. 0. 1. 0.]\n",
      "[0. 2. 0. 1. 1. 0. 0. 0. 0.]\n",
      "[0. 2. 0. 2. 0. 0. 0. 0. 0.]\n",
      "[0. 1. 0. 1. 1. 0. 0. 0. 1.]\n",
      "[0. 1. 0. 1. 0. 0. 1. 0. 1.]\n",
      "[0. 2. 0. 1. 0. 1. 0. 0. 0.]\n",
      "[0. 2. 0. 1. 0. 0. 1. 0. 0.]\n",
      "[0. 1. 0. 1. 0. 0. 1. 1. 0.]\n",
      "[0. 1. 1. 0. 2. 0. 0. 0. 0.]\n",
      "[0. 1. 1. 0. 0. 0. 2. 0. 0.]\n",
      "[0. 2. 1. 0. 0. 1. 0. 0. 0.]\n",
      "[0. 1. 3. 0. 0. 0. 0. 0. 0.]\n",
      "[0. 2. 1. 0. 0. 0. 1. 0. 0.]\n",
      "[0. 1. 1. 0. 0. 0. 0. 0. 2.]\n",
      "[0. 1. 1. 0. 1. 1. 0. 0. 0.]\n",
      "[0. 2. 1. 0. 1. 0. 0. 0. 0.]\n",
      "[0. 2. 1. 1. 0. 0. 0. 0. 0.]\n",
      "[0. 1. 1. 0. 1. 0. 1. 0. 0.]\n",
      "[0. 1. 0. 1. 0. 1. 0. 0. 1.]\n",
      "[0. 1. 2. 0. 1. 0. 0. 0. 4.]\n",
      "[0. 1. 2. 1. 0. 0. 0. 0. 0.]\n",
      "[0. 1. 0. 1. 0. 1. 0. 1. 4.]\n",
      "[0. 1. 0. 2. 0. 0. 0. 1. 4.]\n",
      "[0. 2. 2. 0. 0. 0. 0. 0. 0.]\n",
      "[0. 1. 2. 0. 0. 1. 0. 0. 0.]\n",
      "[0. 1. 2. 0. 0. 0. 1. 0. 0.]\n",
      "[0. 1. 0. 2. 0. 0. 0. 0. 1.]\n",
      "[1. 1. 0. 1. 0. 0. 0. 0. 1.]\n",
      "[1. 1. 0. 1. 0. 0. 0. 1. 0.]\n",
      "[0. 1. 0. 1. 0. 0. 0. 0. 1.]\n",
      "[0. 1. 0. 1. 0. 0. 0. 1. 5.]\n",
      "[0. 1. 1. 0. 0. 0. 0. 0. 1.]\n",
      "[0. 1. 1. 0. 0. 0. 0. 1. 0.]\n",
      "[1. 1. 1. 0. 0. 0. 0. 0. 1.]\n",
      "[1. 1. 1. 0. 0. 0. 0. 1. 0.]\n",
      "[1. 1. 1. 0. 1. 0. 0. 0. 0.]\n",
      "[0. 3. 0. 1. 0. 0. 0. 0. 0.]\n",
      "[1. 1. 1. 0. 0. 0. 0. 0. 0.]\n",
      "[1. 1. 1. 1. 0. 0. 0. 0. 0.]\n",
      "[0. 1. 2. 0. 0. 0. 0. 0. 0.]\n",
      "[1. 1. 1. 0. 0. 1. 0. 0. 0.]\n",
      "[1. 1. 1. 0. 0. 0. 1. 0. 0.]\n",
      "[0. 1. 1. 0. 0. 1. 0. 0. 0.]\n",
      "[1. 1. 0. 1. 0. 0. 0. 0. 0.]\n",
      "[1. 1. 2. 0. 0. 0. 0. 0. 0.]\n",
      "[0. 3. 1. 0. 0. 0. 0. 0. 0.]\n",
      "[0. 1. 1. 0. 0. 0. 1. 0. 0.]\n",
      "[0. 1. 1. 0. 1. 0. 0. 0. 0.]\n",
      "[0. 1. 1. 1. 0. 0. 0. 0. 0.]\n",
      "[2. 1. 1. 0. 0. 0. 0. 0. 0.]\n",
      "[0. 1. 0. 1. 1. 0. 0. 0. 0.]\n",
      "[0. 2. 1. 0. 0. 0. 0. 0. 0.]\n",
      "[0. 1. 0. 2. 0. 0. 0. 0. 0.]\n",
      "[0. 1. 0. 1. 0. 1. 0. 0. 0.]\n",
      "[0. 1. 1. 0. 0. 0. 0. 0. 0.]\n",
      "[1. 2. 0. 1. 0. 0. 0. 0. 0.]\n",
      "[0. 1. 0. 1. 0. 0. 1. 0. 0.]\n",
      "[1. 1. 0. 1. 0. 1. 0. 0. 0.]\n",
      "[0. 2. 0. 1. 0. 0. 0. 0. 0.]\n",
      "[1. 1. 0. 1. 0. 0. 1. 0. 0.]\n",
      "[1. 1. 0. 1. 1. 0. 0. 0. 0.]\n",
      "[0. 1. 0. 1. 0. 0. 0. 0. 0.]\n",
      "[1. 2. 1. 0. 0. 0. 0. 0. 0.]\n",
      "[1. 1. 0. 2. 0. 0. 0. 0. 0.]\n",
      "[1. 2. 1. 0. 0. 0. 2. 0. 1.]\n",
      "[3. 1. 2. 0. 0. 0. 0. 0. 1.]\n",
      "[0. 4. 3. 0. 0. 0. 0. 1. 0.]\n",
      "[0. 2. 0. 1. 0. 1. 0. 2. 0.]\n",
      "[2. 1. 1. 2. 2. 0. 0. 0. 0.]\n",
      "[1. 2. 1. 1. 1. 0. 2. 0. 0.]\n",
      "[0. 1. 0. 1. 2. 0. 0. 2. 2.]\n",
      "[0. 4. 1. 2. 0. 0. 1. 0. 0.]\n",
      "[2. 1. 2. 0. 1. 2. 0. 0. 0.]\n",
      "[1. 2. 0. 2. 1. 0. 1. 0. 1.]\n",
      "[0. 1. 1. 0. 1. 1. 0. 1. 0.]\n",
      "[0. 2. 0. 1. 0. 2. 0. 1. 1.]\n",
      "[0. 2. 1. 0. 1. 1. 0. 1. 1.]\n",
      "[0. 1. 0. 1. 0. 3. 0. 0. 1.]\n",
      "[1. 3. 2. 0. 0. 1. 1. 0. 0.]\n",
      "[0. 2. 0. 1. 3. 0. 0. 1. 1.]\n",
      "[0. 1. 0. 3. 1. 1. 1. 0. 1.]\n",
      "[2. 3. 2. 0. 0. 0. 0. 0. 0.]\n",
      "[0. 1. 2. 2. 2. 0. 0. 0. 1.]\n",
      "[0. 1. 3. 0. 1. 1. 0. 0. 2.]\n",
      "[3. 1. 2. 0. 0. 0. 0. 0. 2.]\n",
      "[2. 1. 2. 1. 0. 0. 0. 2. 0.]\n",
      "[0. 2. 1. 3. 0. 1. 0. 0. 1.]\n",
      "[2. 1. 1. 1. 1. 0. 0. 0. 1.]\n",
      "[0. 3. 0. 1. 0. 0. 0. 0. 3.]\n",
      "[0. 1. 0. 2. 4. 1. 0. 0. 0.]\n",
      "[0. 3. 2. 0. 2. 0. 0. 0. 1.]\n",
      "[2. 2. 1. 0. 0. 0. 0. 1. 2.]\n",
      "[1. 2. 2. 1. 1. 1. 0. 0. 0.]\n",
      "[0. 1. 1. 0. 0. 1. 2. 1. 1.]\n",
      "[0. 2. 2. 2. 0. 3. 0. 2. 2.]\n",
      "[1. 2. 2. 1. 2. 0. 0. 0. 0.]\n",
      "[0. 2. 2. 0. 1. 1. 0. 0. 2.]\n",
      "[0. 1. 2. 2. 0. 0. 0. 0. 0.]\n",
      "[2. 1. 2. 0. 0. 1. 0. 2. 0.]\n",
      "[0. 1. 2. 2. 0. 0. 0. 2. 1.]\n",
      "[0. 1. 0. 2. 2. 1. 1. 0. 0.]\n",
      "[2. 1. 1. 0. 0. 1. 0. 1. 2.]\n",
      "[0. 2. 1. 1. 0. 1. 0. 1. 1.]\n",
      "[0. 2. 2. 3. 0. 0. 0. 0. 1.]\n",
      "[1. 3. 1. 0. 1. 1. 0. 1. 0.]\n",
      "[2. 1. 1. 1. 1. 0. 0. 2. 0.]\n",
      "[0. 2. 0. 1. 3. 0. 0. 0. 2.]\n",
      "[0. 1. 1. 0. 0. 0. 1. 2. 2.]\n",
      "[0. 3. 0. 1. 1. 0. 1. 0. 2.]\n",
      "[0. 1. 0. 1. 1. 2. 0. 2. 0.]\n",
      "[1. 1. 0. 2. 3. 1. 0. 0. 0.]\n",
      "[1. 1. 4. 0. 0. 0. 0. 1. 1.]\n",
      "[1. 1. 0. 2. 1. 0. 1. 0. 0.]\n",
      "[3. 1. 2. 0. 0. 1. 0. 1. 0.]\n",
      "[1. 3. 1. 0. 1. 1. 1. 0. 0.]\n",
      "[2. 3. 0. 1. 0. 0. 0. 0. 1.]\n",
      "[0. 2. 2. 2. 4. 0. 0. 0. 0.]\n",
      "[2. 1. 0. 1. 0. 0. 0. 0. 0.]\n",
      "[0. 2. 0. 2. 0. 1. 0. 0. 0.]\n",
      "[0. 2. 0. 1. 0. 3. 0. 0. 2.]\n",
      "[0. 5. 3. 0. 0. 0. 0. 0. 0.]\n",
      "[0. 2. 1. 0. 0. 2. 1. 0. 2.]\n",
      "[0. 1. 1. 0. 3. 0. 0. 0. 0.]\n",
      "[0. 1. 1. 0. 0. 0. 5. 0. 0.]\n",
      "[0. 3. 0. 2. 2. 0. 0. 1. 0.]\n",
      "[2. 2. 1. 0. 0. 0. 0. 0. 0.]\n",
      "[1. 1. 1. 0. 2. 1. 2. 0. 0.]\n",
      "[0. 2. 1. 0. 2. 0. 1. 0. 1.]\n",
      "[1. 1. 1. 0. 1. 3. 0. 0. 1.]\n",
      "[1. 1. 1. 0. 0. 0. 0. 1. 2.]\n",
      "[6. 1. 1. 0. 0. 0. 0. 0. 0.]\n",
      "[1. 3. 1. 0. 2. 1. 0. 0. 0.]\n",
      "[0. 1. 0. 2. 0. 0. 0. 2. 1.]\n",
      "[0. 1. 0. 1. 0. 1. 0. 2. 3.]\n",
      "[0. 1. 2. 0. 0. 3. 0. 0. 2.]\n",
      "[0. 1. 1. 1. 1. 0. 0. 0. 3.]\n",
      "[0. 1. 1. 0. 0. 3. 0. 1. 2.]\n",
      "[0. 1. 1. 1. 0. 0. 2. 3. 0.]\n",
      "[0. 2. 1. 0. 1. 2. 2. 0. 0.]\n",
      "[1. 1. 2. 1. 0. 1. 0. 2. 0.]\n",
      "[1. 2. 0. 1. 0. 0. 1. 1. 2.]\n",
      "[1. 1. 0. 2. 0. 0. 0. 4. 0.]\n",
      "[0. 1. 0. 1. 1. 1. 2. 0. 1.]\n",
      "[2. 1. 0. 3. 2. 0. 0. 0. 0.]\n",
      "[0. 1. 1. 0. 2. 0. 0. 0. 2.]\n",
      "[1. 1. 0. 1. 0. 0. 0. 3. 2.]\n",
      "[1. 1. 1. 1. 0. 0. 0. 4. 0.]\n",
      "[1. 1. 1. 1. 0. 2. 0. 0. 2.]\n",
      "[1. 1. 5. 1. 0. 0. 0. 0. 0.]\n",
      "[1. 1. 1. 1. 0. 0. 0. 0. 4.]\n",
      "[1. 5. 1. 1. 0. 0. 0. 0. 0.]\n",
      "[1. 1. 3. 3. 0. 0. 0. 0. 0.]\n",
      "[1. 1. 1. 1. 0. 4. 0. 0. 0.]\n",
      "[1. 1. 1. 1. 0. 0. 4. 0. 0.]\n",
      "[3. 1. 2. 2. 0. 0. 0. 0. 0.]\n",
      "[1. 1. 2. 2. 0. 0. 2. 0. 0.]\n",
      "[1. 1. 2. 2. 2. 0. 0. 0. 0.]\n",
      "[2. 2. 2. 2. 0. 0. 0. 0. 0.]\n",
      "[1. 1. 2. 2. 0. 0. 0. 0. 2.]\n",
      "[1. 1. 1. 1. 2. 0. 2. 0. 0.]\n",
      "[1. 1. 1. 1. 4. 0. 0. 0. 0.]\n",
      "[3. 1. 1. 1. 0. 0. 0. 2. 0.]\n",
      "[1. 1. 1. 5. 0. 0. 0. 0. 0.]\n",
      "[1. 1. 1. 1. 2. 0. 0. 2. 0.]\n",
      "[1. 1. 2. 2. 0. 0. 0. 2. 0.]\n",
      "[1. 1. 1. 1. 0. 0. 0. 0. 4.]\n",
      "[1. 1. 2. 2. 0. 2. 0. 0. 0.]\n",
      "[5. 1. 1. 1. 0. 0. 0. 0. 0.]\n",
      "[3. 1. 1. 1. 0. 0. 2. 0. 0.]\n",
      "[1. 1. 1. 1. 0. 0. 0. 4. 0.]\n",
      "[1. 1. 5. 1. 0. 0. 0. 0. 0.]\n",
      "[1. 1. 1. 1. 0. 0. 0. 0. 4.]\n",
      "[1. 5. 1. 1. 0. 0. 0. 0. 0.]\n",
      "[1. 1. 3. 3. 0. 0. 0. 0. 0.]\n",
      "[1. 1. 1. 1. 0. 4. 0. 0. 0.]\n",
      "[1. 1. 1. 1. 0. 0. 4. 0. 0.]\n",
      "[3. 1. 2. 2. 0. 0. 0. 0. 0.]\n",
      "[1. 1. 2. 2. 0. 0. 2. 0. 0.]\n",
      "[1. 1. 2. 2. 2. 0. 0. 0. 0.]\n",
      "[2. 2. 2. 2. 0. 0. 0. 0. 0.]\n",
      "[1. 1. 1. 1. 4. 0. 0. 0. 0.]\n",
      "[1. 1. 1. 5. 0. 0. 0. 0. 0.]\n",
      "[1. 1. 1. 1. 0. 0. 0. 0. 0.]\n",
      "[1. 1. 2. 2. 0. 2. 0. 0. 0.]\n",
      "[5. 1. 1. 1. 0. 0. 0. 0. 0.]\n",
      "[1. 1. 1. 1. 0. 0. 0. 4. 0.]\n",
      "[1. 1. 1. 1. 0. 2. 0. 0. 2.]\n",
      "[1. 1. 1. 1. 0. 0. 0. 0. 4.]\n",
      "[1. 1. 1. 1. 0. 4. 0. 0. 0.]\n",
      "[1. 1. 1. 1. 0. 0. 4. 0. 0.]\n",
      "[3. 1. 2. 2. 0. 0. 0. 0. 0.]\n",
      "[1. 1. 2. 2. 0. 0. 2. 0. 0.]\n",
      "[1. 1. 2. 2. 2. 0. 0. 0. 0.]\n",
      "[2. 2. 2. 2. 0. 0. 0. 0. 0.]\n",
      "[1. 1. 2. 2. 0. 0. 0. 0. 2.]\n",
      "[1. 1. 1. 1. 2. 0. 2. 0. 0.]\n",
      "[1. 1. 1. 1. 4. 0. 0. 0. 0.]\n",
      "[3. 1. 1. 1. 0. 0. 0. 2. 0.]\n",
      "[1. 1. 1. 5. 0. 0. 0. 0. 0.]\n",
      "[1. 1. 1. 1. 2. 0. 0. 2. 0.]\n",
      "[1. 1. 2. 2. 0. 0. 0. 2. 0.]\n",
      "[1. 1. 1. 1. 0. 0. 0. 0. 0.]\n",
      "[1. 1. 2. 2. 0. 2. 0. 0. 0.]\n",
      "[3. 1. 1. 1. 0. 0. 2. 0. 0.]\n",
      "[1. 1. 1. 1. 0. 0. 0. 3. 0.]\n",
      "[1. 1. 1. 1. 0. 2. 0. 0. 2.]\n",
      "[1. 1. 5. 1. 0. 0. 0. 0. 0.]\n",
      "[1. 1. 1. 1. 0. 0. 0. 0. 4.]\n",
      "[1. 5. 1. 1. 0. 0. 0. 0. 0.]\n",
      "[1. 1. 3. 3. 0. 0. 0. 0. 0.]\n",
      "[1. 1. 1. 1. 0. 4. 0. 0. 0.]\n",
      "[1. 1. 1. 1. 0. 0. 4. 0. 0.]\n",
      "[3. 1. 2. 2. 0. 0. 0. 0. 0.]\n",
      "[1. 1. 2. 2. 2. 0. 0. 0. 0.]\n",
      "[2. 2. 2. 2. 0. 0. 0. 0. 0.]\n",
      "[1. 1. 2. 2. 0. 0. 0. 0. 2.]\n",
      "[1. 1. 1. 1. 2. 0. 2. 0. 0.]\n",
      "[1. 1. 1. 1. 4. 0. 0. 0. 0.]\n",
      "[3. 1. 1. 1. 0. 0. 0. 2. 0.]\n",
      "[1. 1. 1. 5. 0. 0. 0. 0. 0.]\n",
      "[1. 1. 1. 1. 2. 0. 0. 2. 0.]\n",
      "[1. 1. 1. 1. 0. 0. 0. 0. 0.]\n",
      "[1. 1. 2. 2. 0. 2. 0. 0. 0.]\n",
      "[5. 1. 1. 1. 0. 0. 0. 0. 0.]\n",
      "[3. 1. 1. 1. 0. 0. 2. 0. 0.]\n",
      "[1. 1. 1. 1. 0. 2. 0. 0. 2.]\n",
      "[1. 1. 5. 1. 0. 0. 0. 0. 0.]\n",
      "[1. 1. 1. 1. 0. 0. 0. 0. 4.]\n",
      "[1. 5. 1. 1. 0. 0. 0. 0. 0.]\n",
      "[1. 1. 1. 1. 0. 4. 0. 0. 0.]\n",
      "[1. 1. 1. 1. 0. 0. 4. 0. 0.]\n",
      "[3. 1. 2. 2. 0. 0. 0. 0. 0.]\n",
      "[1. 1. 2. 2. 0. 0. 2. 0. 0.]\n",
      "[1. 1. 2. 2. 2. 0. 0. 0. 0.]\n",
      "[1. 1. 2. 2. 0. 0. 0. 0. 2.]\n",
      "[1. 1. 1. 1. 2. 0. 2. 0. 0.]\n",
      "[1. 1. 1. 1. 4. 0. 0. 0. 0.]\n",
      "[3. 1. 1. 0. 0. 0. 0. 2. 0.]\n",
      "[1. 1. 1. 5. 0. 0. 0. 0. 0.]\n",
      "[1. 1. 1. 1. 2. 0. 0. 2. 0.]\n",
      "[1. 1. 2. 2. 0. 0. 0. 2. 0.]\n",
      "[1. 1. 1. 1. 0. 0. 0. 0. 0.]\n",
      "[1. 1. 2. 2. 0. 2. 0. 0. 0.]\n",
      "[1. 1. 1. 1. 0. 0. 0. 4. 0.]\n",
      "[1. 1. 1. 1. 0. 2. 0. 0. 2.]\n",
      "[1. 1. 1. 1. 0. 0. 0. 0. 4.]\n",
      "[1. 5. 1. 1. 0. 0. 0. 0. 0.]\n",
      "[1. 1. 3. 3. 0. 0. 0. 0. 0.]\n",
      "[1. 1. 1. 1. 0. 4. 0. 0. 0.]\n",
      "[1. 1. 1. 1. 0. 0. 4. 0. 0.]\n",
      "[3. 1. 2. 2. 0. 0. 0. 0. 0.]\n",
      "[1. 1. 2. 2. 0. 0. 2. 0. 0.]\n",
      "[1. 1. 2. 2. 2. 0. 0. 0. 0.]\n",
      "[2. 2. 2. 2. 0. 0. 0. 0. 0.]\n",
      "[1. 1. 2. 2. 0. 0. 0. 0. 2.]\n",
      "[1. 1. 1. 1. 2. 0. 2. 0. 0.]\n",
      "[1. 1. 1. 1. 4. 0. 0. 0. 0.]\n",
      "[1. 1. 1. 5. 0. 0. 0. 0. 0.]\n",
      "[1. 1. 1. 1. 2. 0. 0. 2. 0.]\n",
      "[1. 1. 1. 1. 0. 0. 0. 0. 0.]\n",
      "[1. 1. 2. 2. 0. 2. 0. 0. 0.]\n",
      "[5. 1. 1. 1. 0. 0. 0. 0. 0.]\n",
      "[3. 1. 1. 1. 0. 0. 2. 0. 0.]\n"
     ]
    }
   ],
   "source": [
    "indices=[]\n",
    "for i in range(len(xori)):\n",
    "    if xori[i][2] != 0 or xori[i][3] !=0:\n",
    "        indices.append(i)\n",
    "        print(xori[i])"
   ]
  },
  {
   "cell_type": "code",
   "execution_count": 84,
   "metadata": {
    "ExecuteTime": {
     "end_time": "2019-06-12T11:59:30.757457Z",
     "start_time": "2019-06-12T11:59:30.751393Z"
    },
    "collapsed": false
   },
   "outputs": [
    {
     "data": {
      "text/plain": [
       "297"
      ]
     },
     "execution_count": 84,
     "metadata": {},
     "output_type": "execute_result"
    }
   ],
   "source": [
    "len(indices)"
   ]
  },
  {
   "cell_type": "code",
   "execution_count": 85,
   "metadata": {
    "ExecuteTime": {
     "end_time": "2019-06-12T12:00:44.308172Z",
     "start_time": "2019-06-12T12:00:44.302892Z"
    },
    "collapsed": true
   },
   "outputs": [],
   "source": [
    "def remove_by_indices(list_of_array, indices):\n",
    "    for index in range(len(list_of_array)):\n",
    "        list_of_array[index] = np.delete(list_of_array[index], indices, 0)\n",
    "    return list_of_array"
   ]
  },
  {
   "cell_type": "code",
   "execution_count": 86,
   "metadata": {
    "ExecuteTime": {
     "end_time": "2019-06-12T12:01:14.684973Z",
     "start_time": "2019-06-12T12:01:14.678855Z"
    },
    "collapsed": true
   },
   "outputs": [],
   "source": [
    "xpru, y1pru, y2pru, y3pru = remove_by_indices([xori, y1ori, y2ori, y3ori], indices)"
   ]
  },
  {
   "cell_type": "code",
   "execution_count": 89,
   "metadata": {
    "ExecuteTime": {
     "end_time": "2019-06-12T12:02:54.420692Z",
     "start_time": "2019-06-12T12:02:54.412241Z"
    },
    "collapsed": false
   },
   "outputs": [],
   "source": [
    "filename='../datasets/0612-no_mms-141.npz'\n",
    "np.savez(filename,alloc=xpru,rt_50=y1pru, rt_99=y2pru, rps=y3pru)"
   ]
  },
  {
   "cell_type": "markdown",
   "metadata": {},
   "source": [
    "### Combine two datasets"
   ]
  },
  {
   "cell_type": "code",
   "execution_count": 90,
   "metadata": {
    "ExecuteTime": {
     "end_time": "2019-06-12T12:06:08.664799Z",
     "start_time": "2019-06-12T12:06:08.647067Z"
    },
    "collapsed": true
   },
   "outputs": [],
   "source": [
    "one = '../datasets/0611-mms-175.npz'\n",
    "two = '../datasets/0612-no_mms-141.npz'\n",
    "\n",
    "npzfile = np.load(one)\n",
    "x_one, y1_one, y2_one, y3_one = npzfile['alloc'], npzfile['rt_50'], npzfile['rt_99'], npzfile['rps']\n",
    "\n",
    "npzfile = np.load(two)\n",
    "x_two, y1_two, y2_two, y3_two = npzfile['alloc'], npzfile['rt_50'], npzfile['rt_99'], npzfile['rps']\n"
   ]
  },
  {
   "cell_type": "code",
   "execution_count": 100,
   "metadata": {
    "ExecuteTime": {
     "end_time": "2019-06-12T12:11:54.460909Z",
     "start_time": "2019-06-12T12:11:54.420134Z"
    },
    "collapsed": false
   },
   "outputs": [
    {
     "name": "stdout",
     "output_type": "stream",
     "text": [
      "[0. 1. 0. 0. 1. 1. 1. 0. 0.] [0. 1. 0. 0. 1. 1. 1. 0. 0.]\n",
      "[nan 1.235 nan nan 3.005 1.47 0.62 nan nan]\n",
      "[nan 1.405 nan nan 3.4 0.17 0.64 nan nan]\n",
      "\n",
      "[1. 1. 0. 0. 1. 0. 0. 0. 1.] [1. 1. 0. 0. 1. 0. 0. 0. 1.]\n",
      "[2.07 1.21 nan nan 2.98 nan nan nan 2.31]\n",
      "[2.21 1.41 nan nan 3.355 nan nan nan 4.67]\n",
      "\n",
      "[1. 1. 0. 0. 1. 0. 0. 1. 0.] [1. 1. 0. 0. 1. 0. 0. 1. 0.]\n",
      "[2.07 1.22 nan nan 2.99 nan nan 0.82 nan]\n",
      "[2.205 1.38 nan nan 3.39 nan nan 0.71 nan]\n",
      "\n",
      "[0. 1. 0. 0. 1. 0. 0. 0. 1.] [0. 1. 0. 0. 1. 0. 0. 0. 1.]\n",
      "[nan 1.21 nan nan 2.955 nan nan nan 2.39]\n",
      "[nan 1.445 nan nan 3.365 nan nan nan 4.625]\n",
      "\n",
      "[0. 1. 0. 0. 1. 0. 0. 1. 0.] [0. 1. 0. 0. 1. 0. 0. 1. 0.]\n",
      "[nan 1.225 nan nan 2.98 nan nan 0.82 nan]\n",
      "[nan 1.345 nan nan 3.385 nan nan 0.72 nan]\n",
      "\n",
      "[2. 1. 0. 0. 0. 0. 1. 0. 0.] [2. 1. 0. 0. 0. 0. 1. 0. 0.]\n",
      "[2.07 1.245 nan nan nan nan 0.63 nan nan]\n",
      "[2.215 1.395 nan nan nan nan 0.635 nan nan]\n",
      "\n",
      "[0. 1. 0. 0. 1. 0. 1. 0. 1.] [0. 1. 0. 0. 1. 0. 1. 0. 1.]\n",
      "[nan 1.225 nan nan 2.975 nan 0.62 nan 0.675]\n",
      "[nan 1.515 nan nan 3.395 nan 0.63 nan 3.515]\n",
      "\n",
      "[0. 1. 0. 0. 1. 1. 0. 0. 0.] [0. 1. 0. 0. 1. 1. 0. 0. 0.]\n",
      "[nan 1.26 nan nan 2.985 0.07 nan nan nan]\n",
      "[nan 1.43 nan nan 3.39 0.12 nan nan nan]\n",
      "\n",
      "[0. 1. 0. 0. 1. 0. 1. 0. 0.] [0. 1. 0. 0. 1. 0. 1. 0. 0.]\n",
      "[nan 1.22 nan nan 2.99 nan 0.625 nan nan]\n",
      "[nan 1.405 nan nan 3.39 nan 0.635 nan nan]\n",
      "\n",
      "[0. 1. 0. 0. 1. 0. 1. 1. 0.] [0. 1. 0. 0. 1. 0. 1. 1. 0.]\n",
      "[nan 1.24 nan nan 2.995 nan 0.62 0.82 nan]\n",
      "[nan 1.37 nan nan 3.385 nan 0.635 0.74 nan]\n",
      "\n",
      "[0. 1. 0. 0. 2. 0. 0. 0. 0.] [0. 1. 0. 0. 2. 0. 0. 0. 0.]\n",
      "[nan 1.25 nan nan 2.98 nan nan nan nan]\n",
      "[nan 1.455 nan nan 3.4 nan nan nan nan]\n",
      "\n",
      "[3. 1. 0. 0. 0. 0. 0. 0. 0.] [3. 1. 0. 0. 0. 0. 0. 0. 0.]\n",
      "[2.07 1.24 nan nan nan nan nan nan nan]\n",
      "[2.21 1.44 nan nan nan nan nan nan nan]\n",
      "\n",
      "[1. 1. 0. 0. 1. 0. 0. 0. 0.] [1. 1. 0. 0. 1. 0. 0. 0. 0.]\n",
      "[2.08 1.24 nan nan 2.98 nan nan nan nan]\n",
      "[2.21 1.415 nan nan 3.405 nan nan nan nan]\n",
      "\n",
      "[1. 1. 0. 0. 1. 1. 0. 0. 0.] [1. 1. 0. 0. 1. 1. 0. 0. 0.]\n",
      "[2.08 1.215 nan nan 2.97 0.07 nan nan nan]\n",
      "[2.205 1.415 nan nan 3.395 0.16 nan nan nan]\n",
      "\n",
      "[1. 1. 0. 0. 1. 0. 1. 0. 0.] [1. 1. 0. 0. 1. 0. 1. 0. 0.]\n",
      "[2.075 1.215 nan nan 2.995 nan 0.625 nan nan]\n",
      "[2.21 1.445 nan nan 3.4 nan 0.63 nan nan]\n",
      "\n",
      "[0. 1. 0. 0. 1. 1. 0. 0. 1.] [0. 1. 0. 0. 1. 1. 0. 0. 1.]\n",
      "[nan 1.23 nan nan 2.97 0.04 nan nan 0.085]\n",
      "[nan 1.45 nan nan 3.41 0.13 nan nan 0.15]\n",
      "\n",
      "[0. 2. 0. 0. 1. 0. 0. 0. 0.] [0. 2. 0. 0. 1. 0. 0. 0. 0.]\n",
      "[nan 1.23 nan nan 2.985 nan nan nan nan]\n",
      "[nan 1.47 nan nan 3.4 nan nan nan nan]\n",
      "\n",
      "[0. 1. 0. 0. 1. 0. 0. 0. 0.] [0. 1. 0. 0. 1. 0. 0. 0. 0.]\n",
      "[nan 1.23 nan nan 2.985 nan nan nan nan]\n",
      "[nan 1.435 nan nan 3.39 nan nan nan nan]\n",
      "\n"
     ]
    }
   ],
   "source": [
    "display_matched_items(x_one, x_two, y3_one, y3_two)"
   ]
  },
  {
   "cell_type": "code",
   "execution_count": 93,
   "metadata": {
    "ExecuteTime": {
     "end_time": "2019-06-12T12:10:11.837001Z",
     "start_time": "2019-06-12T12:10:11.827697Z"
    },
    "collapsed": false
   },
   "outputs": [
    {
     "data": {
      "text/plain": [
       "dict_keys([33, 53, 54, 60, 65, 76, 80, 82, 88, 89, 95, 102, 106, 115, 119, 140, 155, 172])"
      ]
     },
     "execution_count": 93,
     "metadata": {},
     "output_type": "execute_result"
    }
   ],
   "source": [
    "match_dict=ndarray_match(x_one, x_two)\n",
    "match_dict.keys()"
   ]
  },
  {
   "cell_type": "code",
   "execution_count": 94,
   "metadata": {
    "ExecuteTime": {
     "end_time": "2019-06-12T12:11:06.435202Z",
     "start_time": "2019-06-12T12:11:06.427510Z"
    },
    "collapsed": true
   },
   "outputs": [],
   "source": [
    "indices = [33, 53, 54, 60, 65, 76, 80, 82, 88, 89, 95, 102, 106, 115, 119, 140, 155, 172]\n",
    "x_one_rm, y1_one_rm, y2_one_rm, y3_one_rm = remove_by_indices([x_one, y1_one, y2_one, y3_one], indices)"
   ]
  },
  {
   "cell_type": "code",
   "execution_count": 98,
   "metadata": {
    "ExecuteTime": {
     "end_time": "2019-06-12T12:11:33.090717Z",
     "start_time": "2019-06-12T12:11:33.084761Z"
    },
    "collapsed": false
   },
   "outputs": [
    {
     "data": {
      "text/plain": [
       "(157, 157)"
      ]
     },
     "execution_count": 98,
     "metadata": {},
     "output_type": "execute_result"
    }
   ],
   "source": [
    "len(x_one_rm), len(y1_one_rm)"
   ]
  },
  {
   "cell_type": "code",
   "execution_count": 101,
   "metadata": {
    "ExecuteTime": {
     "end_time": "2019-06-12T12:11:58.964530Z",
     "start_time": "2019-06-12T12:11:58.957812Z"
    },
    "collapsed": true
   },
   "outputs": [],
   "source": [
    "x_com = np.append(x_one_rm, x_two, axis=0)\n",
    "y1_com = np.append(y1_one_rm, y1_two, axis=0)\n",
    "y2_com = np.append(y2_one_rm, y2_two, axis=0)\n",
    "y3_com = np.append(y3_one_rm, y3_two, axis=0)"
   ]
  },
  {
   "cell_type": "code",
   "execution_count": 102,
   "metadata": {
    "ExecuteTime": {
     "end_time": "2019-06-12T12:12:35.399454Z",
     "start_time": "2019-06-12T12:12:35.392506Z"
    },
    "collapsed": false
   },
   "outputs": [
    {
     "data": {
      "text/plain": [
       "298"
      ]
     },
     "execution_count": 102,
     "metadata": {},
     "output_type": "execute_result"
    }
   ],
   "source": [
    "len(x_com)"
   ]
  },
  {
   "cell_type": "code",
   "execution_count": 103,
   "metadata": {
    "ExecuteTime": {
     "end_time": "2019-06-12T12:13:01.290180Z",
     "start_time": "2019-06-12T12:13:01.280583Z"
    },
    "collapsed": true
   },
   "outputs": [],
   "source": [
    "filename='../datasets/0612-comine-298.npz'\n",
    "np.savez(filename,alloc=x_com,rt_50=y1_com, rt_99=y2_com, rps=y3_com)"
   ]
  },
  {
   "cell_type": "code",
   "execution_count": null,
   "metadata": {
    "collapsed": true
   },
   "outputs": [],
   "source": []
  }
 ],
 "metadata": {
  "kernel_info": {
   "name": "python3"
  },
  "kernelspec": {
   "display_name": "Python 3",
   "language": "python",
   "name": "python3"
  },
  "language_info": {
   "codemirror_mode": {
    "name": "ipython",
    "version": 3
   },
   "file_extension": ".py",
   "mimetype": "text/x-python",
   "name": "python",
   "nbconvert_exporter": "python",
   "pygments_lexer": "ipython3",
   "version": "3.6.3"
  },
  "nteract": {
   "version": "0.14.3"
  },
  "toc": {
   "base_numbering": 1,
   "nav_menu": {},
   "number_sections": true,
   "sideBar": true,
   "skip_h1_title": false,
   "title_cell": "Table of Contents",
   "title_sidebar": "Contents",
   "toc_cell": false,
   "toc_position": {},
   "toc_section_display": true,
   "toc_window_display": false
  },
  "varInspector": {
   "cols": {
    "lenName": 16,
    "lenType": 16,
    "lenVar": 40
   },
   "kernels_config": {
    "python": {
     "delete_cmd_postfix": "",
     "delete_cmd_prefix": "del ",
     "library": "var_list.py",
     "varRefreshCmd": "print(var_dic_list())"
    },
    "r": {
     "delete_cmd_postfix": ") ",
     "delete_cmd_prefix": "rm(",
     "library": "var_list.r",
     "varRefreshCmd": "cat(var_dic_list()) "
    }
   },
   "types_to_exclude": [
    "module",
    "function",
    "builtin_function_or_method",
    "instance",
    "_Feature"
   ],
   "window_display": false
  }
 },
 "nbformat": 4,
 "nbformat_minor": 0
}
