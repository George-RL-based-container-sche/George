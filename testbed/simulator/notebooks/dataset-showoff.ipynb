{
 "cells": [
  {
   "cell_type": "markdown",
   "metadata": {
    "deletable": true,
    "editable": true
   },
   "source": [
    "# Step 1: import npzfile and check info"
   ]
  },
  {
   "cell_type": "code",
   "execution_count": 2,
   "metadata": {
    "ExecuteTime": {
     "end_time": "2019-06-05T14:50:32.314432Z",
     "start_time": "2019-06-05T14:50:32.302471Z"
    },
    "collapsed": true,
    "deletable": true,
    "editable": true
   },
   "outputs": [],
   "source": [
    "import matplotlib.pyplot as plt\n",
    "import numpy as np\n",
    "\n",
    "npzfile = np.load('0602-mss-revisit-135-results.npz')\n",
    "# npzfile = np.load('0509-com-444-results.npz')\n",
    "# npzfile = np.load('0601-mms-48-results.npz')\n",
    "# npzfile = np.load('0601-3_4_50cases-results.npz')\n",
    "# npzfile = np.load('0509-low-com-210-results.npz')\n",
    "# npzfile = np.load('0507-115-1-results.npz')\n",
    "# npzfile = np.load('0508-low-1-results.npz')\n",
    "# npzfile=np.load('0509-low-110-results.npz')\n",
    "x, y1, y2, y3 = npzfile['alloc'], npzfile['rt_50'], npzfile['rt_99'], npzfile['rps']"
   ]
  },
  {
   "cell_type": "code",
   "execution_count": 57,
   "metadata": {
    "collapsed": false,
    "deletable": true,
    "editable": true,
    "inputHidden": false,
    "outputHidden": false
   },
   "outputs": [],
   "source": [
    "# npzfile = np.load('0507-all-110-results.npz')\n",
    "# x, y1, y2, y3 = npzfile['alloc'], npzfile['rt_50'], npzfile['rt_99'], npzfile['rps']\n",
    "# npzfile = np.load('0508-low-105-results.npz')\n",
    "# x_, y1_, y2_, y3_ = npzfile['alloc'], npzfile['rt_50'], npzfile['rt_99'], npzfile['rps']\n",
    "\n",
    "# x__ = np.append(x, x_, axis=0)\n",
    "# y1__ = np.append(y1, y1_, axis=0)\n",
    "# y2__ = np.append(y2, y2_, axis=0)\n",
    "# y3__ = np.append(y3, y3_, axis=0)\n",
    "\n",
    "# np.savez('0508-com-215-results.npz',alloc=x__,rt_50=y1__, rt_99=y2__, rps=y3__)"
   ]
  },
  {
   "cell_type": "code",
   "execution_count": 3,
   "metadata": {
    "ExecuteTime": {
     "end_time": "2019-06-05T14:50:34.558080Z",
     "start_time": "2019-06-05T14:50:34.550397Z"
    },
    "collapsed": false,
    "deletable": true,
    "editable": true
   },
   "outputs": [
    {
     "data": {
      "text/plain": [
       "(135, 135, 135, 135)"
      ]
     },
     "execution_count": 3,
     "metadata": {},
     "output_type": "execute_result"
    }
   ],
   "source": [
    "len(x), len(y1), len(y2), len(y3)"
   ]
  },
  {
   "cell_type": "code",
   "execution_count": 59,
   "metadata": {
    "ExecuteTime": {
     "end_time": "2019-04-26T03:37:12.841080Z",
     "start_time": "2019-04-26T03:37:12.365522Z"
    },
    "collapsed": false,
    "deletable": true,
    "editable": true
   },
   "outputs": [
    {
     "data": {
      "text/plain": [
       "array([[0., 2., 0., 0., 1., 0., 0., 0., 1.],\n",
       "       [0., 1., 0., 3., 0., 0., 0., 0., 0.],\n",
       "       [0., 1., 0., 1., 0., 0., 0., 0., 0.],\n",
       "       [0., 1., 0., 0., 0., 0., 1., 0., 2.],\n",
       "       [0., 1., 0., 1., 0., 0., 0., 1., 5.],\n",
       "       [0., 1., 0., 1., 0., 0., 0., 2., 4.],\n",
       "       [0., 1., 0., 0., 0., 0., 3., 0., 0.],\n",
       "       [0., 1., 0., 1., 0., 1., 1., 0., 0.],\n",
       "       [0., 1., 0., 2., 1., 0., 0., 0., 0.],\n",
       "       [0., 2., 0., 0., 1., 0., 0., 1., 4.]])"
      ]
     },
     "execution_count": 59,
     "metadata": {},
     "output_type": "execute_result"
    }
   ],
   "source": [
    "\n",
    "y1[0:10] # 50% response time\n",
    "y2[0:10] # 99% response time\n",
    "y3[0:10] # request per second\n",
    "x[0:10] # allocation"
   ]
  },
  {
   "cell_type": "code",
   "execution_count": 49,
   "metadata": {
    "collapsed": false,
    "deletable": true,
    "editable": true,
    "inputHidden": false,
    "outputHidden": false
   },
   "outputs": [
    {
     "data": {
      "text/plain": [
       "55"
      ]
     },
     "execution_count": 49,
     "metadata": {},
     "output_type": "execute_result"
    }
   ],
   "source": []
  },
  {
   "cell_type": "code",
   "execution_count": 84,
   "metadata": {
    "collapsed": false,
    "deletable": true,
    "editable": true,
    "inputHidden": false,
    "outputHidden": false
   },
   "outputs": [],
   "source": [
    "retest=x[(x[:,3]!=0) + (x[:,4]!=0)]"
   ]
  },
  {
   "cell_type": "code",
   "execution_count": 103,
   "metadata": {
    "collapsed": false,
    "deletable": true,
    "editable": true,
    "inputHidden": false,
    "outputHidden": false
   },
   "outputs": [],
   "source": [
    "# dataset_x_to_profile_setting(retest)"
   ]
  },
  {
   "cell_type": "code",
   "execution_count": 88,
   "metadata": {
    "collapsed": false,
    "deletable": true,
    "editable": true,
    "inputHidden": false,
    "outputHidden": false
   },
   "outputs": [],
   "source": []
  },
  {
   "cell_type": "code",
   "execution_count": 113,
   "metadata": {
    "collapsed": false,
    "deletable": true,
    "editable": true,
    "inputHidden": false,
    "outputHidden": false
   },
   "outputs": [],
   "source": [
    "to_print_list=[]\n",
    "# set(retest_setting)\n",
    "for item in retest_setting:\n",
    "  to_print=[str(j) for j in item[1:]]\n",
    "  to_print_list.append('-'.join(to_print))"
   ]
  },
  {
   "cell_type": "code",
   "execution_count": 120,
   "metadata": {
    "collapsed": false,
    "deletable": true,
    "editable": true,
    "inputHidden": false,
    "outputHidden": false
   },
   "outputs": [
    {
     "name": "stdout",
     "output_type": "stream",
     "text": [
      "0-0-0-3-4-5-5 0-3-4-6-6-8-9 0-0-0-0-3-4-8 0-0-2-4-5-7-9 0-0-3-3-5-6-9 0-0-1-3-4-5-6 0-0-0-0-1-1-7 0-0-0-0-4-7-9 0-0-0-0-0-4-9 0-0-0-0-0-4-5 0-1-5-6-8-9-9 0-4-4-5-6-7-9 0-0-0-1-4-8-8 0-0-0-0-0-4-7 0-0-0-0-1-3-5 0-0-1-5-9-9-9 0-1-2-3-5-6-7 0-0-0-1-1-5-7 0-0-0-3-4-8-9 0-0-1-4-5-7-9 0-0-0-1-4-5-7 0-0-0-0-4-6-7 0-0-0-0-4-8-9 0-0-0-3-5-9-9 0-0-0-0-0-1-5 0-0-0-1-3-4-5 0-0-1-3-4-5-8 0-0-0-1-3-4-8 0-0-1-3-4-8-8 0-0-0-0-0-2-4 0-0-0-0-3-5-8 0-0-1-3-4-5-9 0-0-0-0-0-3-4 0-0-1-3-3-3-4 0-0-4-5-5-8-9 0-0-0-0-0-0-5 0-0-1-4-7-8-9 0-0-0-0-4-6-9 0-0-0-0-1-5-7 0-0-0-0-4-7-8 0-0-0-2-4-9-9 0-0-0-0-3-5-7 0-0-0-0-1-5-9 0-0-0-0-4-5-6 0-0-0-5-8-9-9 0-0-0-4-6-6-9 0-0-1-4-8-8-9 0-0-1-1-3-4-7 0-0-1-3-4-7-7 0-0-0-0-0-4-4 0-0-0-4-5-8-9 0-0-0-2-3-5-9 0-0-0-0-1-4-8 0-0-0-0-4-6-8 0-0-0-1-1-3-4 0-0-0-0-0-5-9 0-0-0-3-4-5-9 0-0-0-0-1-1-1 0-0-0-0-1-4-9 0-0-0-3-5-6-8 0-0-1-3-5-6-7 0-0-0-0-5-6-7 0-0-0-1-2-4-9 0-0-0-0-3-5-5 0-0-0-0-1-4-7 0-0-0-4-6-8-9 0-0-1-1-1-3-4 0-0-0-3-5-6-9 0-0-0-2-4-5-8 0-0-0-3-5-7-9 0-0-0-0-1-4-6 0-0-0-0-3-4-5 0-0-1-3-4-9-9 0-0-1-4-5-5-6 0-1-3-5-6-6-9 0-0-0-0-0-5-8 0-0-0-1-3-4-6 0-0-1-3-4-4-4 0-0-0-4-5-5-6 0-0-4-5-6-7-9 0-0-0-0-0-5-7 0-0-0-4-5-6-7 0-0-0-4-5-6-8 0-0-1-3-4-6-6 0-0-3-4-7-8-8 0-0-0-0-3-5-6 0-0-3-5-6-8-9 0-0-0-1-3-4-9 0-0-0-0-5-7-8 0-0-0-0-3-5-9 0-0-1-3-3-4-4 0-0-0-4-8-9-9 0-0-4-8-9-9-9 0-1-2-3-5-6-8 0-0-0-0-0-5-6 0-0-5-8-9-9-9 0-0-0-2-3-4-7 0-0-0-0-0-2-5 0-0-0-0-3-4-6 0-0-0-0-3-4-7 0-0-0-0-4-5-8 0-0-0-0-0-1-4 0-0-0-2-5-7-8 0-0-0-0-4-5-9 0-0-1-2-3-5-6 0-0-0-0-5-7-9 0-0-3-4-6-8-9 0-0-1-3-4-5-7 0-0-0-0-1-3-4 0-0-0-1-5-6-7 0-0-1-2-2-3-4 0-0-1-3-4-6-9 0-0-1-5-6-8-9 0-0-0-0-0-4-6 0-0-1-5-7-8-9 0-0-0-5-5-5-5 0-0-0-3-5-6-7 0-0-3-4-5-9-9 0-0-0-0-0-3-5 0-0-0-1-3-4-7 0-0-0-0-0-5-5 0-0-3-4-4-6-9 0-0-1-1-3-4-8 0-0-4-6-8-9-9 0-0-0-0-5-6-9 0-0-0-0-1-4-5 0-0-0-3-4-4-9 0-0-0-0-0-0-4 0-0-0-1-3-5-6 0-0-1-3-4-6-8 0-0-0-1-4-4-5 0-0-0-4-5-5-9 0-0-1-3-4-5-5 0-0-0-0-3-4-9 0-0-0-0-1-5-6 0-0-0-0-1-5-8 0-0-0-0-4-5-7 \n",
      " 137\n"
     ]
    }
   ],
   "source": [
    "for item in set(to_print_list):\n",
    "  print(item, end=' ')\n",
    "print('\\n',len(set(to_print_list)))"
   ]
  },
  {
   "cell_type": "code",
   "execution_count": 121,
   "metadata": {
    "collapsed": false,
    "deletable": true,
    "editable": true,
    "inputHidden": false,
    "outputHidden": false
   },
   "outputs": [],
   "source": [
    "fourty_eight_setting=['2-2-2-2-2-3-4','2-2-3-3-3-3-3','1-1-2-2-2-3-4','0-1-1-1-2-3-4','0-1-2-2-3-4-4','2-2-2-2-2-2-3','0-0-1-1-3-4-4','1-1-1-1-1-4-4','0-0-0-0-0-3-4','0-1-1-1-1-3-4','1-3-3-3-4-4-4','1-1-2-2-2-2-3','0-1-2-3-4-4-4','0-3-3-3-3-3-3','1-1-1-1-1-2-4','0-0-0-2-2-3-3','3-3-3-3-4-4-4','0-0-3-3-3-4-4','3-3-3-3-4-4-4','0-0-0-3-3-3-3','0-1-1-3-3-3-4','0-1-1-1-4-4-4','0-1-1-2-3-4-4','0-0-2-2-2-3-3','0-1-2-2-2-4-4','3-3-3-4-4-4-4','0-0-0-0-1-4-4','0-2-4-4-4-4-4','1-1-2-2-3-3-3','0-0-4-4-4-4-4','0-0-1-2-2-2-4','1-2-3-3-3-3-4','2-2-3-3-3-3-4','0-0-0-0-0-1-4','0-1-1-1-2-2-3','0-0-2-3-3-4-4','2-4-4-4-4-4-4','2-2-4-4-4-4-4','0-0-0-0-1-3-3','2-2-2-2-2-2-4','1-1-2-3-3-3-4','0-0-0-3-3-3-4','0-0-0-1-3-3-3','2-2-2-3-3-4-4','0-1-1-1-1-1-3','0-1-1-1-2-2-3','0-0-0-0-2-3-4','1-2-2-2-2-2-4','2-2-2-2-3-3-4','1-1-2-2-3-4-4']"
   ]
  },
  {
   "cell_type": "code",
   "execution_count": 125,
   "metadata": {
    "collapsed": false,
    "deletable": true,
    "editable": true,
    "inputHidden": false,
    "outputHidden": false
   },
   "outputs": [
    {
     "name": "stdout",
     "output_type": "stream",
     "text": [
      "0-0-0-0-0-3-4\n",
      "0-0-0-0-0-1-4\n"
     ]
    }
   ],
   "source": [
    "for item in fourty_eight_setting:\n",
    "  if item in to_print_list:\n",
    "    print(item)"
   ]
  },
  {
   "cell_type": "code",
   "execution_count": null,
   "metadata": {
    "collapsed": false,
    "deletable": true,
    "editable": true,
    "inputHidden": false,
    "outputHidden": false
   },
   "outputs": [],
   "source": []
  },
  {
   "cell_type": "code",
   "execution_count": null,
   "metadata": {
    "collapsed": false,
    "deletable": true,
    "editable": true,
    "inputHidden": false,
    "outputHidden": false
   },
   "outputs": [],
   "source": []
  },
  {
   "cell_type": "code",
   "execution_count": 59,
   "metadata": {
    "collapsed": false,
    "deletable": true,
    "editable": true,
    "inputHidden": false,
    "outputHidden": false
   },
   "outputs": [
    {
     "data": {
      "text/plain": [
       "array([[1. , 1. , 1. , 1. , 0. , 0. , 0. , 3. , 0. ],\n",
       "       [3. , 1. , 1. , 0. , 0. , 0. , 0. , 2. , 0. ],\n",
       "       [5. , 1. , 0.5, 0.5, 0. , 0. , 0. , 0. , 0. ],\n",
       "       [3. , 1. , 0.5, 0.5, 0. , 0. , 2. , 0. , 0. ]])"
      ]
     },
     "execution_count": 59,
     "metadata": {},
     "output_type": "execute_result"
    }
   ],
   "source": [
    "even_number = (np.sum(x, axis=1) % 2 == 0)\n",
    "x[~even_number]"
   ]
  },
  {
   "cell_type": "code",
   "execution_count": 21,
   "metadata": {
    "collapsed": false,
    "deletable": true,
    "editable": true,
    "inputHidden": false,
    "outputHidden": false
   },
   "outputs": [
    {
     "data": {
      "text/plain": [
       "array([ True,  True,  True,  True,  True,  True,  True,  True,  True,\n",
       "        True,  True,  True,  True,  True,  True,  True,  True,  True,\n",
       "        True,  True,  True,  True,  True,  True,  True,  True,  True,\n",
       "        True,  True,  True,  True,  True,  True,  True,  True,  True,\n",
       "        True,  True,  True,  True,  True,  True,  True,  True,  True,\n",
       "        True,  True,  True,  True,  True,  True, False,  True,  True,\n",
       "        True,  True,  True,  True,  True,  True,  True,  True,  True,\n",
       "        True,  True,  True,  True,  True,  True,  True,  True,  True,\n",
       "        True,  True,  True,  True,  True,  True,  True,  True,  True,\n",
       "        True,  True,  True,  True,  True,  True,  True,  True,  True,\n",
       "        True,  True,  True,  True,  True,  True,  True,  True,  True,\n",
       "        True,  True,  True,  True,  True,  True,  True,  True,  True,\n",
       "        True,  True,  True])"
      ]
     },
     "execution_count": 21,
     "metadata": {},
     "output_type": "execute_result"
    }
   ],
   "source": [
    "# if still exists odd x, remove them for all x, y1, y2, y3\n",
    "even_number"
   ]
  },
  {
   "cell_type": "code",
   "execution_count": 22,
   "metadata": {
    "collapsed": false,
    "deletable": true,
    "editable": true,
    "inputHidden": false,
    "outputHidden": false
   },
   "outputs": [],
   "source": [
    "even_number = (np.sum(x, axis=1) % 2 == 0)"
   ]
  },
  {
   "cell_type": "code",
   "execution_count": 23,
   "metadata": {
    "collapsed": false,
    "deletable": true,
    "editable": true,
    "inputHidden": false,
    "outputHidden": false
   },
   "outputs": [
    {
     "data": {
      "text/plain": [
       "106"
      ]
     },
     "execution_count": 23,
     "metadata": {},
     "output_type": "execute_result"
    }
   ],
   "source": [
    "len(x)"
   ]
  },
  {
   "cell_type": "code",
   "execution_count": null,
   "metadata": {
    "collapsed": false,
    "deletable": true,
    "editable": true,
    "inputHidden": false,
    "outputHidden": false
   },
   "outputs": [],
   "source": []
  },
  {
   "cell_type": "code",
   "execution_count": null,
   "metadata": {
    "collapsed": false,
    "deletable": true,
    "editable": true,
    "inputHidden": false,
    "outputHidden": false
   },
   "outputs": [],
   "source": []
  },
  {
   "cell_type": "code",
   "execution_count": null,
   "metadata": {
    "collapsed": false,
    "deletable": true,
    "editable": true,
    "inputHidden": false,
    "outputHidden": false
   },
   "outputs": [],
   "source": []
  },
  {
   "cell_type": "code",
   "execution_count": 35,
   "metadata": {
    "collapsed": false,
    "deletable": true,
    "editable": true,
    "inputHidden": false,
    "outputHidden": false
   },
   "outputs": [
    {
     "data": {
      "text/plain": [
       "array([[2., 3., 3., 0., 0., 0., 0., 0., 0.],\n",
       "       [0., 1., 4., 0., 0., 0., 0., 0., 0.],\n",
       "       [1., 4., 0., 2., 0., 0., 0., 0., 0.],\n",
       "       [3., 1., 0., 3., 0., 0., 0., 0., 0.],\n",
       "       [2., 4., 1., 1., 0., 0., 0., 0., 0.],\n",
       "       [0., 1., 3., 1., 0., 0., 0., 0., 0.],\n",
       "       [0., 1., 3., 2., 0., 0., 0., 0., 0.],\n",
       "       [0., 2., 8., 6., 0., 0., 0., 0., 0.],\n",
       "       [0., 1., 0., 5., 0., 0., 0., 0., 0.],\n",
       "       [1., 3., 1., 2., 0., 0., 0., 0., 0.],\n",
       "       [0., 3., 0., 5., 0., 0., 0., 0., 0.],\n",
       "       [0., 1., 3., 4., 0., 0., 0., 0., 0.],\n",
       "       [0., 1., 6., 0., 0., 0., 0., 0., 0.],\n",
       "       [2., 2., 1., 2., 0., 0., 0., 0., 0.],\n",
       "       [0., 3., 4., 1., 0., 0., 0., 0., 0.],\n",
       "       [2., 3., 1., 2., 0., 0., 0., 0., 0.],\n",
       "       [0., 3., 5., 0., 0., 0., 0., 0., 0.],\n",
       "       [2., 5., 1., 0., 0., 0., 0., 0., 0.],\n",
       "       [2., 1., 1., 2., 0., 0., 0., 0., 0.],\n",
       "       [2., 2., 3., 1., 0., 0., 0., 0., 0.],\n",
       "       [2., 1., 3., 1., 0., 0., 0., 0., 0.],\n",
       "       [1., 6., 0., 1., 0., 0., 0., 0., 0.],\n",
       "       [0., 3., 2., 0., 0., 0., 0., 0., 0.],\n",
       "       [0., 6., 1., 1., 0., 0., 0., 0., 0.],\n",
       "       [1., 1., 3., 0., 0., 0., 0., 0., 0.],\n",
       "       [0., 4., 2., 2., 0., 0., 0., 0., 0.],\n",
       "       [5., 1., 0., 2., 0., 0., 0., 0., 0.],\n",
       "       [0., 2., 2., 2., 0., 0., 0., 0., 0.],\n",
       "       [4., 1., 1., 1., 0., 0., 0., 0., 0.],\n",
       "       [1., 1., 0., 1., 0., 0., 0., 0., 0.],\n",
       "       [1., 1., 2., 0., 0., 0., 0., 0., 0.],\n",
       "       [5., 2., 0., 1., 0., 0., 0., 0., 0.],\n",
       "       [5., 1., 1., 0., 0., 0., 0., 0., 0.],\n",
       "       [6., 6., 2., 0., 0., 0., 0., 0., 0.],\n",
       "       [0., 5., 2., 1., 0., 0., 0., 0., 0.],\n",
       "       [0., 4., 2., 0., 0., 0., 0., 0., 0.],\n",
       "       [1., 4., 0., 1., 0., 0., 0., 0., 0.],\n",
       "       [0., 1., 1., 1., 0., 0., 0., 0., 0.],\n",
       "       [3., 2., 1., 1., 0., 0., 0., 0., 0.],\n",
       "       [0., 7., 0., 1., 0., 0., 0., 0., 0.],\n",
       "       [0., 2., 1., 1., 0., 0., 0., 0., 0.],\n",
       "       [1., 2., 1., 3., 0., 0., 0., 0., 0.],\n",
       "       [1., 2., 4., 1., 0., 0., 0., 0., 0.],\n",
       "       [1., 1., 3., 3., 0., 0., 0., 0., 0.],\n",
       "       [0., 2., 0., 6., 0., 0., 0., 0., 0.],\n",
       "       [0., 2., 0., 5., 0., 0., 0., 0., 0.],\n",
       "       [0., 7., 1., 0., 0., 0., 0., 0., 0.],\n",
       "       [1., 1., 0., 2., 0., 0., 0., 0., 0.]])"
      ]
     },
     "execution_count": 35,
     "metadata": {},
     "output_type": "execute_result"
    }
   ],
   "source": [
    "x"
   ]
  },
  {
   "cell_type": "markdown",
   "metadata": {
    "deletable": true,
    "editable": true
   },
   "source": [
    "# Step 2: Checking which logs need fix"
   ]
  },
  {
   "cell_type": "code",
   "execution_count": 86,
   "metadata": {
    "collapsed": false,
    "deletable": true,
    "editable": true,
    "inputHidden": false,
    "outputHidden": false
   },
   "outputs": [],
   "source": [
    "def dataset_x_to_profile_setting(array, verbose=True):\n",
    "  # array = x[~even_number][:2] # shape: (2, 9)\n",
    "\n",
    "  summary_setting = None\n",
    "  for item in array:\n",
    "    setting = [2] # the first 2 is necessary\n",
    "    for i in range(len(item)):\n",
    "      if item[i] != 0:\n",
    "        repeat_time = int(round(item[i]/2 + 0.001)) # make 3/2 => 2\n",
    "        if verbose and item[i] % 2 != 0:\n",
    "          print(\"%s, %d: %.3f => %d; \" % (item, i+1, item[i], repeat_time), end='')\n",
    "        if i == 1: # i.e., minus 1 repeat_time for '2'\n",
    "          repeat_time -= 1\n",
    "        for num in range(repeat_time):\n",
    "          setting.append(i+1)\n",
    "    if len(setting) < 8: # not occupying all slots\n",
    "      # workload specific: inserting \"0\" after the first \"2\".\n",
    "      for i in range(8-len(setting)):\n",
    "        setting.insert(1, 0)\n",
    "    # end of setting building\n",
    "    if verbose:\n",
    "      print(setting)\n",
    "\n",
    "    if summary_setting is None:\n",
    "      summary_setting = [setting]\n",
    "    else:\n",
    "      summary_setting.append(setting)\n",
    "\n",
    "  summary_setting.sort()\n",
    "  if verbose:\n",
    "    print(summary_setting)\n",
    "\n",
    "  return summary_setting\n",
    "\n",
    "  "
   ]
  },
  {
   "cell_type": "code",
   "execution_count": 13,
   "metadata": {
    "collapsed": false,
    "deletable": true,
    "editable": true,
    "inputHidden": false,
    "outputHidden": false
   },
   "outputs": [
    {
     "name": "stdout",
     "output_type": "stream",
     "text": [
      "[0. 2. 0. 2. 0. 0. 0. 1. 2.], 8: 1.000 => 1; [2, 0, 0, 0, 0, 4, 8, 9]\n",
      "[0. 2. 0. 2. 0. 0. 0. 3. 0.], 8: 3.000 => 2; [2, 0, 0, 0, 0, 4, 8, 8]\n",
      "[0. 4. 0. 0. 2. 0. 0. 1. 0.], 8: 1.000 => 1; [2, 0, 0, 0, 0, 2, 5, 8]\n",
      "[0. 2. 3. 0. 0. 0. 0. 2. 0.], 3: 3.000 => 2; [2, 0, 0, 0, 0, 3, 3, 8]\n",
      "[0. 2. 2. 0. 0. 0. 2. 1. 0.], 8: 1.000 => 1; [2, 0, 0, 0, 0, 3, 7, 8]\n",
      "[0. 2. 0. 0. 2. 0. 0. 1. 2.], 8: 1.000 => 1; [2, 0, 0, 0, 0, 5, 8, 9]\n",
      "[0. 4. 0. 2. 0. 0. 0. 1. 0.], 8: 1.000 => 1; [2, 0, 0, 0, 0, 2, 4, 8]\n",
      "[0. 2. 0. 0. 0. 0. 2. 3. 0.], 8: 3.000 => 2; [2, 0, 0, 0, 0, 7, 8, 8]\n",
      "[0. 2. 2. 0. 0. 2. 0. 1. 0.], 8: 1.000 => 1; [2, 0, 0, 0, 0, 3, 6, 8]\n",
      "[0. 2. 1. 0. 0. 2. 0. 0. 2.], 3: 1.000 => 1; [2, 0, 0, 0, 0, 3, 6, 9]\n",
      "[0. 2. 2. 0. 0. 0. 0. 3. 0.], 8: 3.000 => 2; [2, 0, 0, 0, 0, 3, 8, 8]\n",
      "[0. 4. 0. 0. 0. 0. 0. 3. 0.], 8: 3.000 => 2; [2, 0, 0, 0, 0, 2, 8, 8]\n",
      "[0. 2. 0. 0. 0. 2. 2. 1. 0.], 8: 1.000 => 1; [2, 0, 0, 0, 0, 6, 7, 8]\n",
      "[0. 2. 3. 0. 2. 0. 0. 0. 0.], 3: 3.000 => 2; [2, 0, 0, 0, 0, 3, 3, 5]\n",
      "[0. 2. 0. 2. 0. 2. 0. 1. 0.], 8: 1.000 => 1; [2, 0, 0, 0, 0, 4, 6, 8]\n",
      "[0. 2. 0. 4. 0. 0. 0. 1. 0.], 8: 1.000 => 1; [2, 0, 0, 0, 0, 4, 4, 8]\n",
      "[[2, 0, 0, 0, 0, 2, 4, 8], [2, 0, 0, 0, 0, 2, 5, 8], [2, 0, 0, 0, 0, 2, 8, 8], [2, 0, 0, 0, 0, 3, 3, 5], [2, 0, 0, 0, 0, 3, 3, 8], [2, 0, 0, 0, 0, 3, 6, 8], [2, 0, 0, 0, 0, 3, 6, 9], [2, 0, 0, 0, 0, 3, 7, 8], [2, 0, 0, 0, 0, 3, 8, 8], [2, 0, 0, 0, 0, 4, 4, 8], [2, 0, 0, 0, 0, 4, 6, 8], [2, 0, 0, 0, 0, 4, 8, 8], [2, 0, 0, 0, 0, 4, 8, 9], [2, 0, 0, 0, 0, 5, 8, 9], [2, 0, 0, 0, 0, 6, 7, 8], [2, 0, 0, 0, 0, 7, 8, 8]]\n"
     ]
    },
    {
     "data": {
      "text/plain": [
       "[[2, 0, 0, 0, 0, 2, 4, 8],\n",
       " [2, 0, 0, 0, 0, 2, 5, 8],\n",
       " [2, 0, 0, 0, 0, 2, 8, 8],\n",
       " [2, 0, 0, 0, 0, 3, 3, 5],\n",
       " [2, 0, 0, 0, 0, 3, 3, 8],\n",
       " [2, 0, 0, 0, 0, 3, 6, 8],\n",
       " [2, 0, 0, 0, 0, 3, 6, 9],\n",
       " [2, 0, 0, 0, 0, 3, 7, 8],\n",
       " [2, 0, 0, 0, 0, 3, 8, 8],\n",
       " [2, 0, 0, 0, 0, 4, 4, 8],\n",
       " [2, 0, 0, 0, 0, 4, 6, 8],\n",
       " [2, 0, 0, 0, 0, 4, 8, 8],\n",
       " [2, 0, 0, 0, 0, 4, 8, 9],\n",
       " [2, 0, 0, 0, 0, 5, 8, 9],\n",
       " [2, 0, 0, 0, 0, 6, 7, 8],\n",
       " [2, 0, 0, 0, 0, 7, 8, 8]]"
      ]
     },
     "execution_count": 13,
     "metadata": {},
     "output_type": "execute_result"
    }
   ],
   "source": [
    "summary_setting = dataset_x_to_profile_setting(x[~even_number])\n",
    "summary_setting"
   ]
  },
  {
   "cell_type": "markdown",
   "metadata": {
    "deletable": true,
    "editable": true
   },
   "source": [
    "1. Run pyscript_1 to the fix-log\n",
    "\n",
    "2. Copy these .csv files to summary folder.\n",
    "\n",
    "3. Rerun pyscript_2 and _3 to collect new .npz\n",
    "\n",
    "4. Import new .npz into this notebook again."
   ]
  },
  {
   "cell_type": "markdown",
   "metadata": {
    "deletable": true,
    "editable": true
   },
   "source": [
    "# Step 3: After fix, still wrong, please remove them"
   ]
  },
  {
   "cell_type": "code",
   "execution_count": 44,
   "metadata": {
    "collapsed": false,
    "deletable": true,
    "editable": true,
    "inputHidden": false,
    "outputHidden": false
   },
   "outputs": [],
   "source": [
    "def remove_odd_records(x, y1, y2, y3):\n",
    "  even_number = (np.sum(x, axis=1) % 2 == 0)\n",
    "  indices = np.where(~even_number)\n",
    "  x = np.delete(x, indices, 0)\n",
    "  y1 = np.delete(y1, indices, 0)\n",
    "  y2 = np.delete(y2, indices, 0)\n",
    "  y3 = np.delete(y3, indices, 0)\n",
    "  return x, y1, y2, y3"
   ]
  },
  {
   "cell_type": "code",
   "execution_count": 45,
   "metadata": {
    "collapsed": false,
    "deletable": true,
    "editable": true,
    "inputHidden": false,
    "outputHidden": false
   },
   "outputs": [],
   "source": [
    "x,y1,y2,y3=remove_odd_records(x, y1, y2, y3)"
   ]
  },
  {
   "cell_type": "markdown",
   "metadata": {
    "deletable": true,
    "editable": true
   },
   "source": [
    "And save to new .npz file"
   ]
  },
  {
   "cell_type": "code",
   "execution_count": 36,
   "metadata": {
    "collapsed": false,
    "deletable": true,
    "editable": true,
    "inputHidden": false,
    "outputHidden": false
   },
   "outputs": [],
   "source": [
    "# np.savez('0507-115-1-results.npz',alloc=x,rt_50=y1, rt_99=y2, rps=y3)\n",
    "# np.savez('0508-low-1-results.npz',alloc=x,rt_50=y1, rt_99=y2, rps=y3)\n",
    "# np.savez('0508-low-110-results.npz',alloc=x,rt_50=y1, rt_99=y2, rps=y3)\n",
    "# np.savez('dataset-0423x2-0424x2-0425x2-median.npz',alloc=x,rt_50=y1, rt_99=y2, rps=y3)\n",
    "np.savez('0601-mms-48-results.npz',alloc=x,rt_50=y1, rt_99=y2, rps=y3)\n"
   ]
  },
  {
   "cell_type": "code",
   "execution_count": null,
   "metadata": {
    "collapsed": false,
    "deletable": true,
    "editable": true,
    "inputHidden": false,
    "outputHidden": false
   },
   "outputs": [],
   "source": []
  },
  {
   "cell_type": "markdown",
   "metadata": {
    "deletable": true,
    "editable": true
   },
   "source": [
    "# Step 4: Combine different npz files into one"
   ]
  },
  {
   "cell_type": "code",
   "execution_count": 60,
   "metadata": {
    "collapsed": false,
    "deletable": true,
    "editable": true,
    "inputHidden": false,
    "outputHidden": false
   },
   "outputs": [],
   "source": [
    "one = '0509-com-325-results.npz'\n",
    "two = 'dataset-0423x2-0424x2-0425x2-median.npz'\n",
    "\n",
    "npzfile = np.load(one)\n",
    "x_one, y1_one, y2_one, y3_one = npzfile['alloc'], npzfile['rt_50'], npzfile['rt_99'], npzfile['rps']\n",
    "\n",
    "npzfile = np.load(two)\n",
    "x_two, y1_two, y2_two, y3_two = npzfile['alloc'], npzfile['rt_50'], npzfile['rt_99'], npzfile['rps']\n",
    "\n",
    "x_com = np.append(x_one, x_two, axis=0)\n",
    "y1_com = np.append(y1_one, y1_two, axis=0)\n",
    "y2_com = np.append(y2_one, y2_two, axis=0)\n",
    "y3_com = np.append(y3_one, y3_two, axis=0)"
   ]
  },
  {
   "cell_type": "code",
   "execution_count": 61,
   "metadata": {
    "collapsed": false,
    "deletable": true,
    "editable": true,
    "inputHidden": false,
    "outputHidden": false
   },
   "outputs": [
    {
     "data": {
      "text/plain": [
       "(444, 444, 444, 444)"
      ]
     },
     "execution_count": 61,
     "metadata": {},
     "output_type": "execute_result"
    }
   ],
   "source": [
    "len(x_com),len(y1_com),len(y2_com),len(y3_com)"
   ]
  },
  {
   "cell_type": "code",
   "execution_count": 62,
   "metadata": {
    "collapsed": false,
    "deletable": true,
    "editable": true,
    "inputHidden": false,
    "outputHidden": false
   },
   "outputs": [],
   "source": [
    "com = '0509-com-444-results.npz'"
   ]
  },
  {
   "cell_type": "code",
   "execution_count": 63,
   "metadata": {
    "collapsed": false,
    "deletable": true,
    "editable": true,
    "inputHidden": false,
    "outputHidden": false
   },
   "outputs": [],
   "source": [
    "np.savez(com,alloc=x_com,rt_50=y1_com, rt_99=y2_com, rps=y3_com)"
   ]
  },
  {
   "cell_type": "code",
   "execution_count": 26,
   "metadata": {
    "collapsed": false,
    "deletable": true,
    "editable": true,
    "inputHidden": false,
    "outputHidden": false
   },
   "outputs": [],
   "source": []
  },
  {
   "cell_type": "markdown",
   "metadata": {
    "deletable": true,
    "editable": true
   },
   "source": [
    "# Fix non-even problem"
   ]
  },
  {
   "cell_type": "code",
   "execution_count": 53,
   "metadata": {
    "collapsed": false,
    "deletable": true,
    "editable": true,
    "inputHidden": false,
    "outputHidden": false
   },
   "outputs": [],
   "source": [
    "npzfile_path_list = ['dataset-0423x2-0424x2-0425x2-median.npz']"
   ]
  },
  {
   "cell_type": "code",
   "execution_count": 54,
   "metadata": {
    "collapsed": false,
    "deletable": true,
    "editable": true,
    "inputHidden": false,
    "outputHidden": false
   },
   "outputs": [],
   "source": [
    "for one in npzfile_path_list:\n",
    "  npzfile = np.load(one)\n",
    "  x, y1, y2, y3 = npzfile['alloc'], npzfile['rt_50'], npzfile['rt_99'], npzfile['rps']\n",
    "  x = x / 2\n",
    "  np.savez(one, alloc=x ,rt_50=y1, rt_99=y2, rps=y3)"
   ]
  },
  {
   "cell_type": "code",
   "execution_count": null,
   "metadata": {
    "collapsed": false,
    "deletable": true,
    "editable": true,
    "inputHidden": false,
    "outputHidden": false
   },
   "outputs": [],
   "source": []
  }
 ],
 "metadata": {
  "kernel_info": {
   "name": "python3"
  },
  "kernelspec": {
   "display_name": "Python 3",
   "language": "python",
   "name": "python3"
  },
  "language_info": {
   "codemirror_mode": {
    "name": "ipython",
    "version": 3
   },
   "file_extension": ".py",
   "mimetype": "text/x-python",
   "name": "python",
   "nbconvert_exporter": "python",
   "pygments_lexer": "ipython3",
   "version": "3.6.3"
  },
  "nteract": {
   "version": "0.14.3"
  },
  "toc": {
   "base_numbering": 1,
   "nav_menu": {},
   "number_sections": true,
   "sideBar": true,
   "skip_h1_title": false,
   "title_cell": "Table of Contents",
   "title_sidebar": "Contents",
   "toc_cell": false,
   "toc_position": {},
   "toc_section_display": true,
   "toc_window_display": false
  },
  "varInspector": {
   "cols": {
    "lenName": 16,
    "lenType": 16,
    "lenVar": 40
   },
   "kernels_config": {
    "python": {
     "delete_cmd_postfix": "",
     "delete_cmd_prefix": "del ",
     "library": "var_list.py",
     "varRefreshCmd": "print(var_dic_list())"
    },
    "r": {
     "delete_cmd_postfix": ") ",
     "delete_cmd_prefix": "rm(",
     "library": "var_list.r",
     "varRefreshCmd": "cat(var_dic_list()) "
    }
   },
   "types_to_exclude": [
    "module",
    "function",
    "builtin_function_or_method",
    "instance",
    "_Feature"
   ],
   "window_display": false
  }
 },
 "nbformat": 4,
 "nbformat_minor": 0
}
